{
 "cells": [
  {
   "cell_type": "code",
   "execution_count": 1,
   "id": "1a3dacba",
   "metadata": {},
   "outputs": [],
   "source": [
    "import pandas as pd\n",
    "import numpy as np"
   ]
  },
  {
   "cell_type": "code",
   "execution_count": 4,
   "id": "b4c23635",
   "metadata": {},
   "outputs": [],
   "source": [
    "df = pd.read_csv('../BookCodes/diabetes.csv')"
   ]
  },
  {
   "cell_type": "code",
   "execution_count": 134,
   "id": "e9fbfda2",
   "metadata": {
    "scrolled": true
   },
   "outputs": [
    {
     "data": {
      "text/html": [
       "<div>\n",
       "<style scoped>\n",
       "    .dataframe tbody tr th:only-of-type {\n",
       "        vertical-align: middle;\n",
       "    }\n",
       "\n",
       "    .dataframe tbody tr th {\n",
       "        vertical-align: top;\n",
       "    }\n",
       "\n",
       "    .dataframe thead th {\n",
       "        text-align: right;\n",
       "    }\n",
       "</style>\n",
       "<table border=\"1\" class=\"dataframe\">\n",
       "  <thead>\n",
       "    <tr style=\"text-align: right;\">\n",
       "      <th></th>\n",
       "      <th>Pregnancies</th>\n",
       "      <th>Glucose</th>\n",
       "      <th>BloodPressure</th>\n",
       "      <th>SkinThickness</th>\n",
       "      <th>Insulin</th>\n",
       "      <th>BMI</th>\n",
       "      <th>DiabetesPedigreeFunction</th>\n",
       "      <th>Age</th>\n",
       "      <th>Outcome</th>\n",
       "      <th>Age_distribution</th>\n",
       "      <th>Preg_distribution</th>\n",
       "    </tr>\n",
       "  </thead>\n",
       "  <tbody>\n",
       "    <tr>\n",
       "      <th>0</th>\n",
       "      <td>6</td>\n",
       "      <td>148</td>\n",
       "      <td>72</td>\n",
       "      <td>35</td>\n",
       "      <td>0</td>\n",
       "      <td>33.6</td>\n",
       "      <td>0.627</td>\n",
       "      <td>50</td>\n",
       "      <td>1</td>\n",
       "      <td>False</td>\n",
       "      <td>False</td>\n",
       "    </tr>\n",
       "    <tr>\n",
       "      <th>1</th>\n",
       "      <td>1</td>\n",
       "      <td>85</td>\n",
       "      <td>66</td>\n",
       "      <td>29</td>\n",
       "      <td>0</td>\n",
       "      <td>26.6</td>\n",
       "      <td>0.351</td>\n",
       "      <td>31</td>\n",
       "      <td>0</td>\n",
       "      <td>True</td>\n",
       "      <td>True</td>\n",
       "    </tr>\n",
       "    <tr>\n",
       "      <th>2</th>\n",
       "      <td>8</td>\n",
       "      <td>183</td>\n",
       "      <td>64</td>\n",
       "      <td>0</td>\n",
       "      <td>0</td>\n",
       "      <td>23.3</td>\n",
       "      <td>0.672</td>\n",
       "      <td>32</td>\n",
       "      <td>1</td>\n",
       "      <td>True</td>\n",
       "      <td>False</td>\n",
       "    </tr>\n",
       "    <tr>\n",
       "      <th>3</th>\n",
       "      <td>1</td>\n",
       "      <td>89</td>\n",
       "      <td>66</td>\n",
       "      <td>23</td>\n",
       "      <td>94</td>\n",
       "      <td>28.1</td>\n",
       "      <td>0.167</td>\n",
       "      <td>21</td>\n",
       "      <td>0</td>\n",
       "      <td>True</td>\n",
       "      <td>True</td>\n",
       "    </tr>\n",
       "    <tr>\n",
       "      <th>4</th>\n",
       "      <td>0</td>\n",
       "      <td>137</td>\n",
       "      <td>40</td>\n",
       "      <td>35</td>\n",
       "      <td>168</td>\n",
       "      <td>43.1</td>\n",
       "      <td>2.288</td>\n",
       "      <td>33</td>\n",
       "      <td>1</td>\n",
       "      <td>True</td>\n",
       "      <td>True</td>\n",
       "    </tr>\n",
       "  </tbody>\n",
       "</table>\n",
       "</div>"
      ],
      "text/plain": [
       "   Pregnancies  Glucose  BloodPressure  SkinThickness  Insulin   BMI  \\\n",
       "0            6      148             72             35        0  33.6   \n",
       "1            1       85             66             29        0  26.6   \n",
       "2            8      183             64              0        0  23.3   \n",
       "3            1       89             66             23       94  28.1   \n",
       "4            0      137             40             35      168  43.1   \n",
       "\n",
       "   DiabetesPedigreeFunction  Age  Outcome  Age_distribution  Preg_distribution  \n",
       "0                     0.627   50        1             False              False  \n",
       "1                     0.351   31        0              True               True  \n",
       "2                     0.672   32        1              True              False  \n",
       "3                     0.167   21        0              True               True  \n",
       "4                     2.288   33        1              True               True  "
      ]
     },
     "execution_count": 134,
     "metadata": {},
     "output_type": "execute_result"
    }
   ],
   "source": [
    "#visualizing first 5 rows\n",
    "df.head()"
   ]
  },
  {
   "cell_type": "code",
   "execution_count": 38,
   "id": "54fe8f2b",
   "metadata": {},
   "outputs": [
    {
     "name": "stdout",
     "output_type": "stream",
     "text": [
      "0\n"
     ]
    }
   ],
   "source": [
    "for i in range(len(['Age'])):\n",
    "    print(i)"
   ]
  },
  {
   "cell_type": "code",
   "execution_count": 29,
   "id": "214e3ce1",
   "metadata": {},
   "outputs": [],
   "source": [
    "del df['Ages2']"
   ]
  },
  {
   "cell_type": "code",
   "execution_count": 56,
   "id": "1cb7397e",
   "metadata": {
    "scrolled": true
   },
   "outputs": [
    {
     "data": {
      "text/html": [
       "<div>\n",
       "<style scoped>\n",
       "    .dataframe tbody tr th:only-of-type {\n",
       "        vertical-align: middle;\n",
       "    }\n",
       "\n",
       "    .dataframe tbody tr th {\n",
       "        vertical-align: top;\n",
       "    }\n",
       "\n",
       "    .dataframe thead th {\n",
       "        text-align: right;\n",
       "    }\n",
       "</style>\n",
       "<table border=\"1\" class=\"dataframe\">\n",
       "  <thead>\n",
       "    <tr style=\"text-align: right;\">\n",
       "      <th></th>\n",
       "      <th>Pregnancies</th>\n",
       "      <th>Glucose</th>\n",
       "      <th>BloodPressure</th>\n",
       "      <th>SkinThickness</th>\n",
       "      <th>Insulin</th>\n",
       "      <th>BMI</th>\n",
       "      <th>DiabetesPedigreeFunction</th>\n",
       "      <th>Age</th>\n",
       "      <th>Outcome</th>\n",
       "      <th>Age_distribution</th>\n",
       "      <th>Preg_distribution</th>\n",
       "    </tr>\n",
       "  </thead>\n",
       "  <tbody>\n",
       "    <tr>\n",
       "      <th>Pregnancies</th>\n",
       "      <td>1.000000</td>\n",
       "      <td>0.129459</td>\n",
       "      <td>0.141282</td>\n",
       "      <td>-0.081672</td>\n",
       "      <td>-0.073535</td>\n",
       "      <td>0.017683</td>\n",
       "      <td>-0.033523</td>\n",
       "      <td>0.544341</td>\n",
       "      <td>0.221898</td>\n",
       "      <td>-0.235312</td>\n",
       "      <td>-0.849209</td>\n",
       "    </tr>\n",
       "    <tr>\n",
       "      <th>Glucose</th>\n",
       "      <td>0.129459</td>\n",
       "      <td>1.000000</td>\n",
       "      <td>0.152590</td>\n",
       "      <td>0.057328</td>\n",
       "      <td>0.331357</td>\n",
       "      <td>0.221071</td>\n",
       "      <td>0.137337</td>\n",
       "      <td>0.263514</td>\n",
       "      <td>0.466581</td>\n",
       "      <td>-0.211390</td>\n",
       "      <td>-0.120357</td>\n",
       "    </tr>\n",
       "    <tr>\n",
       "      <th>BloodPressure</th>\n",
       "      <td>0.141282</td>\n",
       "      <td>0.152590</td>\n",
       "      <td>1.000000</td>\n",
       "      <td>0.207371</td>\n",
       "      <td>0.088933</td>\n",
       "      <td>0.281805</td>\n",
       "      <td>0.041265</td>\n",
       "      <td>0.239528</td>\n",
       "      <td>0.065068</td>\n",
       "      <td>-0.173417</td>\n",
       "      <td>-0.157533</td>\n",
       "    </tr>\n",
       "    <tr>\n",
       "      <th>SkinThickness</th>\n",
       "      <td>-0.081672</td>\n",
       "      <td>0.057328</td>\n",
       "      <td>0.207371</td>\n",
       "      <td>1.000000</td>\n",
       "      <td>0.436783</td>\n",
       "      <td>0.392573</td>\n",
       "      <td>0.183928</td>\n",
       "      <td>-0.113970</td>\n",
       "      <td>0.074752</td>\n",
       "      <td>0.110424</td>\n",
       "      <td>0.081378</td>\n",
       "    </tr>\n",
       "    <tr>\n",
       "      <th>Insulin</th>\n",
       "      <td>-0.073535</td>\n",
       "      <td>0.331357</td>\n",
       "      <td>0.088933</td>\n",
       "      <td>0.436783</td>\n",
       "      <td>1.000000</td>\n",
       "      <td>0.197859</td>\n",
       "      <td>0.185071</td>\n",
       "      <td>-0.042163</td>\n",
       "      <td>0.130548</td>\n",
       "      <td>-0.013593</td>\n",
       "      <td>0.076548</td>\n",
       "    </tr>\n",
       "    <tr>\n",
       "      <th>BMI</th>\n",
       "      <td>0.017683</td>\n",
       "      <td>0.221071</td>\n",
       "      <td>0.281805</td>\n",
       "      <td>0.392573</td>\n",
       "      <td>0.197859</td>\n",
       "      <td>1.000000</td>\n",
       "      <td>0.140647</td>\n",
       "      <td>0.036242</td>\n",
       "      <td>0.292695</td>\n",
       "      <td>0.077671</td>\n",
       "      <td>-0.027984</td>\n",
       "    </tr>\n",
       "    <tr>\n",
       "      <th>DiabetesPedigreeFunction</th>\n",
       "      <td>-0.033523</td>\n",
       "      <td>0.137337</td>\n",
       "      <td>0.041265</td>\n",
       "      <td>0.183928</td>\n",
       "      <td>0.185071</td>\n",
       "      <td>0.140647</td>\n",
       "      <td>1.000000</td>\n",
       "      <td>0.033561</td>\n",
       "      <td>0.173844</td>\n",
       "      <td>-0.029326</td>\n",
       "      <td>0.038773</td>\n",
       "    </tr>\n",
       "    <tr>\n",
       "      <th>Age</th>\n",
       "      <td>0.544341</td>\n",
       "      <td>0.263514</td>\n",
       "      <td>0.239528</td>\n",
       "      <td>-0.113970</td>\n",
       "      <td>-0.042163</td>\n",
       "      <td>0.036242</td>\n",
       "      <td>0.033561</td>\n",
       "      <td>1.000000</td>\n",
       "      <td>0.238356</td>\n",
       "      <td>-0.756485</td>\n",
       "      <td>-0.551516</td>\n",
       "    </tr>\n",
       "    <tr>\n",
       "      <th>Outcome</th>\n",
       "      <td>0.221898</td>\n",
       "      <td>0.466581</td>\n",
       "      <td>0.065068</td>\n",
       "      <td>0.074752</td>\n",
       "      <td>0.130548</td>\n",
       "      <td>0.292695</td>\n",
       "      <td>0.173844</td>\n",
       "      <td>0.238356</td>\n",
       "      <td>1.000000</td>\n",
       "      <td>-0.101925</td>\n",
       "      <td>-0.203183</td>\n",
       "    </tr>\n",
       "    <tr>\n",
       "      <th>Age_distribution</th>\n",
       "      <td>-0.235312</td>\n",
       "      <td>-0.211390</td>\n",
       "      <td>-0.173417</td>\n",
       "      <td>0.110424</td>\n",
       "      <td>-0.013593</td>\n",
       "      <td>0.077671</td>\n",
       "      <td>-0.029326</td>\n",
       "      <td>-0.756485</td>\n",
       "      <td>-0.101925</td>\n",
       "      <td>1.000000</td>\n",
       "      <td>0.262951</td>\n",
       "    </tr>\n",
       "    <tr>\n",
       "      <th>Preg_distribution</th>\n",
       "      <td>-0.849209</td>\n",
       "      <td>-0.120357</td>\n",
       "      <td>-0.157533</td>\n",
       "      <td>0.081378</td>\n",
       "      <td>0.076548</td>\n",
       "      <td>-0.027984</td>\n",
       "      <td>0.038773</td>\n",
       "      <td>-0.551516</td>\n",
       "      <td>-0.203183</td>\n",
       "      <td>0.262951</td>\n",
       "      <td>1.000000</td>\n",
       "    </tr>\n",
       "  </tbody>\n",
       "</table>\n",
       "</div>"
      ],
      "text/plain": [
       "                          Pregnancies   Glucose  BloodPressure  SkinThickness  \\\n",
       "Pregnancies                  1.000000  0.129459       0.141282      -0.081672   \n",
       "Glucose                      0.129459  1.000000       0.152590       0.057328   \n",
       "BloodPressure                0.141282  0.152590       1.000000       0.207371   \n",
       "SkinThickness               -0.081672  0.057328       0.207371       1.000000   \n",
       "Insulin                     -0.073535  0.331357       0.088933       0.436783   \n",
       "BMI                          0.017683  0.221071       0.281805       0.392573   \n",
       "DiabetesPedigreeFunction    -0.033523  0.137337       0.041265       0.183928   \n",
       "Age                          0.544341  0.263514       0.239528      -0.113970   \n",
       "Outcome                      0.221898  0.466581       0.065068       0.074752   \n",
       "Age_distribution            -0.235312 -0.211390      -0.173417       0.110424   \n",
       "Preg_distribution           -0.849209 -0.120357      -0.157533       0.081378   \n",
       "\n",
       "                           Insulin       BMI  DiabetesPedigreeFunction  \\\n",
       "Pregnancies              -0.073535  0.017683                 -0.033523   \n",
       "Glucose                   0.331357  0.221071                  0.137337   \n",
       "BloodPressure             0.088933  0.281805                  0.041265   \n",
       "SkinThickness             0.436783  0.392573                  0.183928   \n",
       "Insulin                   1.000000  0.197859                  0.185071   \n",
       "BMI                       0.197859  1.000000                  0.140647   \n",
       "DiabetesPedigreeFunction  0.185071  0.140647                  1.000000   \n",
       "Age                      -0.042163  0.036242                  0.033561   \n",
       "Outcome                   0.130548  0.292695                  0.173844   \n",
       "Age_distribution         -0.013593  0.077671                 -0.029326   \n",
       "Preg_distribution         0.076548 -0.027984                  0.038773   \n",
       "\n",
       "                               Age   Outcome  Age_distribution  \\\n",
       "Pregnancies               0.544341  0.221898         -0.235312   \n",
       "Glucose                   0.263514  0.466581         -0.211390   \n",
       "BloodPressure             0.239528  0.065068         -0.173417   \n",
       "SkinThickness            -0.113970  0.074752          0.110424   \n",
       "Insulin                  -0.042163  0.130548         -0.013593   \n",
       "BMI                       0.036242  0.292695          0.077671   \n",
       "DiabetesPedigreeFunction  0.033561  0.173844         -0.029326   \n",
       "Age                       1.000000  0.238356         -0.756485   \n",
       "Outcome                   0.238356  1.000000         -0.101925   \n",
       "Age_distribution         -0.756485 -0.101925          1.000000   \n",
       "Preg_distribution        -0.551516 -0.203183          0.262951   \n",
       "\n",
       "                          Preg_distribution  \n",
       "Pregnancies                       -0.849209  \n",
       "Glucose                           -0.120357  \n",
       "BloodPressure                     -0.157533  \n",
       "SkinThickness                      0.081378  \n",
       "Insulin                            0.076548  \n",
       "BMI                               -0.027984  \n",
       "DiabetesPedigreeFunction           0.038773  \n",
       "Age                               -0.551516  \n",
       "Outcome                           -0.203183  \n",
       "Age_distribution                   0.262951  \n",
       "Preg_distribution                  1.000000  "
      ]
     },
     "execution_count": 56,
     "metadata": {},
     "output_type": "execute_result"
    }
   ],
   "source": [
    "df.corr(method = 'pearson')"
   ]
  },
  {
   "cell_type": "code",
   "execution_count": 17,
   "id": "d24b1050",
   "metadata": {
    "scrolled": true
   },
   "outputs": [
    {
     "data": {
      "text/html": [
       "<div>\n",
       "<style scoped>\n",
       "    .dataframe tbody tr th:only-of-type {\n",
       "        vertical-align: middle;\n",
       "    }\n",
       "\n",
       "    .dataframe tbody tr th {\n",
       "        vertical-align: top;\n",
       "    }\n",
       "\n",
       "    .dataframe thead th {\n",
       "        text-align: right;\n",
       "    }\n",
       "</style>\n",
       "<table border=\"1\" class=\"dataframe\">\n",
       "  <thead>\n",
       "    <tr style=\"text-align: right;\">\n",
       "      <th></th>\n",
       "      <th>Pregnancies</th>\n",
       "      <th>Glucose</th>\n",
       "      <th>BloodPressure</th>\n",
       "      <th>SkinThickness</th>\n",
       "      <th>Insulin</th>\n",
       "      <th>BMI</th>\n",
       "      <th>DiabetesPedigreeFunction</th>\n",
       "      <th>Age</th>\n",
       "      <th>Outcome</th>\n",
       "    </tr>\n",
       "  </thead>\n",
       "  <tbody>\n",
       "    <tr>\n",
       "      <th>count</th>\n",
       "      <td>768.000000</td>\n",
       "      <td>768.000000</td>\n",
       "      <td>768.000000</td>\n",
       "      <td>768.000000</td>\n",
       "      <td>768.000000</td>\n",
       "      <td>768.000000</td>\n",
       "      <td>768.000000</td>\n",
       "      <td>768.000000</td>\n",
       "      <td>768.000000</td>\n",
       "    </tr>\n",
       "    <tr>\n",
       "      <th>mean</th>\n",
       "      <td>3.845052</td>\n",
       "      <td>120.894531</td>\n",
       "      <td>69.105469</td>\n",
       "      <td>20.536458</td>\n",
       "      <td>79.799479</td>\n",
       "      <td>31.992578</td>\n",
       "      <td>0.471876</td>\n",
       "      <td>33.240885</td>\n",
       "      <td>0.348958</td>\n",
       "    </tr>\n",
       "    <tr>\n",
       "      <th>std</th>\n",
       "      <td>3.369578</td>\n",
       "      <td>31.972618</td>\n",
       "      <td>19.355807</td>\n",
       "      <td>15.952218</td>\n",
       "      <td>115.244002</td>\n",
       "      <td>7.884160</td>\n",
       "      <td>0.331329</td>\n",
       "      <td>11.760232</td>\n",
       "      <td>0.476951</td>\n",
       "    </tr>\n",
       "    <tr>\n",
       "      <th>min</th>\n",
       "      <td>0.000000</td>\n",
       "      <td>0.000000</td>\n",
       "      <td>0.000000</td>\n",
       "      <td>0.000000</td>\n",
       "      <td>0.000000</td>\n",
       "      <td>0.000000</td>\n",
       "      <td>0.078000</td>\n",
       "      <td>21.000000</td>\n",
       "      <td>0.000000</td>\n",
       "    </tr>\n",
       "    <tr>\n",
       "      <th>25%</th>\n",
       "      <td>1.000000</td>\n",
       "      <td>99.000000</td>\n",
       "      <td>62.000000</td>\n",
       "      <td>0.000000</td>\n",
       "      <td>0.000000</td>\n",
       "      <td>27.300000</td>\n",
       "      <td>0.243750</td>\n",
       "      <td>24.000000</td>\n",
       "      <td>0.000000</td>\n",
       "    </tr>\n",
       "    <tr>\n",
       "      <th>50%</th>\n",
       "      <td>3.000000</td>\n",
       "      <td>117.000000</td>\n",
       "      <td>72.000000</td>\n",
       "      <td>23.000000</td>\n",
       "      <td>30.500000</td>\n",
       "      <td>32.000000</td>\n",
       "      <td>0.372500</td>\n",
       "      <td>29.000000</td>\n",
       "      <td>0.000000</td>\n",
       "    </tr>\n",
       "    <tr>\n",
       "      <th>75%</th>\n",
       "      <td>6.000000</td>\n",
       "      <td>140.250000</td>\n",
       "      <td>80.000000</td>\n",
       "      <td>32.000000</td>\n",
       "      <td>127.250000</td>\n",
       "      <td>36.600000</td>\n",
       "      <td>0.626250</td>\n",
       "      <td>41.000000</td>\n",
       "      <td>1.000000</td>\n",
       "    </tr>\n",
       "    <tr>\n",
       "      <th>max</th>\n",
       "      <td>17.000000</td>\n",
       "      <td>199.000000</td>\n",
       "      <td>122.000000</td>\n",
       "      <td>99.000000</td>\n",
       "      <td>846.000000</td>\n",
       "      <td>67.100000</td>\n",
       "      <td>2.420000</td>\n",
       "      <td>81.000000</td>\n",
       "      <td>1.000000</td>\n",
       "    </tr>\n",
       "  </tbody>\n",
       "</table>\n",
       "</div>"
      ],
      "text/plain": [
       "       Pregnancies     Glucose  BloodPressure  SkinThickness     Insulin  \\\n",
       "count   768.000000  768.000000     768.000000     768.000000  768.000000   \n",
       "mean      3.845052  120.894531      69.105469      20.536458   79.799479   \n",
       "std       3.369578   31.972618      19.355807      15.952218  115.244002   \n",
       "min       0.000000    0.000000       0.000000       0.000000    0.000000   \n",
       "25%       1.000000   99.000000      62.000000       0.000000    0.000000   \n",
       "50%       3.000000  117.000000      72.000000      23.000000   30.500000   \n",
       "75%       6.000000  140.250000      80.000000      32.000000  127.250000   \n",
       "max      17.000000  199.000000     122.000000      99.000000  846.000000   \n",
       "\n",
       "              BMI  DiabetesPedigreeFunction         Age     Outcome  \n",
       "count  768.000000                768.000000  768.000000  768.000000  \n",
       "mean    31.992578                  0.471876   33.240885    0.348958  \n",
       "std      7.884160                  0.331329   11.760232    0.476951  \n",
       "min      0.000000                  0.078000   21.000000    0.000000  \n",
       "25%     27.300000                  0.243750   24.000000    0.000000  \n",
       "50%     32.000000                  0.372500   29.000000    0.000000  \n",
       "75%     36.600000                  0.626250   41.000000    1.000000  \n",
       "max     67.100000                  2.420000   81.000000    1.000000  "
      ]
     },
     "execution_count": 17,
     "metadata": {},
     "output_type": "execute_result"
    }
   ],
   "source": [
    "df.describe()"
   ]
  },
  {
   "cell_type": "code",
   "execution_count": 7,
   "id": "774b79dc",
   "metadata": {
    "scrolled": true
   },
   "outputs": [
    {
     "data": {
      "text/plain": [
       "Index(['Pregnancies', 'Glucose', 'BloodPressure', 'SkinThickness', 'Insulin',\n",
       "       'BMI', 'DiabetesPedigreeFunction', 'Age', 'Outcome'],\n",
       "      dtype='object')"
      ]
     },
     "execution_count": 7,
     "metadata": {},
     "output_type": "execute_result"
    }
   ],
   "source": [
    "df.columns"
   ]
  },
  {
   "cell_type": "code",
   "execution_count": 8,
   "id": "2c0c7608",
   "metadata": {
    "scrolled": true
   },
   "outputs": [
    {
     "data": {
      "text/plain": [
       "Pregnancies                   3.845052\n",
       "Glucose                     120.894531\n",
       "BloodPressure                69.105469\n",
       "SkinThickness                20.536458\n",
       "Insulin                      79.799479\n",
       "BMI                          31.992578\n",
       "DiabetesPedigreeFunction      0.471876\n",
       "Age                          33.240885\n",
       "Outcome                       0.348958\n",
       "dtype: float64"
      ]
     },
     "execution_count": 8,
     "metadata": {},
     "output_type": "execute_result"
    }
   ],
   "source": [
    "df.mean()"
   ]
  },
  {
   "cell_type": "markdown",
   "id": "9951a317",
   "metadata": {},
   "source": [
    "Pregnancies - number of times pregnant\n",
    "Glucose - (in 2 hours after eating, mg/dL) normal level - less than 110 mg/dL\n",
    "BloodPressure - measured in mm Hg; normal is less than 80 mm Hg; diabetes -> high blood pressure\n",
    "SkinThickness - value used to estimate body fat;  23 mm - females; strong corelation with HT and Diabetes\n",
    "Insulin - \n",
    "BMI - Body mass index (weight in kg/(height in m)^2) \n",
    "    Underweight: BMI is less than 18.5\n",
    "    Normal weight: BMI is 18.5 to 24.9\n",
    "    Overweight: BMI is 25 to 29.9\n",
    "    Obese: BMI is 30 or more\n",
    "Diabetes pedigree function\n",
    "Age\n",
    "Outcome 34,9%"
   ]
  },
  {
   "cell_type": "markdown",
   "id": "57edf274",
   "metadata": {},
   "source": [
    "# Pregnancies"
   ]
  },
  {
   "cell_type": "code",
   "execution_count": 53,
   "id": "f6150a37",
   "metadata": {},
   "outputs": [
    {
     "data": {
      "text/html": [
       "<div>\n",
       "<style scoped>\n",
       "    .dataframe tbody tr th:only-of-type {\n",
       "        vertical-align: middle;\n",
       "    }\n",
       "\n",
       "    .dataframe tbody tr th {\n",
       "        vertical-align: top;\n",
       "    }\n",
       "\n",
       "    .dataframe thead th {\n",
       "        text-align: right;\n",
       "    }\n",
       "</style>\n",
       "<table border=\"1\" class=\"dataframe\">\n",
       "  <thead>\n",
       "    <tr style=\"text-align: right;\">\n",
       "      <th></th>\n",
       "      <th>Pregnancies</th>\n",
       "      <th>Preg_distribution</th>\n",
       "      <th>Outcome</th>\n",
       "    </tr>\n",
       "  </thead>\n",
       "  <tbody>\n",
       "    <tr>\n",
       "      <th>0</th>\n",
       "      <td>6</td>\n",
       "      <td>False</td>\n",
       "      <td>1</td>\n",
       "    </tr>\n",
       "    <tr>\n",
       "      <th>1</th>\n",
       "      <td>1</td>\n",
       "      <td>True</td>\n",
       "      <td>0</td>\n",
       "    </tr>\n",
       "    <tr>\n",
       "      <th>2</th>\n",
       "      <td>8</td>\n",
       "      <td>False</td>\n",
       "      <td>1</td>\n",
       "    </tr>\n",
       "    <tr>\n",
       "      <th>3</th>\n",
       "      <td>1</td>\n",
       "      <td>True</td>\n",
       "      <td>0</td>\n",
       "    </tr>\n",
       "    <tr>\n",
       "      <th>4</th>\n",
       "      <td>0</td>\n",
       "      <td>True</td>\n",
       "      <td>1</td>\n",
       "    </tr>\n",
       "    <tr>\n",
       "      <th>...</th>\n",
       "      <td>...</td>\n",
       "      <td>...</td>\n",
       "      <td>...</td>\n",
       "    </tr>\n",
       "    <tr>\n",
       "      <th>763</th>\n",
       "      <td>10</td>\n",
       "      <td>False</td>\n",
       "      <td>0</td>\n",
       "    </tr>\n",
       "    <tr>\n",
       "      <th>764</th>\n",
       "      <td>2</td>\n",
       "      <td>True</td>\n",
       "      <td>0</td>\n",
       "    </tr>\n",
       "    <tr>\n",
       "      <th>765</th>\n",
       "      <td>5</td>\n",
       "      <td>False</td>\n",
       "      <td>0</td>\n",
       "    </tr>\n",
       "    <tr>\n",
       "      <th>766</th>\n",
       "      <td>1</td>\n",
       "      <td>True</td>\n",
       "      <td>1</td>\n",
       "    </tr>\n",
       "    <tr>\n",
       "      <th>767</th>\n",
       "      <td>1</td>\n",
       "      <td>True</td>\n",
       "      <td>0</td>\n",
       "    </tr>\n",
       "  </tbody>\n",
       "</table>\n",
       "<p>768 rows × 3 columns</p>\n",
       "</div>"
      ],
      "text/plain": [
       "     Pregnancies  Preg_distribution  Outcome\n",
       "0              6              False        1\n",
       "1              1               True        0\n",
       "2              8              False        1\n",
       "3              1               True        0\n",
       "4              0               True        1\n",
       "..           ...                ...      ...\n",
       "763           10              False        0\n",
       "764            2               True        0\n",
       "765            5              False        0\n",
       "766            1               True        1\n",
       "767            1               True        0\n",
       "\n",
       "[768 rows x 3 columns]"
      ]
     },
     "execution_count": 53,
     "metadata": {},
     "output_type": "execute_result"
    }
   ],
   "source": [
    "df[['Pregnancies','Preg_distribution','Outcome']]"
   ]
  },
  {
   "cell_type": "code",
   "execution_count": 12,
   "id": "ca1e31cf",
   "metadata": {},
   "outputs": [
    {
     "data": {
      "text/plain": [
       "3.8450520833333335"
      ]
     },
     "execution_count": 12,
     "metadata": {},
     "output_type": "execute_result"
    }
   ],
   "source": [
    "df['Pregnancies'].mean()"
   ]
  },
  {
   "cell_type": "code",
   "execution_count": 44,
   "id": "ee9bef1c",
   "metadata": {
    "scrolled": false
   },
   "outputs": [
    {
     "name": "stdout",
     "output_type": "stream",
     "text": [
      "True - 3.5581737849779085\n",
      "False - 6.033707865168539\n"
     ]
    }
   ],
   "source": [
    "for key in dict(df['Age_distribution'].value_counts()):\n",
    "                print(f\"{key} - {df[df['Age_distribution'] == key]['Pregnancies'].mean()}\")"
   ]
  },
  {
   "cell_type": "code",
   "execution_count": 42,
   "id": "fd140b7c",
   "metadata": {},
   "outputs": [],
   "source": [
    "df['Age_distribution'] = df['Age'].apply(lambda x: x < 50 )"
   ]
  },
  {
   "cell_type": "code",
   "execution_count": 47,
   "id": "a227b95a",
   "metadata": {},
   "outputs": [],
   "source": [
    "df['Preg_distribution'] = df['Pregnancies'].apply(lambda x: x <= 4 )"
   ]
  },
  {
   "cell_type": "code",
   "execution_count": 50,
   "id": "daacab82",
   "metadata": {
    "scrolled": true
   },
   "outputs": [
    {
     "name": "stdout",
     "output_type": "stream",
     "text": [
      "True - 0.2764227642276423\n",
      "False - 0.4782608695652174\n"
     ]
    }
   ],
   "source": [
    "for key in dict(df['Preg_distribution'].value_counts()):\n",
    "                print(f\"{key} - {df[df['Preg_distribution'] == key]['Outcome'].mean()}\")\n",
    "#False - femei cu mai mult de 4 pregnacies -> aproape jumatate din ele au diabet\n",
    "#True - femei care au avut cel mult 4 pregnancies -> 27 % din ele au diabet"
   ]
  },
  {
   "cell_type": "code",
   "execution_count": 52,
   "id": "abd62b7d",
   "metadata": {},
   "outputs": [
    {
     "data": {
      "text/plain": [
       "3.0"
      ]
     },
     "execution_count": 52,
     "metadata": {},
     "output_type": "execute_result"
    }
   ],
   "source": [
    "df['Pregnancies'].median()\n",
    "#"
   ]
  },
  {
   "cell_type": "code",
   "execution_count": 55,
   "id": "c4d0fa71",
   "metadata": {},
   "outputs": [
    {
     "data": {
      "text/plain": [
       "0    1\n",
       "dtype: int64"
      ]
     },
     "execution_count": 55,
     "metadata": {},
     "output_type": "execute_result"
    }
   ],
   "source": [
    "df['Pregnancies'].mode()\n",
    "#majoritatea au doar un copil"
   ]
  },
  {
   "cell_type": "code",
   "execution_count": 59,
   "id": "1e9ad2de",
   "metadata": {},
   "outputs": [
    {
     "data": {
      "text/plain": [
       "3.3695780626988694"
      ]
     },
     "execution_count": 59,
     "metadata": {},
     "output_type": "execute_result"
    }
   ],
   "source": [
    "df['Pregnancies'].std()"
   ]
  },
  {
   "cell_type": "code",
   "execution_count": 60,
   "id": "14e099ec",
   "metadata": {},
   "outputs": [
    {
     "data": {
      "text/plain": [
       "11.354056320621465"
      ]
     },
     "execution_count": 60,
     "metadata": {},
     "output_type": "execute_result"
    }
   ],
   "source": [
    "df['Pregnancies'].var()"
   ]
  },
  {
   "cell_type": "code",
   "execution_count": 51,
   "id": "a331dccf",
   "metadata": {},
   "outputs": [
    {
     "data": {
      "text/plain": [
       "0.2218981530339867"
      ]
     },
     "execution_count": 51,
     "metadata": {},
     "output_type": "execute_result"
    }
   ],
   "source": [
    "df['Pregnancies'].corr(df['Outcome'])"
   ]
  },
  {
   "cell_type": "code",
   "execution_count": 58,
   "id": "c3521bd3",
   "metadata": {},
   "outputs": [
    {
     "data": {
      "text/plain": [
       "-0.2031832271968365"
      ]
     },
     "execution_count": 58,
     "metadata": {},
     "output_type": "execute_result"
    }
   ],
   "source": [
    "df['Preg_distribution'].corr(df['Outcome'])"
   ]
  },
  {
   "cell_type": "code",
   "execution_count": 57,
   "id": "a9687eca",
   "metadata": {},
   "outputs": [
    {
     "data": {
      "text/plain": [
       "0.5443412284023389"
      ]
     },
     "execution_count": 57,
     "metadata": {},
     "output_type": "execute_result"
    }
   ],
   "source": [
    "df['Pregnancies'].corr(df['Age'])"
   ]
  },
  {
   "cell_type": "markdown",
   "id": "fa276a53",
   "metadata": {},
   "source": [
    "# Glucose\n"
   ]
  },
  {
   "cell_type": "code",
   "execution_count": 62,
   "id": "276cedd7",
   "metadata": {},
   "outputs": [],
   "source": [
    "glucose = df[['Glucose','Outcome']]"
   ]
  },
  {
   "cell_type": "code",
   "execution_count": 98,
   "id": "80e99429",
   "metadata": {},
   "outputs": [
    {
     "data": {
      "text/html": [
       "<div>\n",
       "<style scoped>\n",
       "    .dataframe tbody tr th:only-of-type {\n",
       "        vertical-align: middle;\n",
       "    }\n",
       "\n",
       "    .dataframe tbody tr th {\n",
       "        vertical-align: top;\n",
       "    }\n",
       "\n",
       "    .dataframe thead th {\n",
       "        text-align: right;\n",
       "    }\n",
       "</style>\n",
       "<table border=\"1\" class=\"dataframe\">\n",
       "  <thead>\n",
       "    <tr style=\"text-align: right;\">\n",
       "      <th></th>\n",
       "      <th>Glucose</th>\n",
       "      <th>Outcome</th>\n",
       "      <th>Normal</th>\n",
       "      <th>Low</th>\n",
       "    </tr>\n",
       "  </thead>\n",
       "  <tbody>\n",
       "    <tr>\n",
       "      <th>0</th>\n",
       "      <td>148</td>\n",
       "      <td>1</td>\n",
       "      <td>high</td>\n",
       "      <td>normal</td>\n",
       "    </tr>\n",
       "    <tr>\n",
       "      <th>1</th>\n",
       "      <td>85</td>\n",
       "      <td>0</td>\n",
       "      <td>normal</td>\n",
       "      <td>normal</td>\n",
       "    </tr>\n",
       "    <tr>\n",
       "      <th>2</th>\n",
       "      <td>183</td>\n",
       "      <td>1</td>\n",
       "      <td>high</td>\n",
       "      <td>normal</td>\n",
       "    </tr>\n",
       "    <tr>\n",
       "      <th>3</th>\n",
       "      <td>89</td>\n",
       "      <td>0</td>\n",
       "      <td>normal</td>\n",
       "      <td>normal</td>\n",
       "    </tr>\n",
       "    <tr>\n",
       "      <th>4</th>\n",
       "      <td>137</td>\n",
       "      <td>1</td>\n",
       "      <td>high</td>\n",
       "      <td>normal</td>\n",
       "    </tr>\n",
       "    <tr>\n",
       "      <th>...</th>\n",
       "      <td>...</td>\n",
       "      <td>...</td>\n",
       "      <td>...</td>\n",
       "      <td>...</td>\n",
       "    </tr>\n",
       "    <tr>\n",
       "      <th>763</th>\n",
       "      <td>101</td>\n",
       "      <td>0</td>\n",
       "      <td>normal</td>\n",
       "      <td>normal</td>\n",
       "    </tr>\n",
       "    <tr>\n",
       "      <th>764</th>\n",
       "      <td>122</td>\n",
       "      <td>0</td>\n",
       "      <td>high</td>\n",
       "      <td>normal</td>\n",
       "    </tr>\n",
       "    <tr>\n",
       "      <th>765</th>\n",
       "      <td>121</td>\n",
       "      <td>0</td>\n",
       "      <td>high</td>\n",
       "      <td>normal</td>\n",
       "    </tr>\n",
       "    <tr>\n",
       "      <th>766</th>\n",
       "      <td>126</td>\n",
       "      <td>1</td>\n",
       "      <td>high</td>\n",
       "      <td>normal</td>\n",
       "    </tr>\n",
       "    <tr>\n",
       "      <th>767</th>\n",
       "      <td>93</td>\n",
       "      <td>0</td>\n",
       "      <td>normal</td>\n",
       "      <td>normal</td>\n",
       "    </tr>\n",
       "  </tbody>\n",
       "</table>\n",
       "<p>768 rows × 4 columns</p>\n",
       "</div>"
      ],
      "text/plain": [
       "     Glucose  Outcome  Normal     Low\n",
       "0        148        1    high  normal\n",
       "1         85        0  normal  normal\n",
       "2        183        1    high  normal\n",
       "3         89        0  normal  normal\n",
       "4        137        1    high  normal\n",
       "..       ...      ...     ...     ...\n",
       "763      101        0  normal  normal\n",
       "764      122        0    high  normal\n",
       "765      121        0    high  normal\n",
       "766      126        1    high  normal\n",
       "767       93        0  normal  normal\n",
       "\n",
       "[768 rows x 4 columns]"
      ]
     },
     "execution_count": 98,
     "metadata": {},
     "output_type": "execute_result"
    }
   ],
   "source": [
    "glucose"
   ]
  },
  {
   "cell_type": "code",
   "execution_count": 96,
   "id": "bf6a94a0",
   "metadata": {
    "scrolled": true
   },
   "outputs": [
    {
     "name": "stderr",
     "output_type": "stream",
     "text": [
      "c:\\users\\pulbe\\appdata\\local\\programs\\python\\python37\\lib\\site-packages\\ipykernel_launcher.py:1: SettingWithCopyWarning: \n",
      "A value is trying to be set on a copy of a slice from a DataFrame.\n",
      "Try using .loc[row_indexer,col_indexer] = value instead\n",
      "\n",
      "See the caveats in the documentation: https://pandas.pydata.org/pandas-docs/stable/user_guide/indexing.html#returning-a-view-versus-a-copy\n",
      "  \"\"\"Entry point for launching an IPython kernel.\n"
     ]
    }
   ],
   "source": [
    "glucose['Normal'] = glucose['Glucose'].apply(lambda x: x < 110 )"
   ]
  },
  {
   "cell_type": "code",
   "execution_count": 97,
   "id": "ebe2a7cf",
   "metadata": {},
   "outputs": [
    {
     "name": "stderr",
     "output_type": "stream",
     "text": [
      "c:\\users\\pulbe\\appdata\\local\\programs\\python\\python37\\lib\\site-packages\\ipykernel_launcher.py:1: SettingWithCopyWarning: \n",
      "A value is trying to be set on a copy of a slice from a DataFrame.\n",
      "Try using .loc[row_indexer,col_indexer] = value instead\n",
      "\n",
      "See the caveats in the documentation: https://pandas.pydata.org/pandas-docs/stable/user_guide/indexing.html#returning-a-view-versus-a-copy\n",
      "  \"\"\"Entry point for launching an IPython kernel.\n"
     ]
    }
   ],
   "source": [
    "glucose['Normal'] = glucose['Normal'].map({False: 'high', True : 'normal'})"
   ]
  },
  {
   "cell_type": "code",
   "execution_count": 99,
   "id": "3621d991",
   "metadata": {},
   "outputs": [
    {
     "data": {
      "text/plain": [
       "high      454\n",
       "normal    314\n",
       "Name: Normal, dtype: int64"
      ]
     },
     "execution_count": 99,
     "metadata": {},
     "output_type": "execute_result"
    }
   ],
   "source": [
    "glucose['Normal'].value_counts()\n",
    "#"
   ]
  },
  {
   "cell_type": "code",
   "execution_count": 100,
   "id": "70ebe88d",
   "metadata": {},
   "outputs": [
    {
     "name": "stdout",
     "output_type": "stream",
     "text": [
      "high - 0.4933920704845815\n",
      "normal - 0.14012738853503184\n"
     ]
    }
   ],
   "source": [
    "for key in dict(glucose['Normal'].value_counts()):\n",
    "                print(f\"{key} - {glucose[glucose['Normal'] == key]['Outcome'].mean()}\")"
   ]
  },
  {
   "cell_type": "code",
   "execution_count": null,
   "id": "79305f79",
   "metadata": {},
   "outputs": [],
   "source": [
    "# females with high glucose levels are more prone to diabetes\n"
   ]
  },
  {
   "cell_type": "code",
   "execution_count": 101,
   "id": "13aa6b10",
   "metadata": {
    "scrolled": true
   },
   "outputs": [
    {
     "name": "stderr",
     "output_type": "stream",
     "text": [
      "c:\\users\\pulbe\\appdata\\local\\programs\\python\\python37\\lib\\site-packages\\ipykernel_launcher.py:1: SettingWithCopyWarning: \n",
      "A value is trying to be set on a copy of a slice from a DataFrame.\n",
      "Try using .loc[row_indexer,col_indexer] = value instead\n",
      "\n",
      "See the caveats in the documentation: https://pandas.pydata.org/pandas-docs/stable/user_guide/indexing.html#returning-a-view-versus-a-copy\n",
      "  \"\"\"Entry point for launching an IPython kernel.\n"
     ]
    }
   ],
   "source": [
    "glucose['Low'] = glucose['Glucose'].apply(lambda x: x < 80 )"
   ]
  },
  {
   "cell_type": "code",
   "execution_count": 102,
   "id": "5060a451",
   "metadata": {
    "scrolled": false
   },
   "outputs": [
    {
     "name": "stderr",
     "output_type": "stream",
     "text": [
      "c:\\users\\pulbe\\appdata\\local\\programs\\python\\python37\\lib\\site-packages\\ipykernel_launcher.py:1: SettingWithCopyWarning: \n",
      "A value is trying to be set on a copy of a slice from a DataFrame.\n",
      "Try using .loc[row_indexer,col_indexer] = value instead\n",
      "\n",
      "See the caveats in the documentation: https://pandas.pydata.org/pandas-docs/stable/user_guide/indexing.html#returning-a-view-versus-a-copy\n",
      "  \"\"\"Entry point for launching an IPython kernel.\n"
     ]
    }
   ],
   "source": [
    "glucose['Low'] = glucose['Low'].map({False: 'normal', True : 'low'})"
   ]
  },
  {
   "cell_type": "code",
   "execution_count": 103,
   "id": "aaeb3466",
   "metadata": {
    "scrolled": true
   },
   "outputs": [
    {
     "data": {
      "text/plain": [
       "normal    727\n",
       "low        41\n",
       "Name: Low, dtype: int64"
      ]
     },
     "execution_count": 103,
     "metadata": {},
     "output_type": "execute_result"
    }
   ],
   "source": [
    "glucose['Low'].value_counts()"
   ]
  },
  {
   "cell_type": "code",
   "execution_count": 104,
   "id": "81e16e6c",
   "metadata": {},
   "outputs": [
    {
     "name": "stdout",
     "output_type": "stream",
     "text": [
      "normal - 0.36451169188445665\n",
      "low - 0.07317073170731707\n"
     ]
    }
   ],
   "source": [
    "for key in dict(glucose['Low'].value_counts()):\n",
    "                print(f\"{key} - {glucose[glucose['Low'] == key]['Outcome'].mean()}\")"
   ]
  },
  {
   "cell_type": "code",
   "execution_count": null,
   "id": "c2f3ef57",
   "metadata": {},
   "outputs": [],
   "source": [
    "#Having low glucose levels is surely (cu eroare de 7% xd) safe from diabetes"
   ]
  },
  {
   "cell_type": "code",
   "execution_count": 82,
   "id": "83a9cfe1",
   "metadata": {},
   "outputs": [
    {
     "data": {
      "text/plain": [
       "117.0"
      ]
     },
     "execution_count": 82,
     "metadata": {},
     "output_type": "execute_result"
    }
   ],
   "source": [
    "glucose['Glucose'].median()"
   ]
  },
  {
   "cell_type": "code",
   "execution_count": 83,
   "id": "4a905138",
   "metadata": {},
   "outputs": [
    {
     "data": {
      "text/plain": [
       "0     99\n",
       "1    100\n",
       "dtype: int64"
      ]
     },
     "execution_count": 83,
     "metadata": {},
     "output_type": "execute_result"
    }
   ],
   "source": [
    "glucose['Glucose'].mode()\n",
    "#the most frequents values of glucose levels are 99 and 100"
   ]
  },
  {
   "cell_type": "code",
   "execution_count": 93,
   "id": "cf2a8529",
   "metadata": {},
   "outputs": [
    {
     "data": {
      "text/plain": [
       "31.97261819513622"
      ]
     },
     "execution_count": 93,
     "metadata": {},
     "output_type": "execute_result"
    }
   ],
   "source": [
    "glucose['Glucose'].std()"
   ]
  },
  {
   "cell_type": "code",
   "execution_count": 94,
   "id": "222490ca",
   "metadata": {},
   "outputs": [
    {
     "data": {
      "text/plain": [
       "1022.2483142519557"
      ]
     },
     "execution_count": 94,
     "metadata": {},
     "output_type": "execute_result"
    }
   ],
   "source": [
    "glucose['Glucose'].var()"
   ]
  },
  {
   "cell_type": "code",
   "execution_count": 95,
   "id": "ee814a52",
   "metadata": {},
   "outputs": [
    {
     "data": {
      "text/plain": [
       "0.4665813983068738"
      ]
     },
     "execution_count": 95,
     "metadata": {},
     "output_type": "execute_result"
    }
   ],
   "source": [
    "glucose['Glucose'].corr(glucose['Outcome'])\n",
    "#asta ne arata ca corelarea dintre nivelul de glucoza si diabet este destul de mare\n",
    "#cum am si obtinut ca avand high glucose levels sunt 50% sanse sa ai diabet\n"
   ]
  },
  {
   "cell_type": "code",
   "execution_count": null,
   "id": "02376c4e",
   "metadata": {},
   "outputs": [],
   "source": []
  },
  {
   "cell_type": "markdown",
   "id": "8b0d427d",
   "metadata": {},
   "source": [
    "# Blood Pressure\n"
   ]
  },
  {
   "cell_type": "code",
   "execution_count": 105,
   "id": "8e39f7e5",
   "metadata": {},
   "outputs": [],
   "source": [
    "blood = df[['BloodPressure','Outcome']]"
   ]
  },
  {
   "cell_type": "code",
   "execution_count": 138,
   "id": "e3580f5b",
   "metadata": {},
   "outputs": [
    {
     "data": {
      "text/html": [
       "<div>\n",
       "<style scoped>\n",
       "    .dataframe tbody tr th:only-of-type {\n",
       "        vertical-align: middle;\n",
       "    }\n",
       "\n",
       "    .dataframe tbody tr th {\n",
       "        vertical-align: top;\n",
       "    }\n",
       "\n",
       "    .dataframe thead th {\n",
       "        text-align: right;\n",
       "    }\n",
       "</style>\n",
       "<table border=\"1\" class=\"dataframe\">\n",
       "  <thead>\n",
       "    <tr style=\"text-align: right;\">\n",
       "      <th></th>\n",
       "      <th>BloodPressure</th>\n",
       "      <th>Outcome</th>\n",
       "    </tr>\n",
       "  </thead>\n",
       "  <tbody>\n",
       "    <tr>\n",
       "      <th>count</th>\n",
       "      <td>768.000000</td>\n",
       "      <td>768.000000</td>\n",
       "    </tr>\n",
       "    <tr>\n",
       "      <th>mean</th>\n",
       "      <td>69.105469</td>\n",
       "      <td>0.348958</td>\n",
       "    </tr>\n",
       "    <tr>\n",
       "      <th>std</th>\n",
       "      <td>19.355807</td>\n",
       "      <td>0.476951</td>\n",
       "    </tr>\n",
       "    <tr>\n",
       "      <th>min</th>\n",
       "      <td>0.000000</td>\n",
       "      <td>0.000000</td>\n",
       "    </tr>\n",
       "    <tr>\n",
       "      <th>25%</th>\n",
       "      <td>62.000000</td>\n",
       "      <td>0.000000</td>\n",
       "    </tr>\n",
       "    <tr>\n",
       "      <th>50%</th>\n",
       "      <td>72.000000</td>\n",
       "      <td>0.000000</td>\n",
       "    </tr>\n",
       "    <tr>\n",
       "      <th>75%</th>\n",
       "      <td>80.000000</td>\n",
       "      <td>1.000000</td>\n",
       "    </tr>\n",
       "    <tr>\n",
       "      <th>max</th>\n",
       "      <td>122.000000</td>\n",
       "      <td>1.000000</td>\n",
       "    </tr>\n",
       "  </tbody>\n",
       "</table>\n",
       "</div>"
      ],
      "text/plain": [
       "       BloodPressure     Outcome\n",
       "count     768.000000  768.000000\n",
       "mean       69.105469    0.348958\n",
       "std        19.355807    0.476951\n",
       "min         0.000000    0.000000\n",
       "25%        62.000000    0.000000\n",
       "50%        72.000000    0.000000\n",
       "75%        80.000000    1.000000\n",
       "max       122.000000    1.000000"
      ]
     },
     "execution_count": 138,
     "metadata": {},
     "output_type": "execute_result"
    }
   ],
   "source": [
    "blood.describe()"
   ]
  },
  {
   "cell_type": "code",
   "execution_count": 149,
   "id": "a3da087b",
   "metadata": {},
   "outputs": [
    {
     "data": {
      "text/html": [
       "<div>\n",
       "<style scoped>\n",
       "    .dataframe tbody tr th:only-of-type {\n",
       "        vertical-align: middle;\n",
       "    }\n",
       "\n",
       "    .dataframe tbody tr th {\n",
       "        vertical-align: top;\n",
       "    }\n",
       "\n",
       "    .dataframe thead th {\n",
       "        text-align: right;\n",
       "    }\n",
       "</style>\n",
       "<table border=\"1\" class=\"dataframe\">\n",
       "  <thead>\n",
       "    <tr style=\"text-align: right;\">\n",
       "      <th></th>\n",
       "      <th>BloodPressure</th>\n",
       "      <th>Outcome</th>\n",
       "      <th>Normal</th>\n",
       "    </tr>\n",
       "  </thead>\n",
       "  <tbody>\n",
       "    <tr>\n",
       "      <th>0</th>\n",
       "      <td>72</td>\n",
       "      <td>1</td>\n",
       "      <td>normal</td>\n",
       "    </tr>\n",
       "    <tr>\n",
       "      <th>1</th>\n",
       "      <td>66</td>\n",
       "      <td>0</td>\n",
       "      <td>normal</td>\n",
       "    </tr>\n",
       "    <tr>\n",
       "      <th>2</th>\n",
       "      <td>64</td>\n",
       "      <td>1</td>\n",
       "      <td>normal</td>\n",
       "    </tr>\n",
       "    <tr>\n",
       "      <th>3</th>\n",
       "      <td>66</td>\n",
       "      <td>0</td>\n",
       "      <td>normal</td>\n",
       "    </tr>\n",
       "    <tr>\n",
       "      <th>4</th>\n",
       "      <td>40</td>\n",
       "      <td>1</td>\n",
       "      <td>normal</td>\n",
       "    </tr>\n",
       "    <tr>\n",
       "      <th>...</th>\n",
       "      <td>...</td>\n",
       "      <td>...</td>\n",
       "      <td>...</td>\n",
       "    </tr>\n",
       "    <tr>\n",
       "      <th>763</th>\n",
       "      <td>76</td>\n",
       "      <td>0</td>\n",
       "      <td>normal</td>\n",
       "    </tr>\n",
       "    <tr>\n",
       "      <th>764</th>\n",
       "      <td>70</td>\n",
       "      <td>0</td>\n",
       "      <td>normal</td>\n",
       "    </tr>\n",
       "    <tr>\n",
       "      <th>765</th>\n",
       "      <td>72</td>\n",
       "      <td>0</td>\n",
       "      <td>normal</td>\n",
       "    </tr>\n",
       "    <tr>\n",
       "      <th>766</th>\n",
       "      <td>60</td>\n",
       "      <td>1</td>\n",
       "      <td>normal</td>\n",
       "    </tr>\n",
       "    <tr>\n",
       "      <th>767</th>\n",
       "      <td>70</td>\n",
       "      <td>0</td>\n",
       "      <td>normal</td>\n",
       "    </tr>\n",
       "  </tbody>\n",
       "</table>\n",
       "<p>768 rows × 3 columns</p>\n",
       "</div>"
      ],
      "text/plain": [
       "     BloodPressure  Outcome  Normal\n",
       "0               72        1  normal\n",
       "1               66        0  normal\n",
       "2               64        1  normal\n",
       "3               66        0  normal\n",
       "4               40        1  normal\n",
       "..             ...      ...     ...\n",
       "763             76        0  normal\n",
       "764             70        0  normal\n",
       "765             72        0  normal\n",
       "766             60        1  normal\n",
       "767             70        0  normal\n",
       "\n",
       "[768 rows x 3 columns]"
      ]
     },
     "execution_count": 149,
     "metadata": {},
     "output_type": "execute_result"
    }
   ],
   "source": [
    "blood"
   ]
  },
  {
   "cell_type": "code",
   "execution_count": 140,
   "id": "716a8445",
   "metadata": {},
   "outputs": [
    {
     "name": "stderr",
     "output_type": "stream",
     "text": [
      "c:\\users\\pulbe\\appdata\\local\\programs\\python\\python37\\lib\\site-packages\\ipykernel_launcher.py:1: SettingWithCopyWarning: \n",
      "A value is trying to be set on a copy of a slice from a DataFrame.\n",
      "Try using .loc[row_indexer,col_indexer] = value instead\n",
      "\n",
      "See the caveats in the documentation: https://pandas.pydata.org/pandas-docs/stable/user_guide/indexing.html#returning-a-view-versus-a-copy\n",
      "  \"\"\"Entry point for launching an IPython kernel.\n"
     ]
    }
   ],
   "source": [
    "blood['Normal'] = blood['BloodPressure'].apply(lambda x: x < 80 )"
   ]
  },
  {
   "cell_type": "code",
   "execution_count": 148,
   "id": "bca73453",
   "metadata": {},
   "outputs": [
    {
     "name": "stderr",
     "output_type": "stream",
     "text": [
      "c:\\users\\pulbe\\appdata\\local\\programs\\python\\python37\\lib\\site-packages\\ipykernel_launcher.py:1: SettingWithCopyWarning: \n",
      "A value is trying to be set on a copy of a slice from a DataFrame.\n",
      "Try using .loc[row_indexer,col_indexer] = value instead\n",
      "\n",
      "See the caveats in the documentation: https://pandas.pydata.org/pandas-docs/stable/user_guide/indexing.html#returning-a-view-versus-a-copy\n",
      "  \"\"\"Entry point for launching an IPython kernel.\n"
     ]
    }
   ],
   "source": [
    "blood['Normal'] = blood['Normal'].map({False: 'high', True : 'normal'})"
   ]
  },
  {
   "cell_type": "code",
   "execution_count": 111,
   "id": "880d7190",
   "metadata": {},
   "outputs": [
    {
     "data": {
      "text/plain": [
       "normal    563\n",
       "high      205\n",
       "Name: Normal, dtype: int64"
      ]
     },
     "execution_count": 111,
     "metadata": {},
     "output_type": "execute_result"
    }
   ],
   "source": [
    "blood['Normal'].value_counts()"
   ]
  },
  {
   "cell_type": "code",
   "execution_count": 119,
   "id": "510daa85",
   "metadata": {
    "scrolled": true
   },
   "outputs": [
    {
     "name": "stdout",
     "output_type": "stream",
     "text": [
      "normal - 0.31616341030195383\n",
      "high - 0.43902439024390244\n"
     ]
    }
   ],
   "source": [
    "for key in dict(blood['Normal'].value_counts()):\n",
    "                print(f\"{key} - {blood[blood['Normal'] == key]['Outcome'].mean()}\")"
   ]
  },
  {
   "cell_type": "code",
   "execution_count": 123,
   "id": "db7d0cd0",
   "metadata": {},
   "outputs": [
    {
     "name": "stdout",
     "output_type": "stream",
     "text": [
      "0 - 18.063075413305828\n",
      "1 - 21.491811650604127\n"
     ]
    }
   ],
   "source": [
    "for key in dict(blood['Outcome'].value_counts()):\n",
    "                print(f\"{key} - {blood[blood['Outcome'] == key]['BloodPressure'].std()}\")"
   ]
  },
  {
   "cell_type": "code",
   "execution_count": 125,
   "id": "43b1b32c",
   "metadata": {},
   "outputs": [
    {
     "name": "stdout",
     "output_type": "stream",
     "text": [
      "0 - 68.184\n",
      "1 - 70.82462686567165\n"
     ]
    }
   ],
   "source": [
    "for key in dict(blood['Outcome'].value_counts()):\n",
    "                print(f\"{key} - {blood[blood['Outcome'] == key]['BloodPressure'].mean()}\")"
   ]
  },
  {
   "cell_type": "code",
   "execution_count": 129,
   "id": "27c4384c",
   "metadata": {},
   "outputs": [
    {
     "name": "stdout",
     "output_type": "stream",
     "text": [
      "Median =  72.0\n",
      "Mean =  69.10546875\n",
      "Standard Deviation =  19.355807170644777\n",
      "Variance =  374.6472712271838\n",
      "Mode =  0    70\n",
      "dtype: int64\n"
     ]
    }
   ],
   "source": [
    "print('Median = ', blood['BloodPressure'].median())\n",
    "print('Mean = ', blood['BloodPressure'].mean())\n",
    "print('Standard Deviation = ', blood['BloodPressure'].std())\n",
    "print('Variance = ', blood['BloodPressure'].var())\n",
    "print('Mode = ', blood['BloodPressure'].mode())"
   ]
  },
  {
   "cell_type": "code",
   "execution_count": 133,
   "id": "9871f58a",
   "metadata": {},
   "outputs": [
    {
     "data": {
      "text/plain": [
       "0.0650683595503328"
      ]
     },
     "execution_count": 133,
     "metadata": {},
     "output_type": "execute_result"
    }
   ],
   "source": [
    "blood['BloodPressure'].corr(blood['Outcome'])"
   ]
  },
  {
   "cell_type": "markdown",
   "id": "b94fdc70",
   "metadata": {},
   "source": [
    "# Skin Thickness"
   ]
  },
  {
   "cell_type": "code",
   "execution_count": 135,
   "id": "473644fc",
   "metadata": {},
   "outputs": [],
   "source": [
    "skin = df[['SkinThickness','Outcome']]"
   ]
  },
  {
   "cell_type": "code",
   "execution_count": 136,
   "id": "46ac6733",
   "metadata": {},
   "outputs": [
    {
     "data": {
      "text/html": [
       "<div>\n",
       "<style scoped>\n",
       "    .dataframe tbody tr th:only-of-type {\n",
       "        vertical-align: middle;\n",
       "    }\n",
       "\n",
       "    .dataframe tbody tr th {\n",
       "        vertical-align: top;\n",
       "    }\n",
       "\n",
       "    .dataframe thead th {\n",
       "        text-align: right;\n",
       "    }\n",
       "</style>\n",
       "<table border=\"1\" class=\"dataframe\">\n",
       "  <thead>\n",
       "    <tr style=\"text-align: right;\">\n",
       "      <th></th>\n",
       "      <th>SkinThickness</th>\n",
       "      <th>Outcome</th>\n",
       "    </tr>\n",
       "  </thead>\n",
       "  <tbody>\n",
       "    <tr>\n",
       "      <th>count</th>\n",
       "      <td>768.000000</td>\n",
       "      <td>768.000000</td>\n",
       "    </tr>\n",
       "    <tr>\n",
       "      <th>mean</th>\n",
       "      <td>20.536458</td>\n",
       "      <td>0.348958</td>\n",
       "    </tr>\n",
       "    <tr>\n",
       "      <th>std</th>\n",
       "      <td>15.952218</td>\n",
       "      <td>0.476951</td>\n",
       "    </tr>\n",
       "    <tr>\n",
       "      <th>min</th>\n",
       "      <td>0.000000</td>\n",
       "      <td>0.000000</td>\n",
       "    </tr>\n",
       "    <tr>\n",
       "      <th>25%</th>\n",
       "      <td>0.000000</td>\n",
       "      <td>0.000000</td>\n",
       "    </tr>\n",
       "    <tr>\n",
       "      <th>50%</th>\n",
       "      <td>23.000000</td>\n",
       "      <td>0.000000</td>\n",
       "    </tr>\n",
       "    <tr>\n",
       "      <th>75%</th>\n",
       "      <td>32.000000</td>\n",
       "      <td>1.000000</td>\n",
       "    </tr>\n",
       "    <tr>\n",
       "      <th>max</th>\n",
       "      <td>99.000000</td>\n",
       "      <td>1.000000</td>\n",
       "    </tr>\n",
       "  </tbody>\n",
       "</table>\n",
       "</div>"
      ],
      "text/plain": [
       "       SkinThickness     Outcome\n",
       "count     768.000000  768.000000\n",
       "mean       20.536458    0.348958\n",
       "std        15.952218    0.476951\n",
       "min         0.000000    0.000000\n",
       "25%         0.000000    0.000000\n",
       "50%        23.000000    0.000000\n",
       "75%        32.000000    1.000000\n",
       "max        99.000000    1.000000"
      ]
     },
     "execution_count": 136,
     "metadata": {},
     "output_type": "execute_result"
    }
   ],
   "source": [
    "skin.describe()"
   ]
  },
  {
   "cell_type": "code",
   "execution_count": 142,
   "id": "c8eac940",
   "metadata": {},
   "outputs": [
    {
     "name": "stderr",
     "output_type": "stream",
     "text": [
      "c:\\users\\pulbe\\appdata\\local\\programs\\python\\python37\\lib\\site-packages\\ipykernel_launcher.py:1: SettingWithCopyWarning: \n",
      "A value is trying to be set on a copy of a slice from a DataFrame.\n",
      "Try using .loc[row_indexer,col_indexer] = value instead\n",
      "\n",
      "See the caveats in the documentation: https://pandas.pydata.org/pandas-docs/stable/user_guide/indexing.html#returning-a-view-versus-a-copy\n",
      "  \"\"\"Entry point for launching an IPython kernel.\n"
     ]
    }
   ],
   "source": [
    "skin['Normal'] = skin['SkinThickness'].apply(lambda x: x < 25 )"
   ]
  },
  {
   "cell_type": "code",
   "execution_count": 145,
   "id": "78413d36",
   "metadata": {},
   "outputs": [
    {
     "data": {
      "text/html": [
       "<div>\n",
       "<style scoped>\n",
       "    .dataframe tbody tr th:only-of-type {\n",
       "        vertical-align: middle;\n",
       "    }\n",
       "\n",
       "    .dataframe tbody tr th {\n",
       "        vertical-align: top;\n",
       "    }\n",
       "\n",
       "    .dataframe thead th {\n",
       "        text-align: right;\n",
       "    }\n",
       "</style>\n",
       "<table border=\"1\" class=\"dataframe\">\n",
       "  <thead>\n",
       "    <tr style=\"text-align: right;\">\n",
       "      <th></th>\n",
       "      <th>SkinThickness</th>\n",
       "      <th>Outcome</th>\n",
       "      <th>Normal</th>\n",
       "    </tr>\n",
       "  </thead>\n",
       "  <tbody>\n",
       "    <tr>\n",
       "      <th>0</th>\n",
       "      <td>35</td>\n",
       "      <td>1</td>\n",
       "      <td>toothick</td>\n",
       "    </tr>\n",
       "    <tr>\n",
       "      <th>1</th>\n",
       "      <td>29</td>\n",
       "      <td>0</td>\n",
       "      <td>toothick</td>\n",
       "    </tr>\n",
       "    <tr>\n",
       "      <th>2</th>\n",
       "      <td>0</td>\n",
       "      <td>1</td>\n",
       "      <td>normal</td>\n",
       "    </tr>\n",
       "    <tr>\n",
       "      <th>3</th>\n",
       "      <td>23</td>\n",
       "      <td>0</td>\n",
       "      <td>normal</td>\n",
       "    </tr>\n",
       "    <tr>\n",
       "      <th>4</th>\n",
       "      <td>35</td>\n",
       "      <td>1</td>\n",
       "      <td>toothick</td>\n",
       "    </tr>\n",
       "    <tr>\n",
       "      <th>...</th>\n",
       "      <td>...</td>\n",
       "      <td>...</td>\n",
       "      <td>...</td>\n",
       "    </tr>\n",
       "    <tr>\n",
       "      <th>763</th>\n",
       "      <td>48</td>\n",
       "      <td>0</td>\n",
       "      <td>toothick</td>\n",
       "    </tr>\n",
       "    <tr>\n",
       "      <th>764</th>\n",
       "      <td>27</td>\n",
       "      <td>0</td>\n",
       "      <td>toothick</td>\n",
       "    </tr>\n",
       "    <tr>\n",
       "      <th>765</th>\n",
       "      <td>23</td>\n",
       "      <td>0</td>\n",
       "      <td>normal</td>\n",
       "    </tr>\n",
       "    <tr>\n",
       "      <th>766</th>\n",
       "      <td>0</td>\n",
       "      <td>1</td>\n",
       "      <td>normal</td>\n",
       "    </tr>\n",
       "    <tr>\n",
       "      <th>767</th>\n",
       "      <td>31</td>\n",
       "      <td>0</td>\n",
       "      <td>toothick</td>\n",
       "    </tr>\n",
       "  </tbody>\n",
       "</table>\n",
       "<p>768 rows × 3 columns</p>\n",
       "</div>"
      ],
      "text/plain": [
       "     SkinThickness  Outcome    Normal\n",
       "0               35        1  toothick\n",
       "1               29        0  toothick\n",
       "2                0        1    normal\n",
       "3               23        0    normal\n",
       "4               35        1  toothick\n",
       "..             ...      ...       ...\n",
       "763             48        0  toothick\n",
       "764             27        0  toothick\n",
       "765             23        0    normal\n",
       "766              0        1    normal\n",
       "767             31        0  toothick\n",
       "\n",
       "[768 rows x 3 columns]"
      ]
     },
     "execution_count": 145,
     "metadata": {},
     "output_type": "execute_result"
    }
   ],
   "source": [
    "skin"
   ]
  },
  {
   "cell_type": "code",
   "execution_count": 144,
   "id": "d3c72970",
   "metadata": {},
   "outputs": [
    {
     "name": "stderr",
     "output_type": "stream",
     "text": [
      "c:\\users\\pulbe\\appdata\\local\\programs\\python\\python37\\lib\\site-packages\\ipykernel_launcher.py:1: SettingWithCopyWarning: \n",
      "A value is trying to be set on a copy of a slice from a DataFrame.\n",
      "Try using .loc[row_indexer,col_indexer] = value instead\n",
      "\n",
      "See the caveats in the documentation: https://pandas.pydata.org/pandas-docs/stable/user_guide/indexing.html#returning-a-view-versus-a-copy\n",
      "  \"\"\"Entry point for launching an IPython kernel.\n"
     ]
    }
   ],
   "source": [
    "skin['Normal'] = skin['Normal'].map({False: 'toothick', True : 'normal'})"
   ]
  },
  {
   "cell_type": "code",
   "execution_count": 147,
   "id": "3bf58120",
   "metadata": {},
   "outputs": [
    {
     "data": {
      "text/plain": [
       "normal      411\n",
       "toothick    357\n",
       "Name: Normal, dtype: int64"
      ]
     },
     "execution_count": 147,
     "metadata": {},
     "output_type": "execute_result"
    }
   ],
   "source": [
    "skin['Normal'].value_counts()"
   ]
  },
  {
   "cell_type": "code",
   "execution_count": 151,
   "id": "a5cb8b49",
   "metadata": {},
   "outputs": [
    {
     "name": "stdout",
     "output_type": "stream",
     "text": [
      "normal - 0.2944038929440389\n",
      "toothick - 0.4117647058823529\n"
     ]
    }
   ],
   "source": [
    "for key in dict(skin['Normal'].value_counts()):\n",
    "                print(f\"{key} - {skin[skin['Normal'] == key]['Outcome'].mean()}\")"
   ]
  },
  {
   "cell_type": "code",
   "execution_count": 153,
   "id": "1a01e0c3",
   "metadata": {},
   "outputs": [
    {
     "name": "stdout",
     "output_type": "stream",
     "text": [
      "0 - 19.664\n",
      "1 - 22.16417910447761\n"
     ]
    }
   ],
   "source": [
    "for key in dict(skin['Outcome'].value_counts()):\n",
    "                print(f\"{key} - {skin[skin['Outcome'] == key]['SkinThickness'].mean()}\")"
   ]
  },
  {
   "cell_type": "code",
   "execution_count": 154,
   "id": "b513e56c",
   "metadata": {},
   "outputs": [
    {
     "name": "stdout",
     "output_type": "stream",
     "text": [
      "0 - 14.889947113744233\n",
      "1 - 17.679711400465692\n"
     ]
    }
   ],
   "source": [
    "for key in dict(skin['Outcome'].value_counts()):\n",
    "                print(f\"{key} - {skin[skin['Outcome'] == key]['SkinThickness'].std()}\")"
   ]
  },
  {
   "cell_type": "code",
   "execution_count": 155,
   "id": "528d7408",
   "metadata": {},
   "outputs": [
    {
     "name": "stdout",
     "output_type": "stream",
     "text": [
      "0 - 21.0\n",
      "1 - 27.0\n"
     ]
    }
   ],
   "source": [
    "for key in dict(skin['Outcome'].value_counts()):\n",
    "                print(f\"{key} - {skin[skin['Outcome'] == key]['SkinThickness'].median()}\")"
   ]
  },
  {
   "cell_type": "code",
   "execution_count": 157,
   "id": "afec6950",
   "metadata": {},
   "outputs": [
    {
     "name": "stdout",
     "output_type": "stream",
     "text": [
      "Median =  23.0\n",
      "Mean =  20.536458333333332\n",
      "Standard Deviation =  15.952217567727637\n",
      "Variance =  254.47324532811822\n"
     ]
    }
   ],
   "source": [
    "print('Median = ', skin['SkinThickness'].median())\n",
    "print('Mean = ', skin['SkinThickness'].mean())\n",
    "print('Standard Deviation = ', skin['SkinThickness'].std())\n",
    "print('Variance = ', skin['SkinThickness'].var())\n"
   ]
  },
  {
   "cell_type": "code",
   "execution_count": 158,
   "id": "8974247d",
   "metadata": {},
   "outputs": [
    {
     "data": {
      "text/plain": [
       "0.07475223191831938"
      ]
     },
     "execution_count": 158,
     "metadata": {},
     "output_type": "execute_result"
    }
   ],
   "source": [
    "skin['SkinThickness'].corr(skin['Outcome'])"
   ]
  },
  {
   "cell_type": "markdown",
   "id": "36bfb0dc",
   "metadata": {},
   "source": [
    "# Insulin"
   ]
  },
  {
   "cell_type": "code",
   "execution_count": 159,
   "id": "c93c3fbd",
   "metadata": {},
   "outputs": [
    {
     "data": {
      "text/html": [
       "<div>\n",
       "<style scoped>\n",
       "    .dataframe tbody tr th:only-of-type {\n",
       "        vertical-align: middle;\n",
       "    }\n",
       "\n",
       "    .dataframe tbody tr th {\n",
       "        vertical-align: top;\n",
       "    }\n",
       "\n",
       "    .dataframe thead th {\n",
       "        text-align: right;\n",
       "    }\n",
       "</style>\n",
       "<table border=\"1\" class=\"dataframe\">\n",
       "  <thead>\n",
       "    <tr style=\"text-align: right;\">\n",
       "      <th></th>\n",
       "      <th>Insulin</th>\n",
       "      <th>Outcome</th>\n",
       "    </tr>\n",
       "  </thead>\n",
       "  <tbody>\n",
       "    <tr>\n",
       "      <th>count</th>\n",
       "      <td>768.000000</td>\n",
       "      <td>768.000000</td>\n",
       "    </tr>\n",
       "    <tr>\n",
       "      <th>mean</th>\n",
       "      <td>79.799479</td>\n",
       "      <td>0.348958</td>\n",
       "    </tr>\n",
       "    <tr>\n",
       "      <th>std</th>\n",
       "      <td>115.244002</td>\n",
       "      <td>0.476951</td>\n",
       "    </tr>\n",
       "    <tr>\n",
       "      <th>min</th>\n",
       "      <td>0.000000</td>\n",
       "      <td>0.000000</td>\n",
       "    </tr>\n",
       "    <tr>\n",
       "      <th>25%</th>\n",
       "      <td>0.000000</td>\n",
       "      <td>0.000000</td>\n",
       "    </tr>\n",
       "    <tr>\n",
       "      <th>50%</th>\n",
       "      <td>30.500000</td>\n",
       "      <td>0.000000</td>\n",
       "    </tr>\n",
       "    <tr>\n",
       "      <th>75%</th>\n",
       "      <td>127.250000</td>\n",
       "      <td>1.000000</td>\n",
       "    </tr>\n",
       "    <tr>\n",
       "      <th>max</th>\n",
       "      <td>846.000000</td>\n",
       "      <td>1.000000</td>\n",
       "    </tr>\n",
       "  </tbody>\n",
       "</table>\n",
       "</div>"
      ],
      "text/plain": [
       "          Insulin     Outcome\n",
       "count  768.000000  768.000000\n",
       "mean    79.799479    0.348958\n",
       "std    115.244002    0.476951\n",
       "min      0.000000    0.000000\n",
       "25%      0.000000    0.000000\n",
       "50%     30.500000    0.000000\n",
       "75%    127.250000    1.000000\n",
       "max    846.000000    1.000000"
      ]
     },
     "execution_count": 159,
     "metadata": {},
     "output_type": "execute_result"
    }
   ],
   "source": [
    "insulin = df[['Insulin','Outcome']]\n",
    "insulin.describe()"
   ]
  },
  {
   "cell_type": "code",
   "execution_count": 160,
   "id": "95f20771",
   "metadata": {},
   "outputs": [
    {
     "name": "stdout",
     "output_type": "stream",
     "text": [
      "0 - 68.792\n",
      "1 - 100.33582089552239\n"
     ]
    }
   ],
   "source": [
    "for key in dict(insulin['Outcome'].value_counts()):\n",
    "                print(f\"{key} - {insulin[insulin['Outcome'] == key]['Insulin'].mean()}\")"
   ]
  },
  {
   "cell_type": "code",
   "execution_count": 161,
   "id": "510c58c7",
   "metadata": {},
   "outputs": [
    {
     "name": "stdout",
     "output_type": "stream",
     "text": [
      "0 - 98.86528929231788\n",
      "1 - 138.68912473153497\n"
     ]
    }
   ],
   "source": [
    "for key in dict(insulin['Outcome'].value_counts()):\n",
    "                print(f\"{key} - {insulin[insulin['Outcome'] == key]['Insulin'].std()}\")"
   ]
  },
  {
   "cell_type": "code",
   "execution_count": 162,
   "id": "d68fb959",
   "metadata": {},
   "outputs": [
    {
     "name": "stdout",
     "output_type": "stream",
     "text": [
      "0 - 39.0\n",
      "1 - 0.0\n"
     ]
    }
   ],
   "source": [
    "for key in dict(insulin['Outcome'].value_counts()):\n",
    "                print(f\"{key} - {insulin[insulin['Outcome'] == key]['Insulin'].median()}\")"
   ]
  },
  {
   "cell_type": "code",
   "execution_count": 163,
   "id": "d761f647",
   "metadata": {},
   "outputs": [
    {
     "name": "stdout",
     "output_type": "stream",
     "text": [
      "Median =  30.5\n",
      "Mean =  79.79947916666667\n",
      "Standard Deviation =  115.24400235133817\n",
      "Variance =  13281.180077955238\n",
      "Mode =  0    0\n",
      "dtype: int64\n"
     ]
    }
   ],
   "source": [
    "print('Median = ', insulin['Insulin'].median())\n",
    "print('Mean = ', insulin['Insulin'].mean())\n",
    "print('Standard Deviation = ', insulin['Insulin'].std())\n",
    "print('Variance = ', insulin['Insulin'].var())\n",
    "print('Mode = ', insulin['Insulin'].mode())"
   ]
  },
  {
   "cell_type": "code",
   "execution_count": 164,
   "id": "6c4bc0bc",
   "metadata": {},
   "outputs": [
    {
     "name": "stderr",
     "output_type": "stream",
     "text": [
      "c:\\users\\pulbe\\appdata\\local\\programs\\python\\python37\\lib\\site-packages\\ipykernel_launcher.py:1: SettingWithCopyWarning: \n",
      "A value is trying to be set on a copy of a slice from a DataFrame.\n",
      "Try using .loc[row_indexer,col_indexer] = value instead\n",
      "\n",
      "See the caveats in the documentation: https://pandas.pydata.org/pandas-docs/stable/user_guide/indexing.html#returning-a-view-versus-a-copy\n",
      "  \"\"\"Entry point for launching an IPython kernel.\n"
     ]
    }
   ],
   "source": [
    "insulin['Normal'] = insulin['Insulin'].apply(lambda x: x < 170 )"
   ]
  },
  {
   "cell_type": "code",
   "execution_count": 165,
   "id": "e8acf0bd",
   "metadata": {},
   "outputs": [
    {
     "name": "stderr",
     "output_type": "stream",
     "text": [
      "c:\\users\\pulbe\\appdata\\local\\programs\\python\\python37\\lib\\site-packages\\ipykernel_launcher.py:1: SettingWithCopyWarning: \n",
      "A value is trying to be set on a copy of a slice from a DataFrame.\n",
      "Try using .loc[row_indexer,col_indexer] = value instead\n",
      "\n",
      "See the caveats in the documentation: https://pandas.pydata.org/pandas-docs/stable/user_guide/indexing.html#returning-a-view-versus-a-copy\n",
      "  \"\"\"Entry point for launching an IPython kernel.\n"
     ]
    }
   ],
   "source": [
    "insulin['Normal'] = insulin['Normal'].map({False: 'high', True : 'normal'})"
   ]
  },
  {
   "cell_type": "code",
   "execution_count": 166,
   "id": "e7291e2a",
   "metadata": {},
   "outputs": [
    {
     "data": {
      "text/plain": [
       "normal    642\n",
       "high      126\n",
       "Name: Normal, dtype: int64"
      ]
     },
     "execution_count": 166,
     "metadata": {},
     "output_type": "execute_result"
    }
   ],
   "source": [
    "insulin['Normal'].value_counts()"
   ]
  },
  {
   "cell_type": "code",
   "execution_count": 167,
   "id": "9a45a210",
   "metadata": {},
   "outputs": [
    {
     "name": "stdout",
     "output_type": "stream",
     "text": [
      "normal - 0.3161993769470405\n",
      "high - 0.5158730158730159\n"
     ]
    }
   ],
   "source": [
    "for key in dict(insulin['Normal'].value_counts()):\n",
    "                print(f\"{key} - {insulin[insulin['Normal'] == key]['Outcome'].mean()}\")"
   ]
  },
  {
   "cell_type": "code",
   "execution_count": 168,
   "id": "4b2f0421",
   "metadata": {},
   "outputs": [
    {
     "data": {
      "text/plain": [
       "0.13054795488404786"
      ]
     },
     "execution_count": 168,
     "metadata": {},
     "output_type": "execute_result"
    }
   ],
   "source": [
    "insulin['Insulin'].corr(insulin['Outcome'])"
   ]
  },
  {
   "cell_type": "markdown",
   "id": "312fe664",
   "metadata": {},
   "source": [
    "# BMI"
   ]
  },
  {
   "cell_type": "code",
   "execution_count": 169,
   "id": "23d2fa77",
   "metadata": {},
   "outputs": [
    {
     "data": {
      "text/html": [
       "<div>\n",
       "<style scoped>\n",
       "    .dataframe tbody tr th:only-of-type {\n",
       "        vertical-align: middle;\n",
       "    }\n",
       "\n",
       "    .dataframe tbody tr th {\n",
       "        vertical-align: top;\n",
       "    }\n",
       "\n",
       "    .dataframe thead th {\n",
       "        text-align: right;\n",
       "    }\n",
       "</style>\n",
       "<table border=\"1\" class=\"dataframe\">\n",
       "  <thead>\n",
       "    <tr style=\"text-align: right;\">\n",
       "      <th></th>\n",
       "      <th>BMI</th>\n",
       "      <th>Outcome</th>\n",
       "    </tr>\n",
       "  </thead>\n",
       "  <tbody>\n",
       "    <tr>\n",
       "      <th>count</th>\n",
       "      <td>768.000000</td>\n",
       "      <td>768.000000</td>\n",
       "    </tr>\n",
       "    <tr>\n",
       "      <th>mean</th>\n",
       "      <td>31.992578</td>\n",
       "      <td>0.348958</td>\n",
       "    </tr>\n",
       "    <tr>\n",
       "      <th>std</th>\n",
       "      <td>7.884160</td>\n",
       "      <td>0.476951</td>\n",
       "    </tr>\n",
       "    <tr>\n",
       "      <th>min</th>\n",
       "      <td>0.000000</td>\n",
       "      <td>0.000000</td>\n",
       "    </tr>\n",
       "    <tr>\n",
       "      <th>25%</th>\n",
       "      <td>27.300000</td>\n",
       "      <td>0.000000</td>\n",
       "    </tr>\n",
       "    <tr>\n",
       "      <th>50%</th>\n",
       "      <td>32.000000</td>\n",
       "      <td>0.000000</td>\n",
       "    </tr>\n",
       "    <tr>\n",
       "      <th>75%</th>\n",
       "      <td>36.600000</td>\n",
       "      <td>1.000000</td>\n",
       "    </tr>\n",
       "    <tr>\n",
       "      <th>max</th>\n",
       "      <td>67.100000</td>\n",
       "      <td>1.000000</td>\n",
       "    </tr>\n",
       "  </tbody>\n",
       "</table>\n",
       "</div>"
      ],
      "text/plain": [
       "              BMI     Outcome\n",
       "count  768.000000  768.000000\n",
       "mean    31.992578    0.348958\n",
       "std      7.884160    0.476951\n",
       "min      0.000000    0.000000\n",
       "25%     27.300000    0.000000\n",
       "50%     32.000000    0.000000\n",
       "75%     36.600000    1.000000\n",
       "max     67.100000    1.000000"
      ]
     },
     "execution_count": 169,
     "metadata": {},
     "output_type": "execute_result"
    }
   ],
   "source": [
    "bmi = df[['BMI','Outcome']]\n",
    "bmi.describe()"
   ]
  },
  {
   "cell_type": "code",
   "execution_count": 170,
   "id": "6ae2965f",
   "metadata": {},
   "outputs": [
    {
     "name": "stdout",
     "output_type": "stream",
     "text": [
      "0 - 30.3042\n",
      "1 - 35.14253731343284\n"
     ]
    }
   ],
   "source": [
    "for key in dict(bmi['Outcome'].value_counts()):\n",
    "                print(f\"{key} - {bmi[bmi['Outcome'] == key]['BMI'].mean()}\")"
   ]
  },
  {
   "cell_type": "code",
   "execution_count": 171,
   "id": "30cb8db2",
   "metadata": {},
   "outputs": [
    {
     "name": "stdout",
     "output_type": "stream",
     "text": [
      "0 - 7.689855011650116\n",
      "1 - 7.262967242346375\n"
     ]
    }
   ],
   "source": [
    "for key in dict(bmi['Outcome'].value_counts()):\n",
    "                print(f\"{key} - {bmi[bmi['Outcome'] == key]['BMI'].std()}\")"
   ]
  },
  {
   "cell_type": "code",
   "execution_count": 204,
   "id": "571b1dcf",
   "metadata": {
    "scrolled": true
   },
   "outputs": [
    {
     "name": "stdout",
     "output_type": "stream",
     "text": [
      "0 - 30.05\n",
      "1 - 34.25\n"
     ]
    }
   ],
   "source": [
    "for key in dict(bmi['Outcome'].value_counts()):\n",
    "                print(f\"{key} - {bmi[bmi['Outcome'] == key]['BMI'].median()}\")"
   ]
  },
  {
   "cell_type": "code",
   "execution_count": 173,
   "id": "d01a8006",
   "metadata": {},
   "outputs": [
    {
     "name": "stdout",
     "output_type": "stream",
     "text": [
      "Median =  32.0\n",
      "Mean =  31.992578124999998\n",
      "Standard Deviation =  7.884160320375446\n",
      "Variance =  62.15998395738266\n",
      "Mode =  0    32.0\n",
      "dtype: float64\n"
     ]
    }
   ],
   "source": [
    "print('Median = ', bmi['BMI'].median())\n",
    "print('Mean = ', bmi['BMI'].mean())\n",
    "print('Standard Deviation = ', bmi['BMI'].std())\n",
    "print('Variance = ', bmi['BMI'].var())\n",
    "print('Mode = ', bmi['BMI'].mode())"
   ]
  },
  {
   "cell_type": "code",
   "execution_count": 192,
   "id": "2e00350d",
   "metadata": {},
   "outputs": [
    {
     "name": "stderr",
     "output_type": "stream",
     "text": [
      "c:\\users\\pulbe\\appdata\\local\\programs\\python\\python37\\lib\\site-packages\\ipykernel_launcher.py:1: SettingWithCopyWarning: \n",
      "A value is trying to be set on a copy of a slice from a DataFrame.\n",
      "Try using .loc[row_indexer,col_indexer] = value instead\n",
      "\n",
      "See the caveats in the documentation: https://pandas.pydata.org/pandas-docs/stable/user_guide/indexing.html#returning-a-view-versus-a-copy\n",
      "  \"\"\"Entry point for launching an IPython kernel.\n"
     ]
    }
   ],
   "source": [
    "bmi['Normal'] = bmi['BMI'].apply(lambda x: x < 25 )"
   ]
  },
  {
   "cell_type": "code",
   "execution_count": 193,
   "id": "d454334a",
   "metadata": {},
   "outputs": [
    {
     "name": "stderr",
     "output_type": "stream",
     "text": [
      "c:\\users\\pulbe\\appdata\\local\\programs\\python\\python37\\lib\\site-packages\\ipykernel_launcher.py:1: SettingWithCopyWarning: \n",
      "A value is trying to be set on a copy of a slice from a DataFrame.\n",
      "Try using .loc[row_indexer,col_indexer] = value instead\n",
      "\n",
      "See the caveats in the documentation: https://pandas.pydata.org/pandas-docs/stable/user_guide/indexing.html#returning-a-view-versus-a-copy\n",
      "  \"\"\"Entry point for launching an IPython kernel.\n"
     ]
    }
   ],
   "source": [
    "bmi['Normal'] = bmi['Normal'].map({False: 'overweight', True : 'normal'})"
   ]
  },
  {
   "cell_type": "code",
   "execution_count": 194,
   "id": "3896d1e3",
   "metadata": {},
   "outputs": [
    {
     "data": {
      "text/plain": [
       "overweight    651\n",
       "normal        117\n",
       "Name: Normal, dtype: int64"
      ]
     },
     "execution_count": 194,
     "metadata": {},
     "output_type": "execute_result"
    }
   ],
   "source": [
    "bmi['Normal'].value_counts()"
   ]
  },
  {
   "cell_type": "code",
   "execution_count": 195,
   "id": "8e6c2872",
   "metadata": {
    "scrolled": true
   },
   "outputs": [
    {
     "name": "stdout",
     "output_type": "stream",
     "text": [
      "overweight - 0.3978494623655914\n",
      "normal - 0.07692307692307693\n"
     ]
    }
   ],
   "source": [
    "for key in dict(bmi['Normal'].value_counts()):\n",
    "                print(f\"{key} - {bmi[bmi['Normal'] == key]['Outcome'].mean()}\")"
   ]
  },
  {
   "cell_type": "code",
   "execution_count": 196,
   "id": "9e6891a2",
   "metadata": {
    "scrolled": true
   },
   "outputs": [
    {
     "name": "stderr",
     "output_type": "stream",
     "text": [
      "c:\\users\\pulbe\\appdata\\local\\programs\\python\\python37\\lib\\site-packages\\ipykernel_launcher.py:1: SettingWithCopyWarning: \n",
      "A value is trying to be set on a copy of a slice from a DataFrame.\n",
      "Try using .loc[row_indexer,col_indexer] = value instead\n",
      "\n",
      "See the caveats in the documentation: https://pandas.pydata.org/pandas-docs/stable/user_guide/indexing.html#returning-a-view-versus-a-copy\n",
      "  \"\"\"Entry point for launching an IPython kernel.\n"
     ]
    }
   ],
   "source": [
    "bmi['Obese'] = bmi['BMI'].apply(lambda x: x > 30 )"
   ]
  },
  {
   "cell_type": "code",
   "execution_count": 197,
   "id": "dec6d509",
   "metadata": {
    "scrolled": true
   },
   "outputs": [
    {
     "name": "stderr",
     "output_type": "stream",
     "text": [
      "c:\\users\\pulbe\\appdata\\local\\programs\\python\\python37\\lib\\site-packages\\ipykernel_launcher.py:1: SettingWithCopyWarning: \n",
      "A value is trying to be set on a copy of a slice from a DataFrame.\n",
      "Try using .loc[row_indexer,col_indexer] = value instead\n",
      "\n",
      "See the caveats in the documentation: https://pandas.pydata.org/pandas-docs/stable/user_guide/indexing.html#returning-a-view-versus-a-copy\n",
      "  \"\"\"Entry point for launching an IPython kernel.\n"
     ]
    }
   ],
   "source": [
    "bmi['Obese'] = bmi['Obese'].map({False: 'notobese', True : 'obese'})"
   ]
  },
  {
   "cell_type": "code",
   "execution_count": 198,
   "id": "87d462e1",
   "metadata": {
    "scrolled": true
   },
   "outputs": [
    {
     "data": {
      "text/html": [
       "<div>\n",
       "<style scoped>\n",
       "    .dataframe tbody tr th:only-of-type {\n",
       "        vertical-align: middle;\n",
       "    }\n",
       "\n",
       "    .dataframe tbody tr th {\n",
       "        vertical-align: top;\n",
       "    }\n",
       "\n",
       "    .dataframe thead th {\n",
       "        text-align: right;\n",
       "    }\n",
       "</style>\n",
       "<table border=\"1\" class=\"dataframe\">\n",
       "  <thead>\n",
       "    <tr style=\"text-align: right;\">\n",
       "      <th></th>\n",
       "      <th>BMI</th>\n",
       "      <th>Outcome</th>\n",
       "      <th>Normal</th>\n",
       "      <th>Obese</th>\n",
       "    </tr>\n",
       "  </thead>\n",
       "  <tbody>\n",
       "    <tr>\n",
       "      <th>0</th>\n",
       "      <td>33.6</td>\n",
       "      <td>1</td>\n",
       "      <td>overweight</td>\n",
       "      <td>obese</td>\n",
       "    </tr>\n",
       "    <tr>\n",
       "      <th>1</th>\n",
       "      <td>26.6</td>\n",
       "      <td>0</td>\n",
       "      <td>overweight</td>\n",
       "      <td>notobese</td>\n",
       "    </tr>\n",
       "    <tr>\n",
       "      <th>2</th>\n",
       "      <td>23.3</td>\n",
       "      <td>1</td>\n",
       "      <td>normal</td>\n",
       "      <td>notobese</td>\n",
       "    </tr>\n",
       "    <tr>\n",
       "      <th>3</th>\n",
       "      <td>28.1</td>\n",
       "      <td>0</td>\n",
       "      <td>overweight</td>\n",
       "      <td>notobese</td>\n",
       "    </tr>\n",
       "    <tr>\n",
       "      <th>4</th>\n",
       "      <td>43.1</td>\n",
       "      <td>1</td>\n",
       "      <td>overweight</td>\n",
       "      <td>obese</td>\n",
       "    </tr>\n",
       "    <tr>\n",
       "      <th>...</th>\n",
       "      <td>...</td>\n",
       "      <td>...</td>\n",
       "      <td>...</td>\n",
       "      <td>...</td>\n",
       "    </tr>\n",
       "    <tr>\n",
       "      <th>763</th>\n",
       "      <td>32.9</td>\n",
       "      <td>0</td>\n",
       "      <td>overweight</td>\n",
       "      <td>obese</td>\n",
       "    </tr>\n",
       "    <tr>\n",
       "      <th>764</th>\n",
       "      <td>36.8</td>\n",
       "      <td>0</td>\n",
       "      <td>overweight</td>\n",
       "      <td>obese</td>\n",
       "    </tr>\n",
       "    <tr>\n",
       "      <th>765</th>\n",
       "      <td>26.2</td>\n",
       "      <td>0</td>\n",
       "      <td>overweight</td>\n",
       "      <td>notobese</td>\n",
       "    </tr>\n",
       "    <tr>\n",
       "      <th>766</th>\n",
       "      <td>30.1</td>\n",
       "      <td>1</td>\n",
       "      <td>overweight</td>\n",
       "      <td>obese</td>\n",
       "    </tr>\n",
       "    <tr>\n",
       "      <th>767</th>\n",
       "      <td>30.4</td>\n",
       "      <td>0</td>\n",
       "      <td>overweight</td>\n",
       "      <td>obese</td>\n",
       "    </tr>\n",
       "  </tbody>\n",
       "</table>\n",
       "<p>768 rows × 4 columns</p>\n",
       "</div>"
      ],
      "text/plain": [
       "      BMI  Outcome      Normal     Obese\n",
       "0    33.6        1  overweight     obese\n",
       "1    26.6        0  overweight  notobese\n",
       "2    23.3        1      normal  notobese\n",
       "3    28.1        0  overweight  notobese\n",
       "4    43.1        1  overweight     obese\n",
       "..    ...      ...         ...       ...\n",
       "763  32.9        0  overweight     obese\n",
       "764  36.8        0  overweight     obese\n",
       "765  26.2        0  overweight  notobese\n",
       "766  30.1        1  overweight     obese\n",
       "767  30.4        0  overweight     obese\n",
       "\n",
       "[768 rows x 4 columns]"
      ]
     },
     "execution_count": 198,
     "metadata": {},
     "output_type": "execute_result"
    }
   ],
   "source": [
    "bmi"
   ]
  },
  {
   "cell_type": "code",
   "execution_count": 199,
   "id": "735e5f95",
   "metadata": {
    "scrolled": true
   },
   "outputs": [
    {
     "data": {
      "text/plain": [
       "obese       465\n",
       "notobese    303\n",
       "Name: Obese, dtype: int64"
      ]
     },
     "execution_count": 199,
     "metadata": {},
     "output_type": "execute_result"
    }
   ],
   "source": [
    "bmi['Obese'].value_counts()"
   ]
  },
  {
   "cell_type": "code",
   "execution_count": 200,
   "id": "c0f2fe69",
   "metadata": {
    "scrolled": true
   },
   "outputs": [
    {
     "name": "stdout",
     "output_type": "stream",
     "text": [
      "obese - 0.46236559139784944\n",
      "notobese - 0.17491749174917492\n"
     ]
    }
   ],
   "source": [
    "for key in dict(bmi['Obese'].value_counts()):\n",
    "                print(f\"{key} - {bmi[bmi['Obese'] == key]['Outcome'].mean()}\")"
   ]
  },
  {
   "cell_type": "code",
   "execution_count": 205,
   "id": "aac48d72",
   "metadata": {},
   "outputs": [],
   "source": [
    "#Incepand cu overweight (inclusiv obez -> 39.7%) femeile sunt mai predispuse la diabet "
   ]
  },
  {
   "cell_type": "code",
   "execution_count": 206,
   "id": "b510aa5d",
   "metadata": {},
   "outputs": [
    {
     "data": {
      "text/plain": [
       "0.2926946626444453"
      ]
     },
     "execution_count": 206,
     "metadata": {},
     "output_type": "execute_result"
    }
   ],
   "source": [
    "bmi['BMI'].corr(bmi['Outcome'])"
   ]
  },
  {
   "cell_type": "markdown",
   "id": "602d0c3d",
   "metadata": {},
   "source": [
    "# Diabetes Pedigree"
   ]
  },
  {
   "cell_type": "code",
   "execution_count": 207,
   "id": "db0c062c",
   "metadata": {},
   "outputs": [
    {
     "data": {
      "text/html": [
       "<div>\n",
       "<style scoped>\n",
       "    .dataframe tbody tr th:only-of-type {\n",
       "        vertical-align: middle;\n",
       "    }\n",
       "\n",
       "    .dataframe tbody tr th {\n",
       "        vertical-align: top;\n",
       "    }\n",
       "\n",
       "    .dataframe thead th {\n",
       "        text-align: right;\n",
       "    }\n",
       "</style>\n",
       "<table border=\"1\" class=\"dataframe\">\n",
       "  <thead>\n",
       "    <tr style=\"text-align: right;\">\n",
       "      <th></th>\n",
       "      <th>DiabetesPedigreeFunction</th>\n",
       "      <th>Outcome</th>\n",
       "    </tr>\n",
       "  </thead>\n",
       "  <tbody>\n",
       "    <tr>\n",
       "      <th>count</th>\n",
       "      <td>768.000000</td>\n",
       "      <td>768.000000</td>\n",
       "    </tr>\n",
       "    <tr>\n",
       "      <th>mean</th>\n",
       "      <td>0.471876</td>\n",
       "      <td>0.348958</td>\n",
       "    </tr>\n",
       "    <tr>\n",
       "      <th>std</th>\n",
       "      <td>0.331329</td>\n",
       "      <td>0.476951</td>\n",
       "    </tr>\n",
       "    <tr>\n",
       "      <th>min</th>\n",
       "      <td>0.078000</td>\n",
       "      <td>0.000000</td>\n",
       "    </tr>\n",
       "    <tr>\n",
       "      <th>25%</th>\n",
       "      <td>0.243750</td>\n",
       "      <td>0.000000</td>\n",
       "    </tr>\n",
       "    <tr>\n",
       "      <th>50%</th>\n",
       "      <td>0.372500</td>\n",
       "      <td>0.000000</td>\n",
       "    </tr>\n",
       "    <tr>\n",
       "      <th>75%</th>\n",
       "      <td>0.626250</td>\n",
       "      <td>1.000000</td>\n",
       "    </tr>\n",
       "    <tr>\n",
       "      <th>max</th>\n",
       "      <td>2.420000</td>\n",
       "      <td>1.000000</td>\n",
       "    </tr>\n",
       "  </tbody>\n",
       "</table>\n",
       "</div>"
      ],
      "text/plain": [
       "       DiabetesPedigreeFunction     Outcome\n",
       "count                768.000000  768.000000\n",
       "mean                   0.471876    0.348958\n",
       "std                    0.331329    0.476951\n",
       "min                    0.078000    0.000000\n",
       "25%                    0.243750    0.000000\n",
       "50%                    0.372500    0.000000\n",
       "75%                    0.626250    1.000000\n",
       "max                    2.420000    1.000000"
      ]
     },
     "execution_count": 207,
     "metadata": {},
     "output_type": "execute_result"
    }
   ],
   "source": [
    "pedigree = df[['DiabetesPedigreeFunction','Outcome']]\n",
    "pedigree.describe()"
   ]
  },
  {
   "cell_type": "code",
   "execution_count": 209,
   "id": "1bcbddf1",
   "metadata": {},
   "outputs": [
    {
     "name": "stdout",
     "output_type": "stream",
     "text": [
      "0 - 0.42973400000000006\n",
      "1 - 0.5505\n"
     ]
    }
   ],
   "source": [
    "for key in dict(pedigree['Outcome'].value_counts()):\n",
    "                print(f\"{key} - {pedigree[pedigree['Outcome'] == key]['DiabetesPedigreeFunction'].mean()}\")"
   ]
  },
  {
   "cell_type": "code",
   "execution_count": 210,
   "id": "43a69e72",
   "metadata": {},
   "outputs": [
    {
     "name": "stdout",
     "output_type": "stream",
     "text": [
      "0 - 0.336\n",
      "1 - 0.449\n"
     ]
    }
   ],
   "source": [
    "for key in dict(pedigree['Outcome'].value_counts()):\n",
    "                print(f\"{key} - {pedigree[pedigree['Outcome'] == key]['DiabetesPedigreeFunction'].median()}\")"
   ]
  },
  {
   "cell_type": "code",
   "execution_count": 211,
   "id": "aedb2f95",
   "metadata": {},
   "outputs": [
    {
     "name": "stdout",
     "output_type": "stream",
     "text": [
      "0 - 0.29908530435741093\n",
      "1 - 0.3723544835546108\n"
     ]
    }
   ],
   "source": [
    "for key in dict(pedigree['Outcome'].value_counts()):\n",
    "                print(f\"{key} - {pedigree[pedigree['Outcome'] == key]['DiabetesPedigreeFunction'].std()}\")"
   ]
  },
  {
   "cell_type": "code",
   "execution_count": 213,
   "id": "3866b460",
   "metadata": {},
   "outputs": [
    {
     "name": "stdout",
     "output_type": "stream",
     "text": [
      "0 - 0.08945201928256513\n",
      "1 - 0.13864786142322094\n"
     ]
    }
   ],
   "source": [
    "for key in dict(pedigree['Outcome'].value_counts()):\n",
    "                print(f\"{key} - {pedigree[pedigree['Outcome'] == key]['DiabetesPedigreeFunction'].var()}\")"
   ]
  },
  {
   "cell_type": "code",
   "execution_count": 214,
   "id": "715e72a2",
   "metadata": {},
   "outputs": [
    {
     "name": "stdout",
     "output_type": "stream",
     "text": [
      "Median =  0.3725\n",
      "Mean =  0.47187630208333325\n",
      "Standard Deviation =  0.3313285950127749\n",
      "Variance =  0.1097786378731394\n",
      "Mode =  0    0.254\n",
      "1    0.258\n",
      "dtype: float64\n"
     ]
    }
   ],
   "source": [
    "print('Median = ', pedigree['DiabetesPedigreeFunction'].median())\n",
    "print('Mean = ', pedigree['DiabetesPedigreeFunction'].mean())\n",
    "print('Standard Deviation = ', pedigree['DiabetesPedigreeFunction'].std())\n",
    "print('Variance = ', pedigree['DiabetesPedigreeFunction'].var())\n",
    "print('Mode = ', pedigree['DiabetesPedigreeFunction'].mode())"
   ]
  },
  {
   "cell_type": "code",
   "execution_count": 215,
   "id": "78918809",
   "metadata": {},
   "outputs": [
    {
     "data": {
      "text/plain": [
       "0.17384406565295996"
      ]
     },
     "execution_count": 215,
     "metadata": {},
     "output_type": "execute_result"
    }
   ],
   "source": [
    "pedigree['DiabetesPedigreeFunction'].corr(pedigree['Outcome'])"
   ]
  },
  {
   "cell_type": "markdown",
   "id": "a7ba44ee",
   "metadata": {},
   "source": [
    "# Age"
   ]
  },
  {
   "cell_type": "code",
   "execution_count": 216,
   "id": "21096544",
   "metadata": {},
   "outputs": [
    {
     "data": {
      "text/html": [
       "<div>\n",
       "<style scoped>\n",
       "    .dataframe tbody tr th:only-of-type {\n",
       "        vertical-align: middle;\n",
       "    }\n",
       "\n",
       "    .dataframe tbody tr th {\n",
       "        vertical-align: top;\n",
       "    }\n",
       "\n",
       "    .dataframe thead th {\n",
       "        text-align: right;\n",
       "    }\n",
       "</style>\n",
       "<table border=\"1\" class=\"dataframe\">\n",
       "  <thead>\n",
       "    <tr style=\"text-align: right;\">\n",
       "      <th></th>\n",
       "      <th>Age</th>\n",
       "      <th>Outcome</th>\n",
       "    </tr>\n",
       "  </thead>\n",
       "  <tbody>\n",
       "    <tr>\n",
       "      <th>count</th>\n",
       "      <td>768.000000</td>\n",
       "      <td>768.000000</td>\n",
       "    </tr>\n",
       "    <tr>\n",
       "      <th>mean</th>\n",
       "      <td>33.240885</td>\n",
       "      <td>0.348958</td>\n",
       "    </tr>\n",
       "    <tr>\n",
       "      <th>std</th>\n",
       "      <td>11.760232</td>\n",
       "      <td>0.476951</td>\n",
       "    </tr>\n",
       "    <tr>\n",
       "      <th>min</th>\n",
       "      <td>21.000000</td>\n",
       "      <td>0.000000</td>\n",
       "    </tr>\n",
       "    <tr>\n",
       "      <th>25%</th>\n",
       "      <td>24.000000</td>\n",
       "      <td>0.000000</td>\n",
       "    </tr>\n",
       "    <tr>\n",
       "      <th>50%</th>\n",
       "      <td>29.000000</td>\n",
       "      <td>0.000000</td>\n",
       "    </tr>\n",
       "    <tr>\n",
       "      <th>75%</th>\n",
       "      <td>41.000000</td>\n",
       "      <td>1.000000</td>\n",
       "    </tr>\n",
       "    <tr>\n",
       "      <th>max</th>\n",
       "      <td>81.000000</td>\n",
       "      <td>1.000000</td>\n",
       "    </tr>\n",
       "  </tbody>\n",
       "</table>\n",
       "</div>"
      ],
      "text/plain": [
       "              Age     Outcome\n",
       "count  768.000000  768.000000\n",
       "mean    33.240885    0.348958\n",
       "std     11.760232    0.476951\n",
       "min     21.000000    0.000000\n",
       "25%     24.000000    0.000000\n",
       "50%     29.000000    0.000000\n",
       "75%     41.000000    1.000000\n",
       "max     81.000000    1.000000"
      ]
     },
     "execution_count": 216,
     "metadata": {},
     "output_type": "execute_result"
    }
   ],
   "source": [
    "age = df[['Age','Outcome']]\n",
    "age.describe()"
   ]
  },
  {
   "cell_type": "code",
   "execution_count": 217,
   "id": "728e0cab",
   "metadata": {},
   "outputs": [
    {
     "name": "stdout",
     "output_type": "stream",
     "text": [
      "0 - 31.19\n",
      "1 - 37.06716417910448\n"
     ]
    }
   ],
   "source": [
    "for key in dict(age['Outcome'].value_counts()):\n",
    "                print(f\"{key} - {age[age['Outcome'] == key]['Age'].mean()}\")"
   ]
  },
  {
   "cell_type": "code",
   "execution_count": 218,
   "id": "2ff74c57",
   "metadata": {},
   "outputs": [
    {
     "name": "stdout",
     "output_type": "stream",
     "text": [
      "0 - 27.0\n",
      "1 - 36.0\n"
     ]
    }
   ],
   "source": [
    "for key in dict(age['Outcome'].value_counts()):\n",
    "                print(f\"{key} - {age[age['Outcome'] == key]['Age'].median()}\")"
   ]
  },
  {
   "cell_type": "code",
   "execution_count": 219,
   "id": "39c4e2b8",
   "metadata": {},
   "outputs": [
    {
     "name": "stdout",
     "output_type": "stream",
     "text": [
      "0 - 11.667654791631152\n",
      "1 - 10.968253652367915\n"
     ]
    }
   ],
   "source": [
    "for key in dict(age['Outcome'].value_counts()):\n",
    "                print(f\"{key} - {age[age['Outcome'] == key]['Age'].std()}\")"
   ]
  },
  {
   "cell_type": "code",
   "execution_count": 220,
   "id": "ab0f1392",
   "metadata": {},
   "outputs": [
    {
     "name": "stdout",
     "output_type": "stream",
     "text": [
      "0 - 0    22\n",
      "dtype: int64\n",
      "1 - 0    25\n",
      "dtype: int64\n"
     ]
    }
   ],
   "source": [
    "for key in dict(age['Outcome'].value_counts()):\n",
    "                print(f\"{key} - {age[age['Outcome'] == key]['Age'].mode()}\")"
   ]
  },
  {
   "cell_type": "code",
   "execution_count": 221,
   "id": "4126874e",
   "metadata": {},
   "outputs": [
    {
     "name": "stdout",
     "output_type": "stream",
     "text": [
      "Median =  29.0\n",
      "Mean =  33.240885416666664\n",
      "Standard Deviation =  11.760231540678685\n",
      "Variance =  138.30304589037377\n",
      "Mode =  0    22\n",
      "dtype: int64\n"
     ]
    }
   ],
   "source": [
    "print('Median = ', age['Age'].median())\n",
    "print('Mean = ', age['Age'].mean())\n",
    "print('Standard Deviation = ', age['Age'].std())\n",
    "print('Variance = ', age['Age'].var())\n",
    "print('Mode = ', age['Age'].mode())"
   ]
  },
  {
   "cell_type": "code",
   "execution_count": 222,
   "id": "c40f4496",
   "metadata": {},
   "outputs": [
    {
     "data": {
      "text/plain": [
       "0.23835598302719752"
      ]
     },
     "execution_count": 222,
     "metadata": {},
     "output_type": "execute_result"
    }
   ],
   "source": [
    "age['Age'].corr(age['Outcome'])"
   ]
  },
  {
   "cell_type": "code",
   "execution_count": 223,
   "id": "c78bcb20",
   "metadata": {},
   "outputs": [
    {
     "name": "stderr",
     "output_type": "stream",
     "text": [
      "c:\\users\\pulbe\\appdata\\local\\programs\\python\\python37\\lib\\site-packages\\ipykernel_launcher.py:1: SettingWithCopyWarning: \n",
      "A value is trying to be set on a copy of a slice from a DataFrame.\n",
      "Try using .loc[row_indexer,col_indexer] = value instead\n",
      "\n",
      "See the caveats in the documentation: https://pandas.pydata.org/pandas-docs/stable/user_guide/indexing.html#returning-a-view-versus-a-copy\n",
      "  \"\"\"Entry point for launching an IPython kernel.\n"
     ]
    }
   ],
   "source": [
    "age['Ages'] = age['Age'].apply(lambda x: x > 50 )"
   ]
  },
  {
   "cell_type": "code",
   "execution_count": 224,
   "id": "34eb879a",
   "metadata": {},
   "outputs": [
    {
     "name": "stderr",
     "output_type": "stream",
     "text": [
      "c:\\users\\pulbe\\appdata\\local\\programs\\python\\python37\\lib\\site-packages\\ipykernel_launcher.py:1: SettingWithCopyWarning: \n",
      "A value is trying to be set on a copy of a slice from a DataFrame.\n",
      "Try using .loc[row_indexer,col_indexer] = value instead\n",
      "\n",
      "See the caveats in the documentation: https://pandas.pydata.org/pandas-docs/stable/user_guide/indexing.html#returning-a-view-versus-a-copy\n",
      "  \"\"\"Entry point for launching an IPython kernel.\n"
     ]
    }
   ],
   "source": [
    "age['Ages'] = age['Ages'].map({False: 'young', True : 'old'})"
   ]
  },
  {
   "cell_type": "code",
   "execution_count": 225,
   "id": "46d8ed7d",
   "metadata": {},
   "outputs": [
    {
     "data": {
      "text/html": [
       "<div>\n",
       "<style scoped>\n",
       "    .dataframe tbody tr th:only-of-type {\n",
       "        vertical-align: middle;\n",
       "    }\n",
       "\n",
       "    .dataframe tbody tr th {\n",
       "        vertical-align: top;\n",
       "    }\n",
       "\n",
       "    .dataframe thead th {\n",
       "        text-align: right;\n",
       "    }\n",
       "</style>\n",
       "<table border=\"1\" class=\"dataframe\">\n",
       "  <thead>\n",
       "    <tr style=\"text-align: right;\">\n",
       "      <th></th>\n",
       "      <th>Age</th>\n",
       "      <th>Outcome</th>\n",
       "      <th>Ages</th>\n",
       "    </tr>\n",
       "  </thead>\n",
       "  <tbody>\n",
       "    <tr>\n",
       "      <th>0</th>\n",
       "      <td>50</td>\n",
       "      <td>1</td>\n",
       "      <td>young</td>\n",
       "    </tr>\n",
       "    <tr>\n",
       "      <th>1</th>\n",
       "      <td>31</td>\n",
       "      <td>0</td>\n",
       "      <td>young</td>\n",
       "    </tr>\n",
       "    <tr>\n",
       "      <th>2</th>\n",
       "      <td>32</td>\n",
       "      <td>1</td>\n",
       "      <td>young</td>\n",
       "    </tr>\n",
       "    <tr>\n",
       "      <th>3</th>\n",
       "      <td>21</td>\n",
       "      <td>0</td>\n",
       "      <td>young</td>\n",
       "    </tr>\n",
       "    <tr>\n",
       "      <th>4</th>\n",
       "      <td>33</td>\n",
       "      <td>1</td>\n",
       "      <td>young</td>\n",
       "    </tr>\n",
       "    <tr>\n",
       "      <th>...</th>\n",
       "      <td>...</td>\n",
       "      <td>...</td>\n",
       "      <td>...</td>\n",
       "    </tr>\n",
       "    <tr>\n",
       "      <th>763</th>\n",
       "      <td>63</td>\n",
       "      <td>0</td>\n",
       "      <td>old</td>\n",
       "    </tr>\n",
       "    <tr>\n",
       "      <th>764</th>\n",
       "      <td>27</td>\n",
       "      <td>0</td>\n",
       "      <td>young</td>\n",
       "    </tr>\n",
       "    <tr>\n",
       "      <th>765</th>\n",
       "      <td>30</td>\n",
       "      <td>0</td>\n",
       "      <td>young</td>\n",
       "    </tr>\n",
       "    <tr>\n",
       "      <th>766</th>\n",
       "      <td>47</td>\n",
       "      <td>1</td>\n",
       "      <td>young</td>\n",
       "    </tr>\n",
       "    <tr>\n",
       "      <th>767</th>\n",
       "      <td>23</td>\n",
       "      <td>0</td>\n",
       "      <td>young</td>\n",
       "    </tr>\n",
       "  </tbody>\n",
       "</table>\n",
       "<p>768 rows × 3 columns</p>\n",
       "</div>"
      ],
      "text/plain": [
       "     Age  Outcome   Ages\n",
       "0     50        1  young\n",
       "1     31        0  young\n",
       "2     32        1  young\n",
       "3     21        0  young\n",
       "4     33        1  young\n",
       "..   ...      ...    ...\n",
       "763   63        0    old\n",
       "764   27        0  young\n",
       "765   30        0  young\n",
       "766   47        1  young\n",
       "767   23        0  young\n",
       "\n",
       "[768 rows x 3 columns]"
      ]
     },
     "execution_count": 225,
     "metadata": {},
     "output_type": "execute_result"
    }
   ],
   "source": [
    "age"
   ]
  },
  {
   "cell_type": "code",
   "execution_count": 226,
   "id": "98d886de",
   "metadata": {},
   "outputs": [
    {
     "data": {
      "text/plain": [
       "young    687\n",
       "old       81\n",
       "Name: Ages, dtype: int64"
      ]
     },
     "execution_count": 226,
     "metadata": {},
     "output_type": "execute_result"
    }
   ],
   "source": [
    "age['Ages'].value_counts()"
   ]
  },
  {
   "cell_type": "code",
   "execution_count": 227,
   "id": "d1f18c9e",
   "metadata": {},
   "outputs": [
    {
     "name": "stdout",
     "output_type": "stream",
     "text": [
      "young - 0.33478893740902477\n",
      "old - 0.4691358024691358\n"
     ]
    }
   ],
   "source": [
    "for key in dict(age['Ages'].value_counts()):\n",
    "                print(f\"{key} - {age[age['Ages'] == key]['Outcome'].mean()}\")"
   ]
  },
  {
   "cell_type": "code",
   "execution_count": 230,
   "id": "2bbb6f4b",
   "metadata": {},
   "outputs": [
    {
     "name": "stdout",
     "output_type": "stream",
     "text": [
      "young - 0.47226046637318164\n",
      "old - 0.5021558461545186\n"
     ]
    }
   ],
   "source": [
    "for key in dict(age['Ages'].value_counts()):\n",
    "                print(f\"{key} - {age[age['Ages'] == key]['Outcome'].std()}\")"
   ]
  },
  {
   "cell_type": "code",
   "execution_count": 232,
   "id": "3816671c",
   "metadata": {},
   "outputs": [
    {
     "data": {
      "text/plain": [
       "0.23835598302719752"
      ]
     },
     "execution_count": 232,
     "metadata": {},
     "output_type": "execute_result"
    }
   ],
   "source": [
    "age['Age'].corr(age['Outcome'])"
   ]
  },
  {
   "cell_type": "code",
   "execution_count": null,
   "id": "94236068",
   "metadata": {},
   "outputs": [],
   "source": []
  },
  {
   "cell_type": "code",
   "execution_count": null,
   "id": "3faf1980",
   "metadata": {},
   "outputs": [],
   "source": []
  },
  {
   "cell_type": "code",
   "execution_count": 240,
   "id": "138a09f2",
   "metadata": {},
   "outputs": [
    {
     "data": {
      "image/png": "[encoded data removed]",
      "text/plain": [
       "<Figure size 720x360 with 1 Axes>"
      ]
     },
     "metadata": {
      "needs_background": "light"
     },
     "output_type": "display_data"
    }
   ],
   "source": [
    "import matplotlib.pyplot as plt\n",
    "mycolors = ['#2a9d8f','#e9c46a']\n",
    "gen = ['Age','Pedigree','BMI','Insulin','Skin Thickness','Blood pressure','Glucose' ]\n",
    "num = [age['Age'].corr(age['Outcome']), pedigree['DiabetesPedigreeFunction'].corr(pedigree['Outcome']),bmi['BMI'].corr(bmi['Outcome']),\n",
    "       insulin['Insulin'].corr(insulin['Outcome']),skin['SkinThickness'].corr(skin['Outcome']),blood['BloodPressure'].corr(blood['Outcome']),\n",
    "       glucose['Glucose'].corr(glucose['Outcome'])\n",
    "      ]\n",
    "\n",
    "\n",
    "plt.figure(figsize=(10,5))\n",
    "plt.bar(gen, num, alpha = 0.5, color =mycolors)\n",
    "plt.title('Influenta', fontsize = 20)\n",
    "plt.xticks(rotation=0);"
   ]
  },
  {
   "cell_type": "code",
   "execution_count": null,
   "id": "9aa83dc6",
   "metadata": {},
   "outputs": [],
   "source": []
  }
 ],
 "metadata": {
  "kernelspec": {
   "display_name": "Python 3 (ipykernel)",
   "language": "python",
   "name": "python3"
  },
  "language_info": {
   "codemirror_mode": {
    "name": "ipython",
    "version": 3
   },
   "file_extension": ".py",
   "mimetype": "text/x-python",
   "name": "python",
   "nbconvert_exporter": "python",
   "pygments_lexer": "ipython3",
   "version": "3.7.7"
  }
 },
 "nbformat": 4,
 "nbformat_minor": 5
}
