{
 "cells": [
  {
   "cell_type": "code",
   "execution_count": 52,
   "id": "9d28699e",
   "metadata": {},
   "outputs": [],
   "source": [
    "from collections import OrderedDict\n",
    "from functools import reduce\n",
    "from operator import mul\n",
    "from sklearn.model_selection import train_test_split\n",
    "from sklearn.metrics import accuracy_score\n",
    "import numpy as np\n",
    "from sklearn.datasets import load_iris"
   ]
  },
  {
   "cell_type": "code",
   "execution_count": 62,
   "id": "d7b34127",
   "metadata": {},
   "outputs": [],
   "source": [
    "#Getting the feature matrix and target vector from iris data set.\n",
    "X = load_iris()['data']\n",
    "y = load_iris()['target']"
   ]
  },
  {
   "cell_type": "code",
   "execution_count": 63,
   "id": "2a5d9ece",
   "metadata": {},
   "outputs": [],
   "source": [
    "#Scaling data\n",
    "from sklearn.preprocessing import StandardScaler\n",
    "scaler = StandardScaler()\n",
    "X_scaled = scaler.fit_transform(X)"
   ]
  },
  {
   "cell_type": "code",
   "execution_count": 64,
   "id": "2b595b81",
   "metadata": {},
   "outputs": [],
   "source": [
    "#Splitting the data in train and test with train_test_split\n",
    "X_train, X_test, y_train, y_test = train_test_split(X, y, test_size = 0.3, random_state = 42)"
   ]
  },
  {
   "cell_type": "code",
   "execution_count": 56,
   "id": "706a2248",
   "metadata": {},
   "outputs": [],
   "source": [
    "class Gauss:\n",
    "    def fit(self, X: np.array, y: np.array):\n",
    "        '''\n",
    "            The fitting function of the gaussian naive bayes model.\n",
    "        :param X: np.array\n",
    "            The feature matrix.\n",
    "        :param y: np.array\n",
    "            The target vector.\n",
    "        :return: Gauss\n",
    "            This function return the object of the trained model.\n",
    "        '''\n",
    "        # Preparing the mean, standard deviation and priors vectors.\n",
    "        self.mu = OrderedDict()\n",
    "        self.std = OrderedDict()\n",
    "        self.priors = OrderedDict()\n",
    "        # Computing the mean, standard deviation and prior vectors for every class\n",
    "        for cls in np.unique(y):\n",
    "            self.priors[cls] = len(y[y == cls]) / len(y)\n",
    "            self.mu[cls] = np.mean(X[ np.where(y == cls)], axis=0)\n",
    "            self.std[cls] = np.std(X[ np.where(y == cls)], axis=0)\n",
    "        return self\n",
    "\n",
    "    def normal_distribution(self, x: np. array , cls : str, i : int)-> float:\n",
    "        '''\n",
    "            The normal distribution formula.\n",
    "        :param x: np.array\n",
    "            The sample for which we want to find the probability.\n",
    "        :param cls: str or int\n",
    "            The class for which we want to compute the probability.\n",
    "        :param i: int\n",
    "            The index of the feature.\n",
    "        :return: float\n",
    "            The probability of the sample for the normal distribution.\n",
    "        '''\n",
    "        exponent = np.exp(-((x[i] - self.mu[cls][i]) ** 2 / (2 * self.std[cls][i] ** 2)))\n",
    "        return (1 / (np.sqrt(2 * np.pi) * self.std [cls][i] ** 2)) * exponent\n",
    "    def predict_proba(self, X: np. array) -> np.array:\n",
    "        '''\n",
    "            This function returns the probability for every sample in the data set.\n",
    "        :param X: np.array\n",
    "            The feature matrix passed to make predictions on.\n",
    "        :return: np.array\n",
    "            An array with the probabilities for every class for every sample.\n",
    "        '''\n",
    "        #Creating the empty list with probabilities\n",
    "        y_pred = []\n",
    "        #Computing the probabilities for every class for every sample\n",
    "        for x in X:\n",
    "            y_pred.append ([])\n",
    "            #Computing the probability for every class for this sample\n",
    "            for cls in self.priors :\n",
    "                prob = reduce (mul, [self.normal_distribution(x, cls, i) \n",
    "                                     for i in range(len(x))]) * self.priors[cls]\n",
    "                y_pred[-1].append(prob)\n",
    "            y_pred[-1] = np.array(y_pred [-1])\n",
    "            # Normalizing the vector\n",
    "            for i in range(len(y_pred[-1])):\n",
    "                y_pred[-1] = y_pred[-1] / np.linalg.norm(y_pred[-1])\n",
    "        return np.array(y_pred)\n",
    "    def predict(self, X : np. array) -> np. array:\n",
    "        '''\n",
    "            This function returns the predicted class for every sample in the data set\n",
    "        :param X: np.array\n",
    "            The feature matrix passed to make predictions on \n",
    "        :return: np.array\n",
    "            An array with the predicted classes for every class for every sample\n",
    "        '''\n",
    "        # Creating the empty list for storing the predicted classes \n",
    "        y = []\n",
    "        # Getting the predicted probabilities for every passed sample \n",
    "        probas = self.predict_proba(X)\n",
    "        # Getting the class with the highest probability for every sample. \n",
    "        for pr in probas:\n",
    "            y.append( list(self.priors.keys())[np.argmax(pr)])\n",
    "        return y"
   ]
  },
  {
   "cell_type": "code",
   "execution_count": 57,
   "id": "5c754cf2",
   "metadata": {},
   "outputs": [],
   "source": [
    "#Instantiating the class\n",
    "gauss_scr = Gauss()"
   ]
  },
  {
   "cell_type": "code",
   "execution_count": 58,
   "id": "589acca2",
   "metadata": {},
   "outputs": [
    {
     "data": {
      "text/plain": [
       "<__main__.Gauss at 0x11c7e687808>"
      ]
     },
     "execution_count": 58,
     "metadata": {},
     "output_type": "execute_result"
    }
   ],
   "source": [
    "#Fitting function\n",
    "gauss_scr.fit(X_train, y_train)"
   ]
  },
  {
   "cell_type": "code",
   "execution_count": 59,
   "id": "92a80ef6",
   "metadata": {
    "scrolled": true
   },
   "outputs": [],
   "source": [
    "#Predict probabilities function\n",
    "prob = gauss_scr.predict_proba(X_test)"
   ]
  },
  {
   "cell_type": "code",
   "execution_count": 60,
   "id": "e39359ce",
   "metadata": {},
   "outputs": [],
   "source": [
    "#Predict function\n",
    "y_pred = gauss_scr.predict(X_test)"
   ]
  },
  {
   "cell_type": "code",
   "execution_count": 61,
   "id": "8e461d40",
   "metadata": {},
   "outputs": [
    {
     "data": {
      "text/plain": [
       "1.0"
      ]
     },
     "execution_count": 61,
     "metadata": {},
     "output_type": "execute_result"
    }
   ],
   "source": [
    "#Accuracy score\n",
    "accuracy_score(y_test, y_pred)"
   ]
  },
  {
   "cell_type": "markdown",
   "id": "605c514b",
   "metadata": {},
   "source": [
    "## GaussianNB from sklearn"
   ]
  },
  {
   "cell_type": "code",
   "execution_count": 65,
   "id": "d9575ed7",
   "metadata": {},
   "outputs": [],
   "source": [
    "#Importing the model\n",
    "from sklearn.naive_bayes import GaussianNB"
   ]
  },
  {
   "cell_type": "code",
   "execution_count": 66,
   "id": "5c0c8ef2",
   "metadata": {},
   "outputs": [],
   "source": [
    "#Creating the model object\n",
    "gauss = GaussianNB()"
   ]
  },
  {
   "cell_type": "code",
   "execution_count": 67,
   "id": "84538aaf",
   "metadata": {},
   "outputs": [
    {
     "data": {
      "text/plain": [
       "GaussianNB()"
      ]
     },
     "execution_count": 67,
     "metadata": {},
     "output_type": "execute_result"
    }
   ],
   "source": [
    "#Fitting the model\n",
    "gauss.fit(X_train, y_train)"
   ]
  },
  {
   "cell_type": "code",
   "execution_count": 68,
   "id": "aff7277e",
   "metadata": {},
   "outputs": [],
   "source": [
    "#Making predictions on new samples\n",
    "y_pred = gauss.predict(X_test)"
   ]
  },
  {
   "cell_type": "code",
   "execution_count": 69,
   "id": "68545c05",
   "metadata": {},
   "outputs": [
    {
     "data": {
      "text/plain": [
       "0.9777777777777777"
      ]
     },
     "execution_count": 69,
     "metadata": {},
     "output_type": "execute_result"
    }
   ],
   "source": [
    "#Accuracy score\n",
    "accuracy_score(y_test, y_pred)"
   ]
  }
 ],
 "metadata": {
  "kernelspec": {
   "display_name": "Python 3 (ipykernel)",
   "language": "python",
   "name": "python3"
  },
  "language_info": {
   "codemirror_mode": {
    "name": "ipython",
    "version": 3
   },
   "file_extension": ".py",
   "mimetype": "text/x-python",
   "name": "python",
   "nbconvert_exporter": "python",
   "pygments_lexer": "ipython3",
   "version": "3.7.7"
  }
 },
 "nbformat": 4,
 "nbformat_minor": 5
}
