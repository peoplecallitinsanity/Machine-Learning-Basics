{
 "cells": [
  {
   "cell_type": "code",
   "execution_count": 1,
   "id": "203f55a8",
   "metadata": {},
   "outputs": [],
   "source": [
    "#Importing needed libraries\n",
    "import numpy as np\n",
    "from sklearn.datasets import load_wine\n",
    "from sklearn.neighbors import KNeighborsClassifier\n",
    "from sklearn.model_selection import train_test_split\n",
    "from sklearn.metrics import confusion_matrix, classification_report\n",
    "from sklearn.metrics import accuracy_score"
   ]
  },
  {
   "cell_type": "code",
   "execution_count": 2,
   "id": "5d169805",
   "metadata": {},
   "outputs": [],
   "source": [
    "#Getting the feature matrix and target vector from wine data set.\n",
    "X = load_wine()['data']\n",
    "y = load_wine()['target']"
   ]
  },
  {
   "cell_type": "code",
   "execution_count": 3,
   "id": "9f38c7f4",
   "metadata": {},
   "outputs": [],
   "source": [
    "#Splitting the data in train and test with train_test_split\n",
    "X_train, X_test, y_train, y_test = train_test_split(X, y, test_size = 0.3, random_state = 42)"
   ]
  },
  {
   "cell_type": "markdown",
   "id": "989568d2",
   "metadata": {},
   "source": [
    "## KNN implimentation from scratch"
   ]
  },
  {
   "cell_type": "code",
   "execution_count": 4,
   "id": "ae136739",
   "metadata": {},
   "outputs": [],
   "source": [
    "class KNN():\n",
    "    #Define a KNN class to store our relevant functions in\n",
    "    def __init__(self, k):\n",
    "        '''\n",
    "        The constructor of the KNN model.\n",
    "            :param k: int \n",
    "                The number of nearest neighbors to find for each sample. \n",
    "        '''\n",
    "        #Setting up the hyperparameters.\n",
    "        self.k = k\n",
    "        \n",
    "    def fit( self, X, y):\n",
    "        '''\n",
    "        The fit function of the model.\n",
    "        : param X : 2-D numpy.ndarray\n",
    "            The X matrix with the features.\n",
    "        : param y : 1-D numpy.ndarray\n",
    "            The target vector.\n",
    "        '''\n",
    "        self.X = X\n",
    "        self.y = y\n",
    "        return self\n",
    "    \n",
    "    def predict(self, X):\n",
    "        '''\n",
    "        The predict function of the model.\n",
    "        : param X : 2-D numpy.ndarray\n",
    "            The X_test matrix with the features which we want to predict.\n",
    "        '''\n",
    "        #A list in witch we will store our predictions in.\n",
    "        predictions = []\n",
    "        \n",
    "        #We will iterate through each point from our dataset\n",
    "        for p in X:\n",
    "            #A list that will contain the index and distance\n",
    "            neighbours = []\n",
    "            #This list will contain the labels of first k-neighbours\n",
    "            labels = []\n",
    "            \n",
    "            for i in range(len(self.X)):\n",
    "                #Getting the euclidian distances for our point and storing it in neighbours list\n",
    "                dist = np.sqrt(sum(np.square(self.X[i] - p)))\n",
    "                neighbours.append([i, dist])\n",
    "            #Sorting our list to find the minimum distances\n",
    "            neighbours = sorted(neighbours, key = lambda x : x[1])\n",
    "            \n",
    "            #Getting the first k minimum distances and storing into neighbours list\n",
    "            neighbours = neighbours[ : self.k]\n",
    "            \n",
    "            #Iterating through neighbours list and adding their corresponding label\n",
    "            for j in neighbours:\n",
    "                labels.append(self.y[j[0]])\n",
    "            #Using mean and then round function to get the most common label in labels list and adding \n",
    "            #them to predictions list\n",
    "            predictions.append(int(np.array(labels).mean().round()))\n",
    "        #Returning final predictions as an np.array\n",
    "        return np.asarray(predictions)"
   ]
  },
  {
   "cell_type": "code",
   "execution_count": 5,
   "id": "c5d098bc",
   "metadata": {},
   "outputs": [],
   "source": [
    "#Instantiating our model\n",
    "model = KNN(3)"
   ]
  },
  {
   "cell_type": "code",
   "execution_count": 6,
   "id": "d9417782",
   "metadata": {},
   "outputs": [
    {
     "data": {
      "text/plain": [
       "<__main__.KNN at 0x16c745fca48>"
      ]
     },
     "execution_count": 6,
     "metadata": {},
     "output_type": "execute_result"
    }
   ],
   "source": [
    "#Using fit function on X_train features matrix and y_train target vector\n",
    "model.fit(X_train, y_train)"
   ]
  },
  {
   "cell_type": "code",
   "execution_count": 7,
   "id": "bdf58530",
   "metadata": {},
   "outputs": [],
   "source": [
    "#Using predict function on X_test feature matrix\n",
    "y_pred = model.predict(X_test)"
   ]
  },
  {
   "cell_type": "code",
   "execution_count": 8,
   "id": "c2321cf0",
   "metadata": {},
   "outputs": [
    {
     "data": {
      "text/plain": [
       "0.7592592592592593"
      ]
     },
     "execution_count": 8,
     "metadata": {},
     "output_type": "execute_result"
    }
   ],
   "source": [
    "#Visualizing accuracy score\n",
    "accuracy_score(y_test, y_pred)"
   ]
  },
  {
   "cell_type": "code",
   "execution_count": 9,
   "id": "04e07076",
   "metadata": {},
   "outputs": [
    {
     "data": {
      "text/plain": [
       "array([[17,  0,  2],\n",
       "       [ 0, 19,  2],\n",
       "       [ 0,  9,  5]], dtype=int64)"
      ]
     },
     "execution_count": 9,
     "metadata": {},
     "output_type": "execute_result"
    }
   ],
   "source": [
    "#Visualizing the confusion matrix\n",
    "confusion_matrix(y_test, y_pred)"
   ]
  },
  {
   "cell_type": "markdown",
   "id": "1545a5d1",
   "metadata": {},
   "source": [
    "## KNN implimentation from Sklearn library"
   ]
  },
  {
   "cell_type": "code",
   "execution_count": 10,
   "id": "3d2fdaff",
   "metadata": {},
   "outputs": [
    {
     "data": {
      "text/plain": [
       "KNeighborsClassifier()"
      ]
     },
     "execution_count": 10,
     "metadata": {},
     "output_type": "execute_result"
    }
   ],
   "source": [
    "#Creating and fitting the model\n",
    "knn = KNeighborsClassifier(n_neighbors = 5)\n",
    "knn.fit(X_train, y_train)"
   ]
  },
  {
   "cell_type": "code",
   "execution_count": 11,
   "id": "41e34eb6",
   "metadata": {},
   "outputs": [],
   "source": [
    "#Making predictions\n",
    "y_pred = knn.predict(X_test)"
   ]
  },
  {
   "cell_type": "code",
   "execution_count": 12,
   "id": "9000effe",
   "metadata": {},
   "outputs": [
    {
     "data": {
      "text/plain": [
       "array([[17,  0,  2],\n",
       "       [ 1, 15,  5],\n",
       "       [ 1,  5,  8]], dtype=int64)"
      ]
     },
     "execution_count": 12,
     "metadata": {},
     "output_type": "execute_result"
    }
   ],
   "source": [
    "#Visualizing the confusion matrix\n",
    "confusion_matrix(y_test, y_pred)"
   ]
  },
  {
   "cell_type": "code",
   "execution_count": 13,
   "id": "5b84af34",
   "metadata": {
    "scrolled": false
   },
   "outputs": [
    {
     "data": {
      "text/plain": [
       "0.7407407407407407"
      ]
     },
     "execution_count": 13,
     "metadata": {},
     "output_type": "execute_result"
    }
   ],
   "source": [
    "#Visualizing accuracy score\n",
    "accuracy_score(y_test, y_pred)"
   ]
  },
  {
   "cell_type": "markdown",
   "id": "e49462f4",
   "metadata": {},
   "source": [
    "#### Surprisingly we got a better accuracy score on our implimentation from scratch"
   ]
  }
 ],
 "metadata": {
  "kernelspec": {
   "display_name": "Python 3 (ipykernel)",
   "language": "python",
   "name": "python3"
  },
  "language_info": {
   "codemirror_mode": {
    "name": "ipython",
    "version": 3
   },
   "file_extension": ".py",
   "mimetype": "text/x-python",
   "name": "python",
   "nbconvert_exporter": "python",
   "pygments_lexer": "ipython3",
   "version": "3.7.7"
  }
 },
 "nbformat": 4,
 "nbformat_minor": 5
}
