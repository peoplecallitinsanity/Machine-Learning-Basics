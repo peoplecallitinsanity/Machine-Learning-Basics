{
 "cells": [
  {
   "cell_type": "code",
   "execution_count": 1,
   "id": "203f55a8",
   "metadata": {},
   "outputs": [],
   "source": [
    "#Importing needed libraries\n",
    "import numpy as np\n",
    "from sklearn.datasets import load_iris\n",
    "from sklearn.linear_model import LogisticRegression\n",
    "from sklearn.model_selection import train_test_split\n",
    "from sklearn.metrics import confusion_matrix\n",
    "from sklearn.metrics import accuracy_score"
   ]
  },
  {
   "cell_type": "code",
   "execution_count": 2,
   "id": "ae136739",
   "metadata": {},
   "outputs": [],
   "source": [
    "class LogisticRegression2():\n",
    "    #Define a Linear Regression class to store our relevant functions in\n",
    "    def __init__(self, learning_rate: float = 0.05, max_iter: int = 100000) -> None:\n",
    "        '''\n",
    "        The constructor of the Logistic Regression model.\n",
    "            :param learning_rate: float, default = 0.05\n",
    "                The learning rate of the model.\n",
    "            :param max_iter: int, default = 1000000\n",
    "                The number of iteration to go through.\n",
    "        '''\n",
    "        #Setting up the hyperparameters.\n",
    "        self.__learning_rate = learning_rate\n",
    "        self.__max_iter = max_iter\n",
    "    def sigmoid( self, y: 'np.array') -> 'np.array':\n",
    "        '''\n",
    "        The sigmoid function.\n",
    "        :param y: numpy.ndarray\n",
    "            The predictions of the linear function .\n",
    "        '''\n",
    "        return 1 / (1 + np.exp(-y))\n",
    "    def fit( self, X: 'np.array', y: 'np.array') -> 'LogisticRegression2':\n",
    "        '''\n",
    "        The fit function of the model.\n",
    "        : param X : 2-D numpy.ndarray\n",
    "            The X matrix with the features.\n",
    "        : param y : 1-D numpy.ndarray\n",
    "            The target vector.\n",
    "        '''\n",
    "        #Creating the weights vector\n",
    "        self.coef_ = np.zeros( len(X[0]) + 1)\n",
    "        #Adding the intercept column.\n",
    "        X = np.hstack((X, np.ones((len(X), 1))))\n",
    "        #The weights updating process.\n",
    "        for i in range(self.__max_iter):\n",
    "            #Prediction.\n",
    "            pred = self.sigmoid(np.dot(X, self.coef_))\n",
    "            \n",
    "            #Computing the gradient.\n",
    "            gradient = np.dot(X.T, (pred - y)) / y.size\n",
    "            \n",
    "            #Updating the weights.\n",
    "            self.coef_ -= gradient * self.__learning_rate\n",
    "        return self\n",
    "    def predict_proba( self, X: 'np.array') -> 'np.array':\n",
    "        '''\n",
    "        This function returns the class probabilities.\n",
    "        : param X : 2-D numpy.ndarray\n",
    "            The X matrix with the features.\n",
    "        : return : 2-D numpy.ndarray\n",
    "            The array with the probabilities for every class and sample.\n",
    "        '''\n",
    "        \n",
    "        #Adding the intercept column.\n",
    "        X = np.hstack((X, np.ones((len(X), 1))))\n",
    "        \n",
    "        #Computing the probabilities.\n",
    "        prob = self.sigmoid(np.dot(X, self.coef_))\n",
    "        \n",
    "        #Returning the probabilities.\n",
    "        return np.hstack(((1 - prob).reshape(-1, 1), prob.reshape(-1, 1)))\n",
    "\n",
    "    def predict( self, X: 'np.array') -> 'np.array':\n",
    "        '''\n",
    "        This functions returns the predictions.\n",
    "        : param X : 2-D numpy.ndarray\n",
    "            The X matrix with the features.\n",
    "        : return : 2-D numpy.ndarray\n",
    "            The array with the predictions\n",
    "        '''\n",
    "        \n",
    "        #Adding the intercept column.\n",
    "        X = np.hstack((X, np.ones((len(X), 1))))\n",
    "        \n",
    "        return ( self.sigmoid(np.dot(X, self.coef_)) > 0.7 ) * 1\n",
    "\n",
    "\n",
    "\n"
   ]
  },
  {
   "cell_type": "markdown",
   "id": "1545a5d1",
   "metadata": {},
   "source": [
    "## Logistic Regression implimentation from Sklearn library"
   ]
  },
  {
   "cell_type": "code",
   "execution_count": 4,
   "id": "3951f99f",
   "metadata": {},
   "outputs": [],
   "source": [
    "#Getting the feature matrix and target vector from iris data set.\n",
    "X, y = load_iris(return_X_y = True)"
   ]
  },
  {
   "cell_type": "code",
   "execution_count": 5,
   "id": "ed66f804",
   "metadata": {},
   "outputs": [],
   "source": [
    "#Splitting the data in train and test with train_test_split\n",
    "X_train, X_test, y_train, y_test = train_test_split(X, y, test_size = 0.3, random_state = 42)"
   ]
  },
  {
   "cell_type": "code",
   "execution_count": 6,
   "id": "3d2fdaff",
   "metadata": {},
   "outputs": [],
   "source": [
    "#Creating the model\n",
    "clf = LogisticRegression( random_state = 0)"
   ]
  },
  {
   "cell_type": "code",
   "execution_count": 7,
   "id": "76d8a7dc",
   "metadata": {},
   "outputs": [
    {
     "data": {
      "text/plain": [
       "LogisticRegression(random_state=0)"
      ]
     },
     "execution_count": 7,
     "metadata": {},
     "output_type": "execute_result"
    }
   ],
   "source": [
    "#Fitting the model\n",
    "clf.fit(X_train, y_train)"
   ]
  },
  {
   "cell_type": "code",
   "execution_count": 8,
   "id": "41e34eb6",
   "metadata": {},
   "outputs": [],
   "source": [
    "#Making predictions\n",
    "y_pred = clf.predict(X_test)"
   ]
  },
  {
   "cell_type": "code",
   "execution_count": 9,
   "id": "9000effe",
   "metadata": {},
   "outputs": [
    {
     "data": {
      "text/plain": [
       "array([[19,  0,  0],\n",
       "       [ 0, 13,  0],\n",
       "       [ 0,  0, 13]], dtype=int64)"
      ]
     },
     "execution_count": 9,
     "metadata": {},
     "output_type": "execute_result"
    }
   ],
   "source": [
    "#Visualizing the confusion matrix\n",
    "confusion_matrix(y_test, y_pred)"
   ]
  },
  {
   "cell_type": "code",
   "execution_count": 10,
   "id": "5b84af34",
   "metadata": {
    "scrolled": true
   },
   "outputs": [
    {
     "data": {
      "text/plain": [
       "1.0"
      ]
     },
     "execution_count": 10,
     "metadata": {},
     "output_type": "execute_result"
    }
   ],
   "source": [
    "#Visualizing accuracy score\n",
    "accuracy_score(y_test, y_pred)"
   ]
  },
  {
   "cell_type": "markdown",
   "id": "f7926630",
   "metadata": {},
   "source": [
    "#### We have a 100% accuracy score - LogisticRegression predicted everything correctly"
   ]
  },
  {
   "cell_type": "code",
   "execution_count": 11,
   "id": "9c065ca1",
   "metadata": {},
   "outputs": [],
   "source": [
    "#Implimentation of our model on iris dataset\n",
    "gr = LogisticRegression2()"
   ]
  },
  {
   "cell_type": "code",
   "execution_count": 12,
   "id": "47fa550a",
   "metadata": {
    "scrolled": true
   },
   "outputs": [
    {
     "data": {
      "text/plain": [
       "array([0.5       , 0.5       , 0.5       , 0.5       , 0.5       ,\n",
       "       0.5       , 0.5       , 0.5       , 0.5       , 0.5       ,\n",
       "       0.5       , 0.5       , 0.5       , 0.5       , 0.5       ,\n",
       "       0.5       , 0.5       , 0.5       , 0.5       , 0.5       ,\n",
       "       0.5       , 0.5       , 0.5       , 0.5       , 0.5       ,\n",
       "       0.5       , 0.5       , 0.5       , 0.5       , 0.5       ,\n",
       "       0.5       , 0.5       , 0.5       , 0.5       , 0.5       ,\n",
       "       0.5       , 0.5       , 0.5       , 0.5       , 0.5       ,\n",
       "       0.5       , 0.5       , 0.5       , 0.5       , 0.5       ,\n",
       "       0.5       , 0.5       , 0.5       , 0.5       , 0.5       ,\n",
       "       0.73105858, 0.73105858, 0.73105858, 0.73105858, 0.73105858,\n",
       "       0.73105858, 0.73105858, 0.73105858, 0.73105858, 0.73105858,\n",
       "       0.73105858, 0.73105858, 0.73105858, 0.73105858, 0.73105858,\n",
       "       0.73105858, 0.73105858, 0.73105858, 0.73105858, 0.73105858,\n",
       "       0.73105858, 0.73105858, 0.73105858, 0.73105858, 0.73105858,\n",
       "       0.73105858, 0.73105858, 0.73105858, 0.73105858, 0.73105858,\n",
       "       0.73105858, 0.73105858, 0.73105858, 0.73105858, 0.73105858,\n",
       "       0.73105858, 0.73105858, 0.73105858, 0.73105858, 0.73105858,\n",
       "       0.73105858, 0.73105858, 0.73105858, 0.73105858, 0.73105858,\n",
       "       0.73105858, 0.73105858, 0.73105858, 0.73105858, 0.73105858,\n",
       "       0.88079708, 0.88079708, 0.88079708, 0.88079708, 0.88079708,\n",
       "       0.88079708, 0.88079708, 0.88079708, 0.88079708, 0.88079708,\n",
       "       0.88079708, 0.88079708, 0.88079708, 0.88079708, 0.88079708,\n",
       "       0.88079708, 0.88079708, 0.88079708, 0.88079708, 0.88079708,\n",
       "       0.88079708, 0.88079708, 0.88079708, 0.88079708, 0.88079708,\n",
       "       0.88079708, 0.88079708, 0.88079708, 0.88079708, 0.88079708,\n",
       "       0.88079708, 0.88079708, 0.88079708, 0.88079708, 0.88079708,\n",
       "       0.88079708, 0.88079708, 0.88079708, 0.88079708, 0.88079708,\n",
       "       0.88079708, 0.88079708, 0.88079708, 0.88079708, 0.88079708,\n",
       "       0.88079708, 0.88079708, 0.88079708, 0.88079708, 0.88079708])"
      ]
     },
     "execution_count": 12,
     "metadata": {},
     "output_type": "execute_result"
    }
   ],
   "source": [
    "#The sigmoid function from our model\n",
    "gr.sigmoid( y )"
   ]
  },
  {
   "cell_type": "code",
   "execution_count": 13,
   "id": "57eccea9",
   "metadata": {
    "scrolled": true
   },
   "outputs": [
    {
     "data": {
      "text/plain": [
       "<__main__.LogisticRegression2 at 0x1fdf4bd2e48>"
      ]
     },
     "execution_count": 13,
     "metadata": {},
     "output_type": "execute_result"
    }
   ],
   "source": [
    "#The fit function from our model\n",
    "gr.fit(X_train, y_train)"
   ]
  },
  {
   "cell_type": "code",
   "execution_count": 14,
   "id": "bf92cd7f",
   "metadata": {},
   "outputs": [
    {
     "data": {
      "text/plain": [
       "array([[0., 1.],\n",
       "       [0., 1.],\n",
       "       [0., 1.],\n",
       "       [0., 1.],\n",
       "       [0., 1.],\n",
       "       [0., 1.],\n",
       "       [0., 1.],\n",
       "       [0., 1.],\n",
       "       [0., 1.],\n",
       "       [0., 1.],\n",
       "       [0., 1.],\n",
       "       [0., 1.],\n",
       "       [0., 1.],\n",
       "       [0., 1.],\n",
       "       [0., 1.],\n",
       "       [0., 1.],\n",
       "       [0., 1.],\n",
       "       [0., 1.],\n",
       "       [0., 1.],\n",
       "       [0., 1.],\n",
       "       [0., 1.],\n",
       "       [0., 1.],\n",
       "       [0., 1.],\n",
       "       [0., 1.],\n",
       "       [0., 1.],\n",
       "       [0., 1.],\n",
       "       [0., 1.],\n",
       "       [0., 1.],\n",
       "       [0., 1.],\n",
       "       [0., 1.],\n",
       "       [0., 1.],\n",
       "       [0., 1.],\n",
       "       [0., 1.],\n",
       "       [0., 1.],\n",
       "       [0., 1.],\n",
       "       [0., 1.],\n",
       "       [0., 1.],\n",
       "       [0., 1.],\n",
       "       [0., 1.],\n",
       "       [0., 1.],\n",
       "       [0., 1.],\n",
       "       [0., 1.],\n",
       "       [0., 1.],\n",
       "       [0., 1.],\n",
       "       [0., 1.]])"
      ]
     },
     "execution_count": 14,
     "metadata": {},
     "output_type": "execute_result"
    }
   ],
   "source": [
    "#The predict_proba from our model, returning the probabilities\n",
    "gr.predict_proba(X_test)"
   ]
  },
  {
   "cell_type": "code",
   "execution_count": 18,
   "id": "962ec3b5",
   "metadata": {
    "scrolled": false
   },
   "outputs": [],
   "source": [
    "#The predict function that returns the predictions\n",
    "y_pred = gr.predict(X_test)"
   ]
  },
  {
   "cell_type": "code",
   "execution_count": 19,
   "id": "5e5c690c",
   "metadata": {},
   "outputs": [
    {
     "data": {
      "text/plain": [
       "array([[ 0, 19,  0],\n",
       "       [ 0, 13,  0],\n",
       "       [ 0, 13,  0]], dtype=int64)"
      ]
     },
     "execution_count": 19,
     "metadata": {},
     "output_type": "execute_result"
    }
   ],
   "source": [
    "#Visualizing the confusion matrix\n",
    "confusion_matrix(y_test, y_pred)"
   ]
  },
  {
   "cell_type": "code",
   "execution_count": 20,
   "id": "333b51f2",
   "metadata": {},
   "outputs": [
    {
     "data": {
      "text/plain": [
       "0.28888888888888886"
      ]
     },
     "execution_count": 20,
     "metadata": {},
     "output_type": "execute_result"
    }
   ],
   "source": [
    "#Visualizing accuracy score\n",
    "accuracy_score(y_test, y_pred)"
   ]
  },
  {
   "cell_type": "markdown",
   "id": "45545d45",
   "metadata": {},
   "source": [
    "##### Our Logistic Regression model predicted only the second class "
   ]
  }
 ],
 "metadata": {
  "kernelspec": {
   "display_name": "Python 3 (ipykernel)",
   "language": "python",
   "name": "python3"
  },
  "language_info": {
   "codemirror_mode": {
    "name": "ipython",
    "version": 3
   },
   "file_extension": ".py",
   "mimetype": "text/x-python",
   "name": "python",
   "nbconvert_exporter": "python",
   "pygments_lexer": "ipython3",
   "version": "3.7.7"
  }
 },
 "nbformat": 4,
 "nbformat_minor": 5
}
