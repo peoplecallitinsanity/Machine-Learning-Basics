{
 "cells": [
  {
   "cell_type": "code",
   "execution_count": 1,
   "id": "a0801bc1",
   "metadata": {},
   "outputs": [],
   "source": [
    "class Student:\n",
    "    def __init__( self, name, surname, grades, comments ):\n",
    "        self.name = name\n",
    "        self.surname = surname\n",
    "        self.grades = grades\n",
    "        self.comments = comments"
   ]
  },
  {
   "cell_type": "code",
   "execution_count": 2,
   "id": "9ff82326",
   "metadata": {},
   "outputs": [],
   "source": [
    "grades = { 'Informatics' : [ 7, 9, 8 ], 'Math' : [ 7, 8, 9 ] }\n",
    "student1 = Student ( 'Alex', 'Pierce', grades, 'Good student!' )"
   ]
  },
  {
   "cell_type": "code",
   "execution_count": 3,
   "id": "4e469f11",
   "metadata": {},
   "outputs": [
    {
     "name": "stdout",
     "output_type": "stream",
     "text": [
      "Alex\n",
      "Pierce\n",
      "{'Informatics': [7, 9, 8], 'Math': [7, 8, 9]}\n",
      "Good student!\n"
     ]
    }
   ],
   "source": [
    "print(student1.name)\n",
    "print(student1.surname)\n",
    "print(student1.grades)\n",
    "print(student1.comments)"
   ]
  },
  {
   "cell_type": "code",
   "execution_count": 4,
   "id": "64ca5f29",
   "metadata": {},
   "outputs": [
    {
     "name": "stdout",
     "output_type": "stream",
     "text": [
      "Richard\n"
     ]
    }
   ],
   "source": [
    "grades = { 'Informatics' : [ 7, 9, 8 ], 'Math' : [ 7, 8, 9 ] }\n",
    "student1 = Student ( 'Alex', 'Pierce', grades, 'Good student!' )\n",
    "student1.name = 'Richard'\n",
    "print(student1.name)"
   ]
  },
  {
   "cell_type": "code",
   "execution_count": 15,
   "id": "2d6d2ac1",
   "metadata": {},
   "outputs": [],
   "source": [
    "class Student:\n",
    "    def __init__( self, name, surname, grades, comments ):\n",
    "        self.name = name\n",
    "        self.surname = surname\n",
    "        self.grades = grades\n",
    "        self.comments = comments\n",
    "    def average_grade( self ):\n",
    "        avg = 0\n",
    "        for value in self.grades.values():\n",
    "            avg += (sum(value) / len(value))\n",
    "        average = (avg / len(grades.keys()))\n",
    "        return average"
   ]
  },
  {
   "cell_type": "code",
   "execution_count": 16,
   "id": "bf42a6b6",
   "metadata": {},
   "outputs": [],
   "source": [
    "grades = { 'Informatics' : [ 7, 9, 8 ], 'Math' : [ 7, 8, 9 ] }\n",
    "student1 = Student ( 'Alex', 'Pierce', grades, 'Good student!' )"
   ]
  },
  {
   "cell_type": "code",
   "execution_count": 17,
   "id": "5b983c85",
   "metadata": {},
   "outputs": [
    {
     "name": "stdout",
     "output_type": "stream",
     "text": [
      "8.0\n"
     ]
    }
   ],
   "source": [
    "print(student1.average_grade())"
   ]
  },
  {
   "cell_type": "code",
   "execution_count": 24,
   "id": "d9dff8af",
   "metadata": {},
   "outputs": [],
   "source": [
    "class Student:\n",
    "    def __init__( self, name, surname, grades, comments ):\n",
    "        self.__name = name\n",
    "        self.surname = surname\n",
    "        self.grades = grades\n",
    "        self.comments = comments\n",
    "    def average_grade( self ):\n",
    "        avg = 0\n",
    "        for value in self.grades.values():\n",
    "            avg += (sum(value) / len(value))\n",
    "        average = (avg / len(grades.keys()))\n",
    "        return average\n",
    "    def print_name( self ):\n",
    "        print(self.__name)"
   ]
  },
  {
   "cell_type": "code",
   "execution_count": 25,
   "id": "87d5cb7e",
   "metadata": {},
   "outputs": [],
   "source": [
    "grades = { 'Informatics' : [ 7, 9, 8 ], 'Math' : [ 7, 8, 9 ] }\n",
    "student1 = Student ( 'Alex', 'Pierce', grades, 'Good student!' )"
   ]
  },
  {
   "cell_type": "code",
   "execution_count": 26,
   "id": "a80f762a",
   "metadata": {},
   "outputs": [
    {
     "ename": "AttributeError",
     "evalue": "'Student' object has no attribute 'name'",
     "output_type": "error",
     "traceback": [
      "\u001b[1;31m---------------------------------------------------------------------------\u001b[0m",
      "\u001b[1;31mAttributeError\u001b[0m                            Traceback (most recent call last)",
      "\u001b[1;32m~\\AppData\\Local\\Temp/ipykernel_9112/3276148171.py\u001b[0m in \u001b[0;36m<module>\u001b[1;34m\u001b[0m\n\u001b[1;32m----> 1\u001b[1;33m \u001b[0mprint\u001b[0m\u001b[1;33m(\u001b[0m\u001b[0mstudent1\u001b[0m\u001b[1;33m.\u001b[0m\u001b[0mname\u001b[0m\u001b[1;33m)\u001b[0m\u001b[1;33m\u001b[0m\u001b[1;33m\u001b[0m\u001b[0m\n\u001b[0m",
      "\u001b[1;31mAttributeError\u001b[0m: 'Student' object has no attribute 'name'"
     ]
    }
   ],
   "source": [
    "print(student1.name)"
   ]
  },
  {
   "cell_type": "code",
   "execution_count": 28,
   "id": "d04dfcbb",
   "metadata": {},
   "outputs": [
    {
     "name": "stdout",
     "output_type": "stream",
     "text": [
      "Alex\n"
     ]
    }
   ],
   "source": [
    "student1.print_name()"
   ]
  },
  {
   "cell_type": "code",
   "execution_count": 29,
   "id": "40f8369e",
   "metadata": {},
   "outputs": [],
   "source": [
    "class Human:\n",
    "    def __init__( self, name, surname ):\n",
    "        self.name = name\n",
    "        self.surname = surname\n",
    "    def sleeping( self ):\n",
    "        print('I am sleeping')\n",
    "\n",
    "class Student(Human):\n",
    "    def __init__( self, name, surname, grades, comments ):\n",
    "        super().__init__( name, surname )\n",
    "        self.grades = grades\n",
    "        self.comments = comments\n",
    "    def average_grade( self ):\n",
    "        avg = 0\n",
    "        for value in self.grades.values():\n",
    "            avg += (sum(value) / len(value))\n",
    "        average = (avg / len(grades.keys()))\n",
    "        return average\n",
    "\n",
    "        \n",
    "    "
   ]
  },
  {
   "cell_type": "code",
   "execution_count": 32,
   "id": "df985c72",
   "metadata": {},
   "outputs": [
    {
     "name": "stdout",
     "output_type": "stream",
     "text": [
      "I am sleeping\n"
     ]
    }
   ],
   "source": [
    "human1 = Human( 'Alex', 'Pierce')\n",
    "human1.sleeping()"
   ]
  },
  {
   "cell_type": "code",
   "execution_count": 33,
   "id": "8ac118ea",
   "metadata": {},
   "outputs": [
    {
     "name": "stdout",
     "output_type": "stream",
     "text": [
      "I am sleeping\n"
     ]
    }
   ],
   "source": [
    "grades = { 'Informatics' : [ 7, 9, 8 ], 'Math' : [ 7, 8, 9 ] }\n",
    "student1 = Student ( 'Alex', 'Pierce', grades, 'Good student!' )\n",
    "student1.sleeping()"
   ]
  },
  {
   "cell_type": "code",
   "execution_count": 34,
   "id": "d07e133b",
   "metadata": {},
   "outputs": [],
   "source": [
    "class Human:\n",
    "    def __init__( self, name, surname ):\n",
    "        self.name = name\n",
    "        self.surname = surname\n",
    "    def sleeping( self ):\n",
    "        print('I am sleeping')\n",
    "\n",
    "class Student(Human):\n",
    "    def __init__( self, name, surname, grades, comments ):\n",
    "        super().__init__( name, surname )\n",
    "        self.grades = grades\n",
    "        self.comments = comments\n",
    "    def average_grade( self ):\n",
    "        avg = 0\n",
    "        for value in self.grades.values():\n",
    "            avg += (sum(value) / len(value))\n",
    "        average = (avg / len(grades.keys()))\n",
    "        return average\n",
    "    def sleeping( self ):\n",
    "        print('Student is sleeping')"
   ]
  },
  {
   "cell_type": "code",
   "execution_count": 36,
   "id": "565d1f65",
   "metadata": {},
   "outputs": [],
   "source": [
    "human1 = Human( 'Alex', 'Pierce')\n",
    "grades = { 'Informatics' : [ 7, 9, 8 ], 'Math' : [ 7, 8, 9 ] }\n",
    "student1 = Student ( 'Alex', 'Pierce', grades, 'Good student!' )"
   ]
  },
  {
   "cell_type": "code",
   "execution_count": 37,
   "id": "0a084675",
   "metadata": {},
   "outputs": [
    {
     "name": "stdout",
     "output_type": "stream",
     "text": [
      "I am sleeping\n",
      "Student is sleeping\n"
     ]
    }
   ],
   "source": [
    "human1.sleeping()\n",
    "student1.sleeping()"
   ]
  },
  {
   "cell_type": "code",
   "execution_count": 38,
   "id": "a6f3a562",
   "metadata": {},
   "outputs": [],
   "source": [
    "class Human:\n",
    "    def __init__( self, name, surname ):\n",
    "        self.name = name\n",
    "        self.surname = surname\n",
    "    def sleeping( self ):\n",
    "        print('I am sleeping')\n",
    "\n",
    "class Student(Human):\n",
    "    def __init__( self, name, surname, grades, comments ):\n",
    "        super().__init__( name, surname )\n",
    "        self.grades = grades\n",
    "        self.comments = comments\n",
    "    def average_grade( self ):\n",
    "        avg = 0\n",
    "        for value in self.grades.values():\n",
    "            avg += (sum(value) / len(value))\n",
    "        average = (avg / len(grades.keys()))\n",
    "        return average\n",
    "    def sleeping( self ):\n",
    "        print('Student is sleeping')\n",
    "\n",
    "class Teacher:\n",
    "    def __init__( self, name, surname ):\n",
    "        self.name = name\n",
    "        self.surname = surname\n",
    "    def sleeping( self ):\n",
    "        print('Teacher is sleeping')"
   ]
  },
  {
   "cell_type": "code",
   "execution_count": 41,
   "id": "2b6b1c42",
   "metadata": {},
   "outputs": [],
   "source": [
    "teacher1 = Teacher( 'Tom', 'Cruise' )"
   ]
  },
  {
   "cell_type": "code",
   "execution_count": 42,
   "id": "e3d54bd3",
   "metadata": {},
   "outputs": [
    {
     "name": "stdout",
     "output_type": "stream",
     "text": [
      "Teacher is sleeping\n"
     ]
    }
   ],
   "source": [
    "teacher1.sleeping()"
   ]
  },
  {
   "cell_type": "code",
   "execution_count": 43,
   "id": "8cdef32e",
   "metadata": {},
   "outputs": [
    {
     "name": "stdout",
     "output_type": "stream",
     "text": [
      "Student is sleeping\n",
      "Teacher is sleeping\n"
     ]
    }
   ],
   "source": [
    "for obj in (student1, teacher1):\n",
    "    obj.sleeping()"
   ]
  },
  {
   "cell_type": "code",
   "execution_count": null,
   "id": "8ec3ba1f",
   "metadata": {},
   "outputs": [],
   "source": []
  }
 ],
 "metadata": {
  "kernelspec": {
   "display_name": "Python 3 (ipykernel)",
   "language": "python",
   "name": "python3"
  },
  "language_info": {
   "codemirror_mode": {
    "name": "ipython",
    "version": 3
   },
   "file_extension": ".py",
   "mimetype": "text/x-python",
   "name": "python",
   "nbconvert_exporter": "python",
   "pygments_lexer": "ipython3",
   "version": "3.7.7"
  }
 },
 "nbformat": 4,
 "nbformat_minor": 5
}
