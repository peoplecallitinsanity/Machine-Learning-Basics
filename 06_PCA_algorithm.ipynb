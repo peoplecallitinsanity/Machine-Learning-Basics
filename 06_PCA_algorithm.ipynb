{
 "cells": [
  {
   "cell_type": "code",
   "execution_count": 1,
   "id": "f7da74b3",
   "metadata": {},
   "outputs": [],
   "source": [
    "from sklearn.preprocessing import StandardScaler\n",
    "from sklearn.datasets import load_iris\n",
    "import numpy as np"
   ]
  },
  {
   "cell_type": "code",
   "execution_count": 2,
   "id": "063f6041",
   "metadata": {},
   "outputs": [],
   "source": [
    "#Getting the feature matrix and target vector from iris data set.\n",
    "X, y = load_iris(return_X_y = True)"
   ]
  },
  {
   "cell_type": "markdown",
   "id": "c1600fc2",
   "metadata": {},
   "source": [
    "### Implementation of PCA from scratch"
   ]
  },
  {
   "cell_type": "code",
   "execution_count": 3,
   "id": "9bc229dd",
   "metadata": {},
   "outputs": [],
   "source": [
    "class myPCA:\n",
    "    def __init__(self, n_components: int = 2, method : str = 'svd') -> None:\n",
    "        '''\n",
    "            The constructor of the PCA algorithm.\n",
    "        :param n_compoents : int, default = 2\n",
    "            The dimension in which the data will be reduced.\n",
    "        :param method: str, default sud\n",
    "            The way used by PCA to reduce the dimensionality of the data.\n",
    "        '''\n",
    "        \n",
    "        self.__n_components = n_components\n",
    "        if method in ('svd', 'eigen'):\n",
    "            self.__method = method\n",
    "        else:\n",
    "            raise ValueError (f\" '{method}' isn't a method implemented in this model\")\n",
    "    def fit(self, X: 'np. array'):\n",
    "        '''\n",
    "            The fitting method.\n",
    "        param X: np.array\n",
    "            The data on which we want to fit the pca\n",
    "        '''\n",
    "        if self.__method == 'svd':\n",
    "            U, S, V = np.linalg.svd(X)\n",
    "            self.__V = V[: self.__n_components, :]\n",
    "        elif self.__method == 'eigen':\n",
    "            corr_mat = np.corrcoef(X.T)\n",
    "            # Getting the eigen vectors and eigenvalues\n",
    "            self.eig_vals, self.eig_vecs = np.linalg.eig(corr_mat)\n",
    "            \n",
    "            # Sorting the list of tuples (eigenvalue, eigenvector)\n",
    "            self.eig_pairs = [(np.abs(self.eig_vals[i]), self. eig_vecs [:, i])\n",
    "                                for i in range(len(self.eig_vals ))]\n",
    "            self.eig_pairs.sort(key = lambda x: x[0], reverse = True)\n",
    "            \n",
    "            # Calculating the explainet ration\n",
    "            total = sum(self.eig_vals )\n",
    "            self.explained_variance_ratio = [(i/total)* 100\n",
    "                                for i in sorted(self.eig_vals, reverse= True)]\n",
    "            self.cumulative_variance_ratio = np.cumsum(self.explained_variance_ratio)\n",
    "            \n",
    "            # Creating the projection matrix\n",
    "            self.matriz_w = np.hstack(\n",
    "                (self. eig_pairs[i][1].reshape(np.size (X, 1),1)\n",
    "                for i in range( self.__n_components))\n",
    "            )\n",
    "            return self\n",
    "    def transform (self , X: 'np. array') -> 'np. array':\n",
    "        '''\n",
    "            The transform function.\n",
    "        :param X: np.array\n",
    "            The data that we must reduce.\n",
    "        '''\n",
    "    \n",
    "        if self.__method == 'svd':\n",
    "            return X.dot(self.__V.T)\n",
    "        elif self.__method == 'eigen':\n",
    "            return X.dot (self.matrix_w)"
   ]
  },
  {
   "cell_type": "code",
   "execution_count": 4,
   "id": "4bef3e84",
   "metadata": {},
   "outputs": [],
   "source": [
    "#Instantiating a PCA object\n",
    "PCA = myPCA()"
   ]
  },
  {
   "cell_type": "code",
   "execution_count": 5,
   "id": "ab99d977",
   "metadata": {},
   "outputs": [],
   "source": [
    "#Fitting fuction on X matrix with the features\n",
    "PCA.fit(X)"
   ]
  },
  {
   "cell_type": "code",
   "execution_count": 6,
   "id": "2c1c7bc7",
   "metadata": {},
   "outputs": [],
   "source": [
    "#Transforming the data into a new reduced matrix pca_x \n",
    "pca_x = PCA.transform(X)"
   ]
  },
  {
   "cell_type": "code",
   "execution_count": 7,
   "id": "932a86af",
   "metadata": {},
   "outputs": [
    {
     "data": {
      "text/plain": [
       "(150, 2)"
      ]
     },
     "execution_count": 7,
     "metadata": {},
     "output_type": "execute_result"
    }
   ],
   "source": [
    "pca_x.shape"
   ]
  },
  {
   "cell_type": "markdown",
   "id": "959f6821",
   "metadata": {},
   "source": [
    "### Implementation of PCA from sklearn"
   ]
  },
  {
   "cell_type": "code",
   "execution_count": 8,
   "id": "b036ce88",
   "metadata": {},
   "outputs": [
    {
     "data": {
      "text/plain": [
       "PCA(n_components=2)"
      ]
     },
     "execution_count": 8,
     "metadata": {},
     "output_type": "execute_result"
    }
   ],
   "source": [
    "#Importing PCA algorithm\n",
    "from sklearn.decomposition import PCA\n",
    "#Reducing to 2 dimensions\n",
    "pca = PCA(n_components = 2)\n",
    "#Fit method\n",
    "pca.fit(X)"
   ]
  },
  {
   "cell_type": "code",
   "execution_count": 9,
   "id": "6049f01d",
   "metadata": {},
   "outputs": [],
   "source": [
    "#Transforming the data with transform method\n",
    "pca_X = pca.transform(X)"
   ]
  },
  {
   "cell_type": "code",
   "execution_count": 10,
   "id": "58d01a7f",
   "metadata": {},
   "outputs": [
    {
     "data": {
      "text/plain": [
       "(150, 2)"
      ]
     },
     "execution_count": 10,
     "metadata": {},
     "output_type": "execute_result"
    }
   ],
   "source": [
    "pca_X.shape"
   ]
  }
 ],
 "metadata": {
  "kernelspec": {
   "display_name": "Python 3 (ipykernel)",
   "language": "python",
   "name": "python3"
  },
  "language_info": {
   "codemirror_mode": {
    "name": "ipython",
    "version": 3
   },
   "file_extension": ".py",
   "mimetype": "text/x-python",
   "name": "python",
   "nbconvert_exporter": "python",
   "pygments_lexer": "ipython3",
   "version": "3.7.7"
  }
 },
 "nbformat": 4,
 "nbformat_minor": 5
}
