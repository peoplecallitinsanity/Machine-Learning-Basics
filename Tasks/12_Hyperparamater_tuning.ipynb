{
 "cells": [
  {
   "cell_type": "code",
   "execution_count": 1,
   "id": "aacee2e7",
   "metadata": {},
   "outputs": [],
   "source": [
    "#importing libraries\n",
    "import pandas as pd\n",
    "import numpy as np\n",
    "from sklearn.neighbors import KNeighborsClassifier\n",
    "from sklearn.metrics import accuracy_score\n",
    "from sklearn.metrics import mean_squared_error\n",
    "from sklearn.model_selection import train_test_split\n",
    "import matplotlib.pyplot as plt\n",
    "from sklearn.neighbors import KNeighborsRegressor\n",
    "from sklearn.tree import DecisionTreeClassifier\n",
    "import seaborn as sns\n",
    "from sklearn.tree import DecisionTreeRegressor\n",
    "from sklearn.ensemble import RandomForestClassifier\n",
    "from sklearn.ensemble import RandomForestRegressor\n",
    "from sklearn.svm import SVC\n",
    "from sklearn.svm import SVR"
   ]
  },
  {
   "cell_type": "code",
   "execution_count": 2,
   "id": "9cb200f9",
   "metadata": {},
   "outputs": [],
   "source": [
    "#importing our datasets\n",
    "beer = pd.read_csv('beer.csv')\n",
    "body = pd.read_csv('body.csv')"
   ]
  },
  {
   "cell_type": "code",
   "execution_count": 3,
   "id": "99781ab8",
   "metadata": {},
   "outputs": [],
   "source": [
    "#cleaning the datasets\n",
    "body['gender'].replace(['M', 'F'], [0, 1], inplace = True)\n",
    "body['class'].replace(['A', 'B', 'C', 'D'], [0, 1, 2, 3], inplace = True)"
   ]
  },
  {
   "cell_type": "code",
   "execution_count": 4,
   "id": "eb5132c8",
   "metadata": {
    "scrolled": true
   },
   "outputs": [
    {
     "data": {
      "text/html": [
       "<div>\n",
       "<style scoped>\n",
       "    .dataframe tbody tr th:only-of-type {\n",
       "        vertical-align: middle;\n",
       "    }\n",
       "\n",
       "    .dataframe tbody tr th {\n",
       "        vertical-align: top;\n",
       "    }\n",
       "\n",
       "    .dataframe thead th {\n",
       "        text-align: right;\n",
       "    }\n",
       "</style>\n",
       "<table border=\"1\" class=\"dataframe\">\n",
       "  <thead>\n",
       "    <tr style=\"text-align: right;\">\n",
       "      <th></th>\n",
       "      <th>age</th>\n",
       "      <th>gender</th>\n",
       "      <th>height_cm</th>\n",
       "      <th>weight_kg</th>\n",
       "      <th>body fat_%</th>\n",
       "      <th>diastolic</th>\n",
       "      <th>systolic</th>\n",
       "      <th>gripForce</th>\n",
       "      <th>sit and bend forward_cm</th>\n",
       "      <th>sit-ups counts</th>\n",
       "      <th>broad jump_cm</th>\n",
       "      <th>class</th>\n",
       "    </tr>\n",
       "  </thead>\n",
       "  <tbody>\n",
       "    <tr>\n",
       "      <th>0</th>\n",
       "      <td>27.0</td>\n",
       "      <td>0</td>\n",
       "      <td>172.3</td>\n",
       "      <td>75.24</td>\n",
       "      <td>21.3</td>\n",
       "      <td>80.0</td>\n",
       "      <td>130.0</td>\n",
       "      <td>54.9</td>\n",
       "      <td>18.4</td>\n",
       "      <td>60.0</td>\n",
       "      <td>217.0</td>\n",
       "      <td>2</td>\n",
       "    </tr>\n",
       "    <tr>\n",
       "      <th>1</th>\n",
       "      <td>25.0</td>\n",
       "      <td>0</td>\n",
       "      <td>165.0</td>\n",
       "      <td>55.80</td>\n",
       "      <td>15.7</td>\n",
       "      <td>77.0</td>\n",
       "      <td>126.0</td>\n",
       "      <td>36.4</td>\n",
       "      <td>16.3</td>\n",
       "      <td>53.0</td>\n",
       "      <td>229.0</td>\n",
       "      <td>0</td>\n",
       "    </tr>\n",
       "    <tr>\n",
       "      <th>2</th>\n",
       "      <td>31.0</td>\n",
       "      <td>0</td>\n",
       "      <td>179.6</td>\n",
       "      <td>78.00</td>\n",
       "      <td>20.1</td>\n",
       "      <td>92.0</td>\n",
       "      <td>152.0</td>\n",
       "      <td>44.8</td>\n",
       "      <td>12.0</td>\n",
       "      <td>49.0</td>\n",
       "      <td>181.0</td>\n",
       "      <td>2</td>\n",
       "    </tr>\n",
       "    <tr>\n",
       "      <th>3</th>\n",
       "      <td>32.0</td>\n",
       "      <td>0</td>\n",
       "      <td>174.5</td>\n",
       "      <td>71.10</td>\n",
       "      <td>18.4</td>\n",
       "      <td>76.0</td>\n",
       "      <td>147.0</td>\n",
       "      <td>41.4</td>\n",
       "      <td>15.2</td>\n",
       "      <td>53.0</td>\n",
       "      <td>219.0</td>\n",
       "      <td>1</td>\n",
       "    </tr>\n",
       "    <tr>\n",
       "      <th>4</th>\n",
       "      <td>28.0</td>\n",
       "      <td>0</td>\n",
       "      <td>173.8</td>\n",
       "      <td>67.70</td>\n",
       "      <td>17.1</td>\n",
       "      <td>70.0</td>\n",
       "      <td>127.0</td>\n",
       "      <td>43.5</td>\n",
       "      <td>27.1</td>\n",
       "      <td>45.0</td>\n",
       "      <td>217.0</td>\n",
       "      <td>1</td>\n",
       "    </tr>\n",
       "    <tr>\n",
       "      <th>...</th>\n",
       "      <td>...</td>\n",
       "      <td>...</td>\n",
       "      <td>...</td>\n",
       "      <td>...</td>\n",
       "      <td>...</td>\n",
       "      <td>...</td>\n",
       "      <td>...</td>\n",
       "      <td>...</td>\n",
       "      <td>...</td>\n",
       "      <td>...</td>\n",
       "      <td>...</td>\n",
       "      <td>...</td>\n",
       "    </tr>\n",
       "    <tr>\n",
       "      <th>13388</th>\n",
       "      <td>25.0</td>\n",
       "      <td>0</td>\n",
       "      <td>172.1</td>\n",
       "      <td>71.80</td>\n",
       "      <td>16.2</td>\n",
       "      <td>74.0</td>\n",
       "      <td>141.0</td>\n",
       "      <td>35.8</td>\n",
       "      <td>17.4</td>\n",
       "      <td>47.0</td>\n",
       "      <td>198.0</td>\n",
       "      <td>2</td>\n",
       "    </tr>\n",
       "    <tr>\n",
       "      <th>13389</th>\n",
       "      <td>21.0</td>\n",
       "      <td>0</td>\n",
       "      <td>179.7</td>\n",
       "      <td>63.90</td>\n",
       "      <td>12.1</td>\n",
       "      <td>74.0</td>\n",
       "      <td>128.0</td>\n",
       "      <td>33.0</td>\n",
       "      <td>1.1</td>\n",
       "      <td>48.0</td>\n",
       "      <td>167.0</td>\n",
       "      <td>3</td>\n",
       "    </tr>\n",
       "    <tr>\n",
       "      <th>13390</th>\n",
       "      <td>39.0</td>\n",
       "      <td>0</td>\n",
       "      <td>177.2</td>\n",
       "      <td>80.50</td>\n",
       "      <td>20.1</td>\n",
       "      <td>78.0</td>\n",
       "      <td>132.0</td>\n",
       "      <td>63.5</td>\n",
       "      <td>16.4</td>\n",
       "      <td>45.0</td>\n",
       "      <td>229.0</td>\n",
       "      <td>0</td>\n",
       "    </tr>\n",
       "    <tr>\n",
       "      <th>13391</th>\n",
       "      <td>64.0</td>\n",
       "      <td>1</td>\n",
       "      <td>146.1</td>\n",
       "      <td>57.70</td>\n",
       "      <td>40.4</td>\n",
       "      <td>68.0</td>\n",
       "      <td>121.0</td>\n",
       "      <td>19.3</td>\n",
       "      <td>9.2</td>\n",
       "      <td>0.0</td>\n",
       "      <td>75.0</td>\n",
       "      <td>3</td>\n",
       "    </tr>\n",
       "    <tr>\n",
       "      <th>13392</th>\n",
       "      <td>34.0</td>\n",
       "      <td>0</td>\n",
       "      <td>164.0</td>\n",
       "      <td>66.10</td>\n",
       "      <td>19.5</td>\n",
       "      <td>82.0</td>\n",
       "      <td>150.0</td>\n",
       "      <td>35.9</td>\n",
       "      <td>7.1</td>\n",
       "      <td>51.0</td>\n",
       "      <td>180.0</td>\n",
       "      <td>2</td>\n",
       "    </tr>\n",
       "  </tbody>\n",
       "</table>\n",
       "<p>13393 rows × 12 columns</p>\n",
       "</div>"
      ],
      "text/plain": [
       "        age  gender  height_cm  weight_kg  body fat_%  diastolic  systolic  \\\n",
       "0      27.0       0      172.3      75.24        21.3       80.0     130.0   \n",
       "1      25.0       0      165.0      55.80        15.7       77.0     126.0   \n",
       "2      31.0       0      179.6      78.00        20.1       92.0     152.0   \n",
       "3      32.0       0      174.5      71.10        18.4       76.0     147.0   \n",
       "4      28.0       0      173.8      67.70        17.1       70.0     127.0   \n",
       "...     ...     ...        ...        ...         ...        ...       ...   \n",
       "13388  25.0       0      172.1      71.80        16.2       74.0     141.0   \n",
       "13389  21.0       0      179.7      63.90        12.1       74.0     128.0   \n",
       "13390  39.0       0      177.2      80.50        20.1       78.0     132.0   \n",
       "13391  64.0       1      146.1      57.70        40.4       68.0     121.0   \n",
       "13392  34.0       0      164.0      66.10        19.5       82.0     150.0   \n",
       "\n",
       "       gripForce  sit and bend forward_cm  sit-ups counts  broad jump_cm  \\\n",
       "0           54.9                     18.4            60.0          217.0   \n",
       "1           36.4                     16.3            53.0          229.0   \n",
       "2           44.8                     12.0            49.0          181.0   \n",
       "3           41.4                     15.2            53.0          219.0   \n",
       "4           43.5                     27.1            45.0          217.0   \n",
       "...          ...                      ...             ...            ...   \n",
       "13388       35.8                     17.4            47.0          198.0   \n",
       "13389       33.0                      1.1            48.0          167.0   \n",
       "13390       63.5                     16.4            45.0          229.0   \n",
       "13391       19.3                      9.2             0.0           75.0   \n",
       "13392       35.9                      7.1            51.0          180.0   \n",
       "\n",
       "       class  \n",
       "0          2  \n",
       "1          0  \n",
       "2          2  \n",
       "3          1  \n",
       "4          1  \n",
       "...      ...  \n",
       "13388      2  \n",
       "13389      3  \n",
       "13390      0  \n",
       "13391      3  \n",
       "13392      2  \n",
       "\n",
       "[13393 rows x 12 columns]"
      ]
     },
     "execution_count": 4,
     "metadata": {},
     "output_type": "execute_result"
    }
   ],
   "source": [
    "body"
   ]
  },
  {
   "cell_type": "code",
   "execution_count": 5,
   "id": "7a412b5e",
   "metadata": {
    "scrolled": true
   },
   "outputs": [
    {
     "data": {
      "text/html": [
       "<div>\n",
       "<style scoped>\n",
       "    .dataframe tbody tr th:only-of-type {\n",
       "        vertical-align: middle;\n",
       "    }\n",
       "\n",
       "    .dataframe tbody tr th {\n",
       "        vertical-align: top;\n",
       "    }\n",
       "\n",
       "    .dataframe thead th {\n",
       "        text-align: right;\n",
       "    }\n",
       "</style>\n",
       "<table border=\"1\" class=\"dataframe\">\n",
       "  <thead>\n",
       "    <tr style=\"text-align: right;\">\n",
       "      <th></th>\n",
       "      <th>Name</th>\n",
       "      <th>Style</th>\n",
       "      <th>Brewery</th>\n",
       "      <th>Beer Name (Full)</th>\n",
       "      <th>Description</th>\n",
       "      <th>ABV</th>\n",
       "      <th>Min IBU</th>\n",
       "      <th>Max IBU</th>\n",
       "      <th>Astringency</th>\n",
       "      <th>Body</th>\n",
       "      <th>...</th>\n",
       "      <th>Fruits</th>\n",
       "      <th>Hoppy</th>\n",
       "      <th>Spices</th>\n",
       "      <th>Malty</th>\n",
       "      <th>review_aroma</th>\n",
       "      <th>review_appearance</th>\n",
       "      <th>review_palate</th>\n",
       "      <th>review_taste</th>\n",
       "      <th>review_overall</th>\n",
       "      <th>number_of_reviews</th>\n",
       "    </tr>\n",
       "  </thead>\n",
       "  <tbody>\n",
       "    <tr>\n",
       "      <th>0</th>\n",
       "      <td>Amber</td>\n",
       "      <td>Altbier</td>\n",
       "      <td>Alaskan Brewing Co.</td>\n",
       "      <td>Alaskan Brewing Co. Alaskan Amber</td>\n",
       "      <td>Notes:Richly malty and long on the palate, wit...</td>\n",
       "      <td>5.3</td>\n",
       "      <td>25</td>\n",
       "      <td>50</td>\n",
       "      <td>13</td>\n",
       "      <td>32</td>\n",
       "      <td>...</td>\n",
       "      <td>33</td>\n",
       "      <td>57</td>\n",
       "      <td>8</td>\n",
       "      <td>111</td>\n",
       "      <td>3.498994</td>\n",
       "      <td>3.636821</td>\n",
       "      <td>3.556338</td>\n",
       "      <td>3.643863</td>\n",
       "      <td>3.847082</td>\n",
       "      <td>497</td>\n",
       "    </tr>\n",
       "    <tr>\n",
       "      <th>1</th>\n",
       "      <td>Double Bag</td>\n",
       "      <td>Altbier</td>\n",
       "      <td>Long Trail Brewing Co.</td>\n",
       "      <td>Long Trail Brewing Co. Double Bag</td>\n",
       "      <td>Notes:This malty, full-bodied double alt is al...</td>\n",
       "      <td>7.2</td>\n",
       "      <td>25</td>\n",
       "      <td>50</td>\n",
       "      <td>12</td>\n",
       "      <td>57</td>\n",
       "      <td>...</td>\n",
       "      <td>24</td>\n",
       "      <td>35</td>\n",
       "      <td>12</td>\n",
       "      <td>84</td>\n",
       "      <td>3.798337</td>\n",
       "      <td>3.846154</td>\n",
       "      <td>3.904366</td>\n",
       "      <td>4.024948</td>\n",
       "      <td>4.034304</td>\n",
       "      <td>481</td>\n",
       "    </tr>\n",
       "    <tr>\n",
       "      <th>2</th>\n",
       "      <td>Long Trail Ale</td>\n",
       "      <td>Altbier</td>\n",
       "      <td>Long Trail Brewing Co.</td>\n",
       "      <td>Long Trail Brewing Co. Long Trail Ale</td>\n",
       "      <td>Notes:Long Trail Ale is a full-bodied amber al...</td>\n",
       "      <td>5.0</td>\n",
       "      <td>25</td>\n",
       "      <td>50</td>\n",
       "      <td>14</td>\n",
       "      <td>37</td>\n",
       "      <td>...</td>\n",
       "      <td>10</td>\n",
       "      <td>54</td>\n",
       "      <td>4</td>\n",
       "      <td>62</td>\n",
       "      <td>3.409814</td>\n",
       "      <td>3.667109</td>\n",
       "      <td>3.600796</td>\n",
       "      <td>3.631300</td>\n",
       "      <td>3.830239</td>\n",
       "      <td>377</td>\n",
       "    </tr>\n",
       "    <tr>\n",
       "      <th>3</th>\n",
       "      <td>Doppelsticke</td>\n",
       "      <td>Altbier</td>\n",
       "      <td>Uerige Obergärige Hausbrauerei GmbH / Zum Uerige</td>\n",
       "      <td>Uerige Obergärige Hausbrauerei GmbH / Zum Ueri...</td>\n",
       "      <td>Notes:</td>\n",
       "      <td>8.5</td>\n",
       "      <td>25</td>\n",
       "      <td>50</td>\n",
       "      <td>13</td>\n",
       "      <td>55</td>\n",
       "      <td>...</td>\n",
       "      <td>49</td>\n",
       "      <td>40</td>\n",
       "      <td>16</td>\n",
       "      <td>119</td>\n",
       "      <td>4.148098</td>\n",
       "      <td>4.033967</td>\n",
       "      <td>4.150815</td>\n",
       "      <td>4.205163</td>\n",
       "      <td>4.005435</td>\n",
       "      <td>368</td>\n",
       "    </tr>\n",
       "    <tr>\n",
       "      <th>4</th>\n",
       "      <td>Sleigh'r Dark Doüble Alt Ale</td>\n",
       "      <td>Altbier</td>\n",
       "      <td>Ninkasi Brewing Company</td>\n",
       "      <td>Ninkasi Brewing Company Sleigh'r Dark Doüble A...</td>\n",
       "      <td>Notes:Called 'Dark Double Alt' on the label.Se...</td>\n",
       "      <td>7.2</td>\n",
       "      <td>25</td>\n",
       "      <td>50</td>\n",
       "      <td>25</td>\n",
       "      <td>51</td>\n",
       "      <td>...</td>\n",
       "      <td>11</td>\n",
       "      <td>51</td>\n",
       "      <td>20</td>\n",
       "      <td>95</td>\n",
       "      <td>3.625000</td>\n",
       "      <td>3.973958</td>\n",
       "      <td>3.734375</td>\n",
       "      <td>3.765625</td>\n",
       "      <td>3.817708</td>\n",
       "      <td>96</td>\n",
       "    </tr>\n",
       "    <tr>\n",
       "      <th>...</th>\n",
       "      <td>...</td>\n",
       "      <td>...</td>\n",
       "      <td>...</td>\n",
       "      <td>...</td>\n",
       "      <td>...</td>\n",
       "      <td>...</td>\n",
       "      <td>...</td>\n",
       "      <td>...</td>\n",
       "      <td>...</td>\n",
       "      <td>...</td>\n",
       "      <td>...</td>\n",
       "      <td>...</td>\n",
       "      <td>...</td>\n",
       "      <td>...</td>\n",
       "      <td>...</td>\n",
       "      <td>...</td>\n",
       "      <td>...</td>\n",
       "      <td>...</td>\n",
       "      <td>...</td>\n",
       "      <td>...</td>\n",
       "      <td>...</td>\n",
       "    </tr>\n",
       "    <tr>\n",
       "      <th>3192</th>\n",
       "      <td>Winter Shredder</td>\n",
       "      <td>Winter Warmer</td>\n",
       "      <td>Cisco Brewers Inc.</td>\n",
       "      <td>Cisco Brewers Inc. Winter Shredder</td>\n",
       "      <td>Notes:</td>\n",
       "      <td>8.8</td>\n",
       "      <td>35</td>\n",
       "      <td>50</td>\n",
       "      <td>15</td>\n",
       "      <td>37</td>\n",
       "      <td>...</td>\n",
       "      <td>23</td>\n",
       "      <td>45</td>\n",
       "      <td>67</td>\n",
       "      <td>74</td>\n",
       "      <td>4.125000</td>\n",
       "      <td>3.875000</td>\n",
       "      <td>3.875000</td>\n",
       "      <td>3.750000</td>\n",
       "      <td>4.000000</td>\n",
       "      <td>4</td>\n",
       "    </tr>\n",
       "    <tr>\n",
       "      <th>3193</th>\n",
       "      <td>The First Snow Ale</td>\n",
       "      <td>Winter Warmer</td>\n",
       "      <td>RJ Rockers Brewing Company</td>\n",
       "      <td>RJ Rockers Brewing Company First Snow Ale</td>\n",
       "      <td>Notes:This hearty American pale ale contains a...</td>\n",
       "      <td>6.0</td>\n",
       "      <td>35</td>\n",
       "      <td>50</td>\n",
       "      <td>15</td>\n",
       "      <td>31</td>\n",
       "      <td>...</td>\n",
       "      <td>54</td>\n",
       "      <td>14</td>\n",
       "      <td>140</td>\n",
       "      <td>58</td>\n",
       "      <td>3.950000</td>\n",
       "      <td>3.750000</td>\n",
       "      <td>3.760000</td>\n",
       "      <td>3.790000</td>\n",
       "      <td>3.730000</td>\n",
       "      <td>50</td>\n",
       "    </tr>\n",
       "    <tr>\n",
       "      <th>3194</th>\n",
       "      <td>Red Nose Winter Ale</td>\n",
       "      <td>Winter Warmer</td>\n",
       "      <td>Natty Greene's Pub &amp; Brewing Co.</td>\n",
       "      <td>Natty Greene's Pub &amp; Brewing Co. Red Nose Wint...</td>\n",
       "      <td>Notes:</td>\n",
       "      <td>6.8</td>\n",
       "      <td>35</td>\n",
       "      <td>50</td>\n",
       "      <td>8</td>\n",
       "      <td>44</td>\n",
       "      <td>...</td>\n",
       "      <td>26</td>\n",
       "      <td>21</td>\n",
       "      <td>96</td>\n",
       "      <td>77</td>\n",
       "      <td>3.576923</td>\n",
       "      <td>3.711538</td>\n",
       "      <td>3.596154</td>\n",
       "      <td>3.673077</td>\n",
       "      <td>3.711538</td>\n",
       "      <td>26</td>\n",
       "    </tr>\n",
       "    <tr>\n",
       "      <th>3195</th>\n",
       "      <td>Fish Tale Winterfish</td>\n",
       "      <td>Winter Warmer</td>\n",
       "      <td>Fish Brewing Company / Fishbowl Brewpub</td>\n",
       "      <td>Fish Brewing Company / Fishbowl Brewpub Fish T...</td>\n",
       "      <td>Notes:</td>\n",
       "      <td>7.5</td>\n",
       "      <td>35</td>\n",
       "      <td>50</td>\n",
       "      <td>11</td>\n",
       "      <td>36</td>\n",
       "      <td>...</td>\n",
       "      <td>81</td>\n",
       "      <td>110</td>\n",
       "      <td>18</td>\n",
       "      <td>73</td>\n",
       "      <td>3.902299</td>\n",
       "      <td>3.885057</td>\n",
       "      <td>3.862069</td>\n",
       "      <td>3.902299</td>\n",
       "      <td>3.879310</td>\n",
       "      <td>87</td>\n",
       "    </tr>\n",
       "    <tr>\n",
       "      <th>3196</th>\n",
       "      <td>Frosted Frog Christmas Ale - Barrel-Aged</td>\n",
       "      <td>Winter Warmer</td>\n",
       "      <td>Hoppin' Frog Brewery</td>\n",
       "      <td>Hoppin' Frog Brewery Barrel Aged Frosted Frog ...</td>\n",
       "      <td>Notes:The essence of Christmas is captured in ...</td>\n",
       "      <td>8.6</td>\n",
       "      <td>35</td>\n",
       "      <td>50</td>\n",
       "      <td>8</td>\n",
       "      <td>50</td>\n",
       "      <td>...</td>\n",
       "      <td>33</td>\n",
       "      <td>16</td>\n",
       "      <td>148</td>\n",
       "      <td>69</td>\n",
       "      <td>3.888889</td>\n",
       "      <td>3.694444</td>\n",
       "      <td>3.833333</td>\n",
       "      <td>3.555556</td>\n",
       "      <td>3.527778</td>\n",
       "      <td>18</td>\n",
       "    </tr>\n",
       "  </tbody>\n",
       "</table>\n",
       "<p>3197 rows × 25 columns</p>\n",
       "</div>"
      ],
      "text/plain": [
       "                                          Name          Style  \\\n",
       "0                                        Amber        Altbier   \n",
       "1                                   Double Bag        Altbier   \n",
       "2                               Long Trail Ale        Altbier   \n",
       "3                                 Doppelsticke        Altbier   \n",
       "4                 Sleigh'r Dark Doüble Alt Ale        Altbier   \n",
       "...                                        ...            ...   \n",
       "3192                           Winter Shredder  Winter Warmer   \n",
       "3193                        The First Snow Ale  Winter Warmer   \n",
       "3194                       Red Nose Winter Ale  Winter Warmer   \n",
       "3195                      Fish Tale Winterfish  Winter Warmer   \n",
       "3196  Frosted Frog Christmas Ale - Barrel-Aged  Winter Warmer   \n",
       "\n",
       "                                               Brewery  \\\n",
       "0                                  Alaskan Brewing Co.   \n",
       "1                               Long Trail Brewing Co.   \n",
       "2                               Long Trail Brewing Co.   \n",
       "3     Uerige Obergärige Hausbrauerei GmbH / Zum Uerige   \n",
       "4                              Ninkasi Brewing Company   \n",
       "...                                                ...   \n",
       "3192                                Cisco Brewers Inc.   \n",
       "3193                        RJ Rockers Brewing Company   \n",
       "3194                  Natty Greene's Pub & Brewing Co.   \n",
       "3195           Fish Brewing Company / Fishbowl Brewpub   \n",
       "3196                              Hoppin' Frog Brewery   \n",
       "\n",
       "                                       Beer Name (Full)  \\\n",
       "0                     Alaskan Brewing Co. Alaskan Amber   \n",
       "1                     Long Trail Brewing Co. Double Bag   \n",
       "2                 Long Trail Brewing Co. Long Trail Ale   \n",
       "3     Uerige Obergärige Hausbrauerei GmbH / Zum Ueri...   \n",
       "4     Ninkasi Brewing Company Sleigh'r Dark Doüble A...   \n",
       "...                                                 ...   \n",
       "3192                 Cisco Brewers Inc. Winter Shredder   \n",
       "3193          RJ Rockers Brewing Company First Snow Ale   \n",
       "3194  Natty Greene's Pub & Brewing Co. Red Nose Wint...   \n",
       "3195  Fish Brewing Company / Fishbowl Brewpub Fish T...   \n",
       "3196  Hoppin' Frog Brewery Barrel Aged Frosted Frog ...   \n",
       "\n",
       "                                            Description  ABV  Min IBU  \\\n",
       "0     Notes:Richly malty and long on the palate, wit...  5.3       25   \n",
       "1     Notes:This malty, full-bodied double alt is al...  7.2       25   \n",
       "2     Notes:Long Trail Ale is a full-bodied amber al...  5.0       25   \n",
       "3                                                Notes:  8.5       25   \n",
       "4     Notes:Called 'Dark Double Alt' on the label.Se...  7.2       25   \n",
       "...                                                 ...  ...      ...   \n",
       "3192                                             Notes:  8.8       35   \n",
       "3193  Notes:This hearty American pale ale contains a...  6.0       35   \n",
       "3194                                             Notes:  6.8       35   \n",
       "3195                                             Notes:  7.5       35   \n",
       "3196  Notes:The essence of Christmas is captured in ...  8.6       35   \n",
       "\n",
       "      Max IBU  Astringency  Body  ...  Fruits  Hoppy  Spices  Malty  \\\n",
       "0          50           13    32  ...      33     57       8    111   \n",
       "1          50           12    57  ...      24     35      12     84   \n",
       "2          50           14    37  ...      10     54       4     62   \n",
       "3          50           13    55  ...      49     40      16    119   \n",
       "4          50           25    51  ...      11     51      20     95   \n",
       "...       ...          ...   ...  ...     ...    ...     ...    ...   \n",
       "3192       50           15    37  ...      23     45      67     74   \n",
       "3193       50           15    31  ...      54     14     140     58   \n",
       "3194       50            8    44  ...      26     21      96     77   \n",
       "3195       50           11    36  ...      81    110      18     73   \n",
       "3196       50            8    50  ...      33     16     148     69   \n",
       "\n",
       "      review_aroma  review_appearance  review_palate  review_taste  \\\n",
       "0         3.498994           3.636821       3.556338      3.643863   \n",
       "1         3.798337           3.846154       3.904366      4.024948   \n",
       "2         3.409814           3.667109       3.600796      3.631300   \n",
       "3         4.148098           4.033967       4.150815      4.205163   \n",
       "4         3.625000           3.973958       3.734375      3.765625   \n",
       "...            ...                ...            ...           ...   \n",
       "3192      4.125000           3.875000       3.875000      3.750000   \n",
       "3193      3.950000           3.750000       3.760000      3.790000   \n",
       "3194      3.576923           3.711538       3.596154      3.673077   \n",
       "3195      3.902299           3.885057       3.862069      3.902299   \n",
       "3196      3.888889           3.694444       3.833333      3.555556   \n",
       "\n",
       "      review_overall  number_of_reviews  \n",
       "0           3.847082                497  \n",
       "1           4.034304                481  \n",
       "2           3.830239                377  \n",
       "3           4.005435                368  \n",
       "4           3.817708                 96  \n",
       "...              ...                ...  \n",
       "3192        4.000000                  4  \n",
       "3193        3.730000                 50  \n",
       "3194        3.711538                 26  \n",
       "3195        3.879310                 87  \n",
       "3196        3.527778                 18  \n",
       "\n",
       "[3197 rows x 25 columns]"
      ]
     },
     "execution_count": 5,
     "metadata": {},
     "output_type": "execute_result"
    }
   ],
   "source": [
    "beer"
   ]
  },
  {
   "cell_type": "code",
   "execution_count": 6,
   "id": "9ca95a94",
   "metadata": {},
   "outputs": [],
   "source": [
    "#defining x and y vector for body dataframe - classification\n",
    "X1 = body.iloc[:, :-1].values\n",
    "y1 = body['class'].values"
   ]
  },
  {
   "cell_type": "code",
   "execution_count": 7,
   "id": "8fba5c4f",
   "metadata": {},
   "outputs": [],
   "source": [
    "#Splitting the data in train and test with train_test_split\n",
    "X_train1, X_test1, y_train1, y_test1 = train_test_split(X1, y1, test_size = 0.3, random_state = 42)"
   ]
  },
  {
   "cell_type": "code",
   "execution_count": 8,
   "id": "e022d27a",
   "metadata": {},
   "outputs": [],
   "source": [
    "#training for different k neighbours and storing accuracy\n",
    "acc = []\n",
    "for i in range(3, 100, 3):\n",
    "    knn = KNeighborsClassifier(n_neighbors=i)\n",
    "    knn.fit(X_train1, y_train1)\n",
    "    acc.append(accuracy_score(knn.predict(X_test1), y_test1))"
   ]
  },
  {
   "cell_type": "code",
   "execution_count": 10,
   "id": "ad640123",
   "metadata": {},
   "outputs": [
    {
     "data": {
      "text/plain": [
       "Text(0, 0.5, 'Accuracy')"
      ]
     },
     "execution_count": 10,
     "metadata": {},
     "output_type": "execute_result"
    },
    {
     "data": {
      "image/png": "[encoded data removed]",
      "text/plain": [
       "<Figure size 432x288 with 1 Axes>"
      ]
     },
     "metadata": {
      "needs_background": "light"
     },
     "output_type": "display_data"
    }
   ],
   "source": [
    "#plotting results\n",
    "fig = plt.figure()\n",
    "ax = plt.axes()\n",
    "ax.plot(range(3, 100, 3), acc)\n",
    "plt.xlabel('n_neighbours')\n",
    "plt.ylabel('Accuracy')"
   ]
  },
  {
   "cell_type": "markdown",
   "id": "b6d23584",
   "metadata": {},
   "source": [
    "### By increasing k-neighbours value, accuracy of the model insceases as well, for k <= ~40, so we can suppose that for k>=40,  the model starts to find values that aren't simmilar to each other - thus, the accuracy dicreases."
   ]
  },
  {
   "cell_type": "code",
   "execution_count": 11,
   "id": "29ccb4a9",
   "metadata": {},
   "outputs": [],
   "source": [
    "#defining x and y vector for beer dataset - regression\n",
    "X2 = beer.iloc[:, 5:23].values\n",
    "y2 = beer['review_overall'].values"
   ]
  },
  {
   "cell_type": "code",
   "execution_count": 12,
   "id": "2b18c847",
   "metadata": {},
   "outputs": [],
   "source": [
    "#Splitting the data in train and test with train_test_split\n",
    "X_train2, X_test2, y_train2, y_test2 = train_test_split(X2, y2, test_size = 0.3, random_state = 42)"
   ]
  },
  {
   "cell_type": "code",
   "execution_count": 13,
   "id": "ef7febbd",
   "metadata": {},
   "outputs": [],
   "source": [
    "#training KNeighboursRegressor on second dataset, for different k values and storing mean squared error\n",
    "mse = []\n",
    "for i in range(3, 100, 3):\n",
    "    reg = KNeighborsRegressor(n_neighbors=i)\n",
    "    reg.fit(X_train2, y_train2)\n",
    "    mse.append(mean_squared_error(reg.predict(X_test2), y_test2))"
   ]
  },
  {
   "cell_type": "code",
   "execution_count": 14,
   "id": "f3d85035",
   "metadata": {
    "scrolled": true
   },
   "outputs": [
    {
     "data": {
      "text/plain": [
       "Text(0, 0.5, 'Mean_squared_error')"
      ]
     },
     "execution_count": 14,
     "metadata": {},
     "output_type": "execute_result"
    },
    {
     "data": {
      "image/png": "[encoded data removed]",
      "text/plain": [
       "<Figure size 432x288 with 1 Axes>"
      ]
     },
     "metadata": {
      "needs_background": "light"
     },
     "output_type": "display_data"
    }
   ],
   "source": [
    "#plotting results\n",
    "fig = plt.figure()\n",
    "ax = plt.axes()\n",
    "ax.plot(range(3, 100, 3), mse)\n",
    "plt.xlabel('N_neighbours')\n",
    "plt.ylabel('Mean_squared_error')"
   ]
  },
  {
   "cell_type": "markdown",
   "id": "db489fbd",
   "metadata": {},
   "source": [
    "### The mean squared error has minimal values for  15 < k < 35, while it increases up to k = 15 and decreases after k =  35. If k < 15 , the neighbours found do not contain enough information, and for k > 35, the neighbours found are no more so related with eachother  because mean squared error increases."
   ]
  },
  {
   "cell_type": "code",
   "execution_count": 15,
   "id": "7e7d3663",
   "metadata": {},
   "outputs": [],
   "source": [
    "#dataframe for classification\n",
    "df = pd.DataFrame(columns = [i/100 for i in range(10, 101, 10) ], index=[ j for j in range(5,75,5)], dtype=\"float\")"
   ]
  },
  {
   "cell_type": "code",
   "execution_count": 16,
   "id": "3cc37538",
   "metadata": {},
   "outputs": [],
   "source": [
    "#function to train Decision Tree Classifier and Regressor\n",
    "def classify(criterion, model, X_train, y_train, X_test, y_test):\n",
    "    for i, d in zip(range(0, 14),  range(5,75,5)) :\n",
    "        for j, f in zip(range(0, 10),range(10, 101, 10)) :\n",
    "            clf = model(criterion = criterion, max_depth = d, max_features = f/100)\n",
    "            clf.fit(X_train, y_train)\n",
    "            y_pred = clf.predict(X_test)\n",
    "            #storing accuracy/error in a dataframe\n",
    "            if model == DecisionTreeClassifier:\n",
    "                df.iloc[i, j] = accuracy_score(y_pred, y_test)\n",
    "            elif model == DecisionTreeRegressor:\n",
    "                df.iloc[i, j] = mean_squared_error(y_pred, y_test)"
   ]
  },
  {
   "cell_type": "code",
   "execution_count": 17,
   "id": "86cfc66b",
   "metadata": {
    "scrolled": false
   },
   "outputs": [
    {
     "data": {
      "text/plain": [
       "Text(69.0, 0.5, 'Max_depth')"
      ]
     },
     "execution_count": 17,
     "metadata": {},
     "output_type": "execute_result"
    },
    {
     "data": {
      "image/png": "[encoded data removed]",
      "text/plain": [
       "<Figure size 720x432 with 2 Axes>"
      ]
     },
     "metadata": {
      "needs_background": "light"
     },
     "output_type": "display_data"
    }
   ],
   "source": [
    "#training classifier with entropy criterion and plotting results\n",
    "classify('entropy', DecisionTreeClassifier, X_train1, y_train1, X_test1, y_test1)\n",
    "plt.figure(figsize=(10, 6))\n",
    "sns.heatmap(df)\n",
    "plt.xlabel('Max_features')\n",
    "plt.ylabel('Max_depth')"
   ]
  },
  {
   "cell_type": "markdown",
   "id": "7b69c634",
   "metadata": {},
   "source": [
    "### We can observe that we get the highest accuracy score for max_depth = 10 , and max_features = 0.7 \n",
    "### This meanining that up to  only 10 nodes, or splits, the model can divide the informations and features the best, and the max_features meaning that he will consider up to  70% the features when splitting a node"
   ]
  },
  {
   "cell_type": "code",
   "execution_count": 18,
   "id": "58037629",
   "metadata": {
    "scrolled": false
   },
   "outputs": [
    {
     "data": {
      "text/plain": [
       "Text(69.0, 0.5, 'Max_depth')"
      ]
     },
     "execution_count": 18,
     "metadata": {},
     "output_type": "execute_result"
    },
    {
     "data": {
      "image/png": "[encoded data removed]",
      "text/plain": [
       "<Figure size 720x432 with 2 Axes>"
      ]
     },
     "metadata": {
      "needs_background": "light"
     },
     "output_type": "display_data"
    }
   ],
   "source": [
    "#training classifier with gini criterion and plotting results\n",
    "classify('gini', DecisionTreeClassifier, X_train1, y_train1, X_test1, y_test1)\n",
    "plt.figure(figsize=(10, 6))\n",
    "sns.heatmap(df)\n",
    "plt.xlabel('Max_features')\n",
    "plt.ylabel('Max_depth')"
   ]
  },
  {
   "cell_type": "markdown",
   "id": "1f794979",
   "metadata": {},
   "source": [
    "### We can observe an overall improvement on accuracy with criterion set as gini, while max_depth remains the same - 10 for the highest accuracy score, the same with max_features - 0.7"
   ]
  },
  {
   "cell_type": "code",
   "execution_count": 19,
   "id": "4c8db69f",
   "metadata": {
    "scrolled": false
   },
   "outputs": [
    {
     "data": {
      "text/plain": [
       "Text(69.0, 0.5, 'Max_depth')"
      ]
     },
     "execution_count": 19,
     "metadata": {},
     "output_type": "execute_result"
    },
    {
     "data": {
      "image/png": "[encoded data removed]",
      "text/plain": [
       "<Figure size 720x432 with 2 Axes>"
      ]
     },
     "metadata": {
      "needs_background": "light"
     },
     "output_type": "display_data"
    }
   ],
   "source": [
    "#training regressor with friedman_mse criterion and plotting results\n",
    "classify('friedman_mse', DecisionTreeRegressor, X_train2, y_train2, X_test2, y_test2)\n",
    "plt.figure(figsize=(10, 6))\n",
    "sns.heatmap(df)\n",
    "plt.xlabel('Max_features')\n",
    "plt.ylabel('Max_depth')"
   ]
  },
  {
   "cell_type": "markdown",
   "id": "1b322cfb",
   "metadata": {},
   "source": [
    "### With friedman_mse we get and improvement on mean squared error with increasing the max_features, overall, while changing max_depth does not affect that much the error. "
   ]
  },
  {
   "cell_type": "code",
   "execution_count": 20,
   "id": "865d5288",
   "metadata": {
    "scrolled": false
   },
   "outputs": [
    {
     "data": {
      "text/plain": [
       "Text(69.0, 0.5, 'Max_depth')"
      ]
     },
     "execution_count": 20,
     "metadata": {},
     "output_type": "execute_result"
    },
    {
     "data": {
      "image/png": "[encoded data removed]",
      "text/plain": [
       "<Figure size 720x432 with 2 Axes>"
      ]
     },
     "metadata": {
      "needs_background": "light"
     },
     "output_type": "display_data"
    }
   ],
   "source": [
    "#training regressor with poisson criterion and plotting results\n",
    "classify('poisson', DecisionTreeRegressor, X_train2, y_train2, X_test2, y_test2)\n",
    "plt.figure(figsize=(10, 6))\n",
    "sns.heatmap(df)\n",
    "plt.xlabel('Max_features')\n",
    "plt.ylabel('Max_depth')"
   ]
  },
  {
   "cell_type": "markdown",
   "id": "6aedc706",
   "metadata": {},
   "source": [
    "### With poisson as criterion, we have a linear corellation between max_depth and max_ features - we get the lowest mean squared error for the highest value of max_depth and max_features as well, as well in the opposite, for decreasing"
   ]
  },
  {
   "cell_type": "code",
   "execution_count": 20,
   "id": "6c404008",
   "metadata": {},
   "outputs": [],
   "source": [
    "#function to train Random Forest Classifier and Regressor for different criterion and n_estimators\n",
    "def train(clf, criterion, lists, X_train, y_train, X_test, y_test):\n",
    "    for i in range(50,400,20):\n",
    "        model = clf(n_estimators=i, criterion = criterion)\n",
    "        model.fit(X_train, y_train)\n",
    "        #getting the list with accuracy or error\n",
    "        if clf ==RandomForestClassifier:\n",
    "            lists.append(accuracy_score(model.predict(X_test), y_test))\n",
    "        elif clf == RandomForestRegressor:\n",
    "            lists.append(mean_squared_error(model.predict(X_test), y_test))"
   ]
  },
  {
   "cell_type": "code",
   "execution_count": 26,
   "id": "b0779985",
   "metadata": {},
   "outputs": [],
   "source": [
    "#training classifier with gini criterion\n",
    "acc1 = []\n",
    "train(RandomForestClassifier, 'gini', acc1, X_train1, y_train1, X_test1, y_test1)"
   ]
  },
  {
   "cell_type": "code",
   "execution_count": 22,
   "id": "0543e542",
   "metadata": {},
   "outputs": [],
   "source": [
    "#training classifier with entropy criterion\n",
    "acc2 = []\n",
    "train(RandomForestClassifier, 'entropy', acc2, X_train1, y_train1, X_test1, y_test1)"
   ]
  },
  {
   "cell_type": "code",
   "execution_count": 23,
   "id": "2bd79561",
   "metadata": {},
   "outputs": [],
   "source": [
    "mse1 = []\n",
    "train(RandomForestRegressor, 'squared_error', mse1, X_train2, y_train2, X_test2, y_test2)"
   ]
  },
  {
   "cell_type": "code",
   "execution_count": 24,
   "id": "976a9ab5",
   "metadata": {},
   "outputs": [],
   "source": [
    "mse2 = []\n",
    "train(RandomForestRegressor, 'poisson', mse2, X_train2, y_train2, X_test2, y_test2)"
   ]
  },
  {
   "cell_type": "code",
   "execution_count": 27,
   "id": "27a9d893",
   "metadata": {
    "scrolled": false
   },
   "outputs": [
    {
     "data": {
      "text/plain": [
       "<matplotlib.legend.Legend at 0x1fc6a865c08>"
      ]
     },
     "execution_count": 27,
     "metadata": {},
     "output_type": "execute_result"
    },
    {
     "data": {
      "image/png": "[encoded data removed]",
      "text/plain": [
       "<Figure size 432x288 with 1 Axes>"
      ]
     },
     "metadata": {
      "needs_background": "light"
     },
     "output_type": "display_data"
    }
   ],
   "source": [
    "#plotting results\n",
    "fig = plt.figure()\n",
    "ax = plt.axes()\n",
    "ax.plot(range(50,400,20), acc1, label ='gini')\n",
    "ax.plot(range(50,400,20), acc2, label = 'entropy')\n",
    "plt.title('Random Forest Classifier')\n",
    "plt.xlabel('n_estimators')\n",
    "plt.ylabel('Accuracy')\n",
    "plt.legend()"
   ]
  },
  {
   "cell_type": "markdown",
   "id": "51725182",
   "metadata": {},
   "source": [
    "### For random forest classifier we have a decent accuracy, between 72% and 75%, with gini criterion we have a little bit  of a less accuracy overall"
   ]
  },
  {
   "cell_type": "code",
   "execution_count": 28,
   "id": "6d30dbd3",
   "metadata": {
    "scrolled": true
   },
   "outputs": [
    {
     "data": {
      "text/plain": [
       "<matplotlib.legend.Legend at 0x1fc73730148>"
      ]
     },
     "execution_count": 28,
     "metadata": {},
     "output_type": "execute_result"
    },
    {
     "data": {
      "image/png": "[encoded data removed]",
      "text/plain": [
       "<Figure size 432x288 with 1 Axes>"
      ]
     },
     "metadata": {
      "needs_background": "light"
     },
     "output_type": "display_data"
    }
   ],
   "source": [
    "#plotting results\n",
    "fig = plt.figure()\n",
    "ax = plt.axes()\n",
    "ax.plot(range(50,400,20), mse1, label ='squared_error')\n",
    "ax.plot(range(50,400,20), mse2, label = 'poisson')\n",
    "plt.title('Random Forest Regressor')\n",
    "plt.xlabel('n_estimators')\n",
    "plt.ylabel('Accuracy')\n",
    "plt.legend()"
   ]
  },
  {
   "cell_type": "markdown",
   "id": "d06f652c",
   "metadata": {},
   "source": [
    "### Setting the criterion of the regressor model to squared error has improved the model prediction - as getting the lowest mean squared error values - while it doesn't depend much on n_estimators. The poisson criterion doesn't depend much on n_estimators either, but it has a higher mean squared error overall : + 0.01"
   ]
  },
  {
   "cell_type": "code",
   "execution_count": 30,
   "id": "31ab33ef",
   "metadata": {},
   "outputs": [],
   "source": [
    "#function to train on SVC and SVR, with diffrent kernel and C values\n",
    "def train(clf, kernel, lists, X_train, y_train, X_test, y_test):\n",
    "    for i in range(10, 101, 10):\n",
    "        model = clf(C=i/100, kernel = kernel)\n",
    "        model.fit(X_train, y_train)\n",
    "        #storing accuracy or error in a list\n",
    "        if clf ==SVC:\n",
    "            lists.append(accuracy_score(model.predict(X_test), y_test))\n",
    "        elif clf == SVR:\n",
    "            lists.append(mean_squared_error(model.predict(X_test), y_test))"
   ]
  },
  {
   "cell_type": "code",
   "execution_count": 31,
   "id": "b7562828",
   "metadata": {},
   "outputs": [],
   "source": [
    "#Training SVC\n",
    "acc3 = []\n",
    "acc4 = []\n",
    "acc5 = []\n",
    "for l, c in zip([acc3, acc4, acc5], ['poly', 'rbf', 'sigmoid']): \n",
    "    train(SVC, c, l, X_train1, y_train1, X_test1, y_test1)"
   ]
  },
  {
   "cell_type": "code",
   "execution_count": 32,
   "id": "2cb5e528",
   "metadata": {
    "scrolled": true
   },
   "outputs": [
    {
     "data": {
      "text/plain": [
       "<matplotlib.legend.Legend at 0x1fc73a46348>"
      ]
     },
     "execution_count": 32,
     "metadata": {},
     "output_type": "execute_result"
    },
    {
     "data": {
      "image/png": "[encoded data removed]",
      "text/plain": [
       "<Figure size 432x288 with 1 Axes>"
      ]
     },
     "metadata": {
      "needs_background": "light"
     },
     "output_type": "display_data"
    }
   ],
   "source": [
    "#plotting SVC results\n",
    "fig = plt.figure()\n",
    "ax = plt.axes()\n",
    "ax.plot(range(10, 101, 10), acc3, label ='poly')\n",
    "ax.plot(range(10, 101, 10), acc4, label = 'rbf')\n",
    "ax.plot(range(10, 101, 10), acc5, label = 'sigmoid')\n",
    "plt.title('SVC')\n",
    "plt.xlabel('C value')\n",
    "plt.legend()"
   ]
  },
  {
   "cell_type": "markdown",
   "id": "5e9639ce",
   "metadata": {},
   "source": [
    "### The SV classifier  has a very low accuracy score with kernel = sigmoid, with any value for C, for kernel = rbf we get a gradually improvement of accuracy with increasing C value, while for kernel = poly, the accuracy doesn't depend that much on n_estimators"
   ]
  },
  {
   "cell_type": "code",
   "execution_count": 225,
   "id": "64f009d6",
   "metadata": {},
   "outputs": [],
   "source": [
    "#Training SVR\n",
    "mse3 = []\n",
    "mse4 = []\n",
    "mse5 = []\n",
    "for l, c in zip([mse3, mse4, mse5], ['poly', 'rbf', 'sigmoid']): \n",
    "    train(SVR, c, l, X_train2, y_train2, X_test2, y_test2)"
   ]
  },
  {
   "cell_type": "code",
   "execution_count": 248,
   "id": "6a236a4a",
   "metadata": {
    "scrolled": true
   },
   "outputs": [
    {
     "data": {
      "text/plain": [
       "<matplotlib.legend.Legend at 0x165ca8b79c8>"
      ]
     },
     "execution_count": 248,
     "metadata": {},
     "output_type": "execute_result"
    },
    {
     "data": {
      "image/png": "[encoded data removed]",
      "text/plain": [
       "<Figure size 432x288 with 1 Axes>"
      ]
     },
     "metadata": {
      "needs_background": "light"
     },
     "output_type": "display_data"
    }
   ],
   "source": [
    "#plotting SVR results\n",
    "fig = plt.figure()\n",
    "ax = plt.axes()\n",
    "ax.plot(range(10, 101, 10), mse3, label ='poly', linestyle = 'dashed')\n",
    "ax.plot(range(10, 101, 10), mse4, label = 'rbf', linestyle = 'dotted')\n",
    "ax.plot(range(10, 101, 10), mse5, label = 'sigmoid')\n",
    "plt.title('SVR')\n",
    "plt.legend()"
   ]
  },
  {
   "cell_type": "markdown",
   "id": "fdacf5dc",
   "metadata": {},
   "source": [
    " ### We can observe a increasing in error score with kernel = sigmoid, and a very low score for both poly and rbf kernel, lets look closer"
   ]
  },
  {
   "cell_type": "code",
   "execution_count": 232,
   "id": "67a494eb",
   "metadata": {},
   "outputs": [
    {
     "data": {
      "text/plain": [
       "<matplotlib.legend.Legend at 0x165ba9b3208>"
      ]
     },
     "execution_count": 232,
     "metadata": {},
     "output_type": "execute_result"
    },
    {
     "data": {
      "image/png": "[encoded data removed]",
      "text/plain": [
       "<Figure size 432x288 with 1 Axes>"
      ]
     },
     "metadata": {
      "needs_background": "light"
     },
     "output_type": "display_data"
    }
   ],
   "source": [
    "#Plotting SVR results for poly and rbf\n",
    "fig = plt.figure()\n",
    "ax = plt.axes()\n",
    "ax.plot(range(10, 101, 10), mse3, label ='poly')\n",
    "ax.plot(range(10, 101, 10), mse4, label = 'rbf')\n",
    "#ax.plot(range(10, 101, 10), mse5, label = 'sigmoid')\n",
    "plt.title('SVR')\n",
    "plt.legend()"
   ]
  },
  {
   "cell_type": "markdown",
   "id": "f08e903f",
   "metadata": {},
   "source": [
    "### We get a little lower value for error with rbf kernel - matching more with our dataset"
   ]
  },
  {
   "cell_type": "code",
   "execution_count": 23,
   "id": "4469bf35",
   "metadata": {},
   "outputs": [],
   "source": [
    "#La ultimele ploturi nu am mai scris xlabel si ylabel pentru ca lua mult sa ruleze codul si \n",
    "#voiam sa termin mai repede :D"
   ]
  },
  {
   "cell_type": "code",
   "execution_count": null,
   "id": "0a91b86e",
   "metadata": {},
   "outputs": [],
   "source": []
  }
 ],
 "metadata": {
  "kernelspec": {
   "display_name": "Python 3 (ipykernel)",
   "language": "python",
   "name": "python3"
  },
  "language_info": {
   "codemirror_mode": {
    "name": "ipython",
    "version": 3
   },
   "file_extension": ".py",
   "mimetype": "text/x-python",
   "name": "python",
   "nbconvert_exporter": "python",
   "pygments_lexer": "ipython3",
   "version": "3.7.7"
  }
 },
 "nbformat": 4,
 "nbformat_minor": 5
}
