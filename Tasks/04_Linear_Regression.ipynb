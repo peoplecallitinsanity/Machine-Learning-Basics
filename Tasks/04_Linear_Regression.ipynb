{
 "cells": [
  {
   "cell_type": "code",
   "execution_count": 172,
   "id": "f89dc242",
   "metadata": {},
   "outputs": [],
   "source": [
    "#Importing needed libaries\n",
    "import pandas as pd\n",
    "import numpy as np\n",
    "from sklearn.model_selection import train_test_split\n",
    "from sklearn.metrics import mean_squared_error, mean_absolute_error\n",
    "from sklearn.linear_model import LinearRegression"
   ]
  },
  {
   "cell_type": "code",
   "execution_count": 173,
   "id": "605adc3e",
   "metadata": {},
   "outputs": [],
   "source": [
    "#Reading our csv file as a pandas dataframe\n",
    "used_cars = pd.read_csv('Used_cars.csv')"
   ]
  },
  {
   "cell_type": "code",
   "execution_count": 174,
   "id": "f90dd1d2",
   "metadata": {},
   "outputs": [
    {
     "data": {
      "text/html": [
       "<div>\n",
       "<style scoped>\n",
       "    .dataframe tbody tr th:only-of-type {\n",
       "        vertical-align: middle;\n",
       "    }\n",
       "\n",
       "    .dataframe tbody tr th {\n",
       "        vertical-align: top;\n",
       "    }\n",
       "\n",
       "    .dataframe thead th {\n",
       "        text-align: right;\n",
       "    }\n",
       "</style>\n",
       "<table border=\"1\" class=\"dataframe\">\n",
       "  <thead>\n",
       "    <tr style=\"text-align: right;\">\n",
       "      <th></th>\n",
       "      <th>Unnamed: 0</th>\n",
       "      <th>Id</th>\n",
       "      <th>year</th>\n",
       "      <th>price</th>\n",
       "      <th>distance_travelled(kms)</th>\n",
       "      <th>brand_rank</th>\n",
       "      <th>car_age</th>\n",
       "      <th>distance below 30k km</th>\n",
       "      <th>new and less used</th>\n",
       "      <th>inv_car_price</th>\n",
       "      <th>inv_car_dist</th>\n",
       "      <th>inv_car_age</th>\n",
       "      <th>inv_brand</th>\n",
       "      <th>std_invprice</th>\n",
       "      <th>std_invdistance_travelled</th>\n",
       "      <th>std_invrank</th>\n",
       "      <th>best_buy1</th>\n",
       "      <th>best_buy2</th>\n",
       "    </tr>\n",
       "  </thead>\n",
       "  <tbody>\n",
       "    <tr>\n",
       "      <th>count</th>\n",
       "      <td>1725.000000</td>\n",
       "      <td>1725.000000</td>\n",
       "      <td>1725.000000</td>\n",
       "      <td>1.725000e+03</td>\n",
       "      <td>1725.000000</td>\n",
       "      <td>1725.000000</td>\n",
       "      <td>1725.000000</td>\n",
       "      <td>1725.000000</td>\n",
       "      <td>1725.000000</td>\n",
       "      <td>1.725000e+03</td>\n",
       "      <td>1725.000000</td>\n",
       "      <td>1725.000000</td>\n",
       "      <td>1725.000000</td>\n",
       "      <td>1725.000000</td>\n",
       "      <td>1725.000000</td>\n",
       "      <td>1725.000000</td>\n",
       "      <td>1725.000000</td>\n",
       "      <td>1725.000000</td>\n",
       "    </tr>\n",
       "    <tr>\n",
       "      <th>mean</th>\n",
       "      <td>862.000000</td>\n",
       "      <td>862.000000</td>\n",
       "      <td>2015.390725</td>\n",
       "      <td>1.494837e+06</td>\n",
       "      <td>53848.256232</td>\n",
       "      <td>15.731014</td>\n",
       "      <td>5.609275</td>\n",
       "      <td>0.269565</td>\n",
       "      <td>0.209275</td>\n",
       "      <td>1.416237e-06</td>\n",
       "      <td>0.000041</td>\n",
       "      <td>inf</td>\n",
       "      <td>0.187810</td>\n",
       "      <td>0.084623</td>\n",
       "      <td>0.013809</td>\n",
       "      <td>0.177658</td>\n",
       "      <td>88.962902</td>\n",
       "      <td>32.537208</td>\n",
       "    </tr>\n",
       "    <tr>\n",
       "      <th>std</th>\n",
       "      <td>498.108924</td>\n",
       "      <td>498.108924</td>\n",
       "      <td>3.207504</td>\n",
       "      <td>1.671658e+06</td>\n",
       "      <td>44725.541963</td>\n",
       "      <td>12.951122</td>\n",
       "      <td>3.207504</td>\n",
       "      <td>0.443863</td>\n",
       "      <td>0.406909</td>\n",
       "      <td>1.291449e-06</td>\n",
       "      <td>0.000110</td>\n",
       "      <td>NaN</td>\n",
       "      <td>0.254849</td>\n",
       "      <td>0.081060</td>\n",
       "      <td>0.038689</td>\n",
       "      <td>0.258034</td>\n",
       "      <td>188.950690</td>\n",
       "      <td>158.662274</td>\n",
       "    </tr>\n",
       "    <tr>\n",
       "      <th>min</th>\n",
       "      <td>0.000000</td>\n",
       "      <td>0.000000</td>\n",
       "      <td>1990.000000</td>\n",
       "      <td>6.250000e+04</td>\n",
       "      <td>350.000000</td>\n",
       "      <td>1.000000</td>\n",
       "      <td>0.000000</td>\n",
       "      <td>0.000000</td>\n",
       "      <td>0.000000</td>\n",
       "      <td>6.802721e-08</td>\n",
       "      <td>0.000001</td>\n",
       "      <td>0.032258</td>\n",
       "      <td>0.012346</td>\n",
       "      <td>0.000000</td>\n",
       "      <td>0.000000</td>\n",
       "      <td>0.000000</td>\n",
       "      <td>0.000000</td>\n",
       "      <td>0.000000</td>\n",
       "    </tr>\n",
       "    <tr>\n",
       "      <th>25%</th>\n",
       "      <td>431.000000</td>\n",
       "      <td>431.000000</td>\n",
       "      <td>2013.000000</td>\n",
       "      <td>5.450000e+05</td>\n",
       "      <td>29000.000000</td>\n",
       "      <td>5.000000</td>\n",
       "      <td>3.000000</td>\n",
       "      <td>0.000000</td>\n",
       "      <td>0.000000</td>\n",
       "      <td>5.479452e-07</td>\n",
       "      <td>0.000014</td>\n",
       "      <td>0.125000</td>\n",
       "      <td>0.041667</td>\n",
       "      <td>0.030123</td>\n",
       "      <td>0.004524</td>\n",
       "      <td>0.029687</td>\n",
       "      <td>14.237358</td>\n",
       "      <td>0.000000</td>\n",
       "    </tr>\n",
       "    <tr>\n",
       "      <th>50%</th>\n",
       "      <td>862.000000</td>\n",
       "      <td>862.000000</td>\n",
       "      <td>2016.000000</td>\n",
       "      <td>8.750000e+05</td>\n",
       "      <td>49000.000000</td>\n",
       "      <td>14.000000</td>\n",
       "      <td>5.000000</td>\n",
       "      <td>0.000000</td>\n",
       "      <td>0.000000</td>\n",
       "      <td>1.142857e-06</td>\n",
       "      <td>0.000020</td>\n",
       "      <td>0.200000</td>\n",
       "      <td>0.071429</td>\n",
       "      <td>0.067464</td>\n",
       "      <td>0.006703</td>\n",
       "      <td>0.059821</td>\n",
       "      <td>36.716166</td>\n",
       "      <td>0.000000</td>\n",
       "    </tr>\n",
       "    <tr>\n",
       "      <th>75%</th>\n",
       "      <td>1293.000000</td>\n",
       "      <td>1293.000000</td>\n",
       "      <td>2018.000000</td>\n",
       "      <td>1.825000e+06</td>\n",
       "      <td>70500.000000</td>\n",
       "      <td>24.000000</td>\n",
       "      <td>8.000000</td>\n",
       "      <td>1.000000</td>\n",
       "      <td>0.000000</td>\n",
       "      <td>1.834862e-06</td>\n",
       "      <td>0.000034</td>\n",
       "      <td>0.333333</td>\n",
       "      <td>0.200000</td>\n",
       "      <td>0.110899</td>\n",
       "      <td>0.011631</td>\n",
       "      <td>0.190000</td>\n",
       "      <td>90.776658</td>\n",
       "      <td>0.000000</td>\n",
       "    </tr>\n",
       "    <tr>\n",
       "      <th>max</th>\n",
       "      <td>1724.000000</td>\n",
       "      <td>1724.000000</td>\n",
       "      <td>2021.000000</td>\n",
       "      <td>1.470000e+07</td>\n",
       "      <td>790000.000000</td>\n",
       "      <td>81.000000</td>\n",
       "      <td>31.000000</td>\n",
       "      <td>1.000000</td>\n",
       "      <td>1.000000</td>\n",
       "      <td>1.600000e-05</td>\n",
       "      <td>0.002857</td>\n",
       "      <td>inf</td>\n",
       "      <td>1.000000</td>\n",
       "      <td>1.000000</td>\n",
       "      <td>1.000000</td>\n",
       "      <td>1.000000</td>\n",
       "      <td>2477.517640</td>\n",
       "      <td>2477.517640</td>\n",
       "    </tr>\n",
       "  </tbody>\n",
       "</table>\n",
       "</div>"
      ],
      "text/plain": [
       "        Unnamed: 0           Id         year         price  \\\n",
       "count  1725.000000  1725.000000  1725.000000  1.725000e+03   \n",
       "mean    862.000000   862.000000  2015.390725  1.494837e+06   \n",
       "std     498.108924   498.108924     3.207504  1.671658e+06   \n",
       "min       0.000000     0.000000  1990.000000  6.250000e+04   \n",
       "25%     431.000000   431.000000  2013.000000  5.450000e+05   \n",
       "50%     862.000000   862.000000  2016.000000  8.750000e+05   \n",
       "75%    1293.000000  1293.000000  2018.000000  1.825000e+06   \n",
       "max    1724.000000  1724.000000  2021.000000  1.470000e+07   \n",
       "\n",
       "       distance_travelled(kms)   brand_rank      car_age  \\\n",
       "count              1725.000000  1725.000000  1725.000000   \n",
       "mean              53848.256232    15.731014     5.609275   \n",
       "std               44725.541963    12.951122     3.207504   \n",
       "min                 350.000000     1.000000     0.000000   \n",
       "25%               29000.000000     5.000000     3.000000   \n",
       "50%               49000.000000    14.000000     5.000000   \n",
       "75%               70500.000000    24.000000     8.000000   \n",
       "max              790000.000000    81.000000    31.000000   \n",
       "\n",
       "       distance below 30k km  new and less used  inv_car_price  inv_car_dist  \\\n",
       "count            1725.000000        1725.000000   1.725000e+03   1725.000000   \n",
       "mean                0.269565           0.209275   1.416237e-06      0.000041   \n",
       "std                 0.443863           0.406909   1.291449e-06      0.000110   \n",
       "min                 0.000000           0.000000   6.802721e-08      0.000001   \n",
       "25%                 0.000000           0.000000   5.479452e-07      0.000014   \n",
       "50%                 0.000000           0.000000   1.142857e-06      0.000020   \n",
       "75%                 1.000000           0.000000   1.834862e-06      0.000034   \n",
       "max                 1.000000           1.000000   1.600000e-05      0.002857   \n",
       "\n",
       "       inv_car_age    inv_brand  std_invprice  std_invdistance_travelled  \\\n",
       "count  1725.000000  1725.000000   1725.000000                1725.000000   \n",
       "mean           inf     0.187810      0.084623                   0.013809   \n",
       "std            NaN     0.254849      0.081060                   0.038689   \n",
       "min       0.032258     0.012346      0.000000                   0.000000   \n",
       "25%       0.125000     0.041667      0.030123                   0.004524   \n",
       "50%       0.200000     0.071429      0.067464                   0.006703   \n",
       "75%       0.333333     0.200000      0.110899                   0.011631   \n",
       "max            inf     1.000000      1.000000                   1.000000   \n",
       "\n",
       "       std_invrank    best_buy1    best_buy2  \n",
       "count  1725.000000  1725.000000  1725.000000  \n",
       "mean      0.177658    88.962902    32.537208  \n",
       "std       0.258034   188.950690   158.662274  \n",
       "min       0.000000     0.000000     0.000000  \n",
       "25%       0.029687    14.237358     0.000000  \n",
       "50%       0.059821    36.716166     0.000000  \n",
       "75%       0.190000    90.776658     0.000000  \n",
       "max       1.000000  2477.517640  2477.517640  "
      ]
     },
     "execution_count": 174,
     "metadata": {},
     "output_type": "execute_result"
    }
   ],
   "source": [
    "used_cars.describe()"
   ]
  },
  {
   "cell_type": "code",
   "execution_count": 175,
   "id": "3681c39b",
   "metadata": {
    "scrolled": true
   },
   "outputs": [
    {
     "data": {
      "text/plain": [
       "Unnamed: 0                  -0.105696\n",
       "Id                          -0.105696\n",
       "year                         0.288483\n",
       "price                        1.000000\n",
       "distance_travelled(kms)     -0.137351\n",
       "brand_rank                  -0.164591\n",
       "car_age                     -0.288483\n",
       "distance below 30k km        0.212197\n",
       "new and less used            0.219786\n",
       "inv_car_price               -0.517723\n",
       "inv_car_dist                 0.081735\n",
       "inv_car_age                  0.267973\n",
       "inv_brand                    0.185660\n",
       "std_invprice                -0.517723\n",
       "std_invdistance_travelled    0.081735\n",
       "std_invrank                  0.185660\n",
       "best_buy1                   -0.106855\n",
       "best_buy2                    0.008077\n",
       "Name: price, dtype: float64"
      ]
     },
     "execution_count": 175,
     "metadata": {},
     "output_type": "execute_result"
    }
   ],
   "source": [
    "#Visualising columns correlation with the price target column\n",
    "used_cars.corr()['price']"
   ]
  },
  {
   "cell_type": "code",
   "execution_count": 176,
   "id": "c1367fc5",
   "metadata": {},
   "outputs": [],
   "source": [
    "#Creating a new dataframe as a copy of the original one with which we will work with\n",
    "df = used_cars.copy()"
   ]
  },
  {
   "cell_type": "code",
   "execution_count": 177,
   "id": "6c0731f0",
   "metadata": {},
   "outputs": [],
   "source": [
    "#Getting rid of columns with less than 0.20 correlation\n",
    "df.drop(['Id','Unnamed: 0', 'distance_travelled(kms)', 'brand_rank', 'inv_car_dist', 'inv_brand', 'best_buy2',\n",
    "           'best_buy1', 'std_invrank', 'std_invdistance_travelled'], axis=1, inplace=True)"
   ]
  },
  {
   "cell_type": "code",
   "execution_count": 178,
   "id": "68b3f4b1",
   "metadata": {},
   "outputs": [
    {
     "data": {
      "text/plain": [
       "year                     0.288483\n",
       "price                    1.000000\n",
       "car_age                 -0.288483\n",
       "distance below 30k km    0.212197\n",
       "new and less used        0.219786\n",
       "inv_car_price           -0.517723\n",
       "inv_car_age              0.267973\n",
       "std_invprice            -0.517723\n",
       "Name: price, dtype: float64"
      ]
     },
     "execution_count": 178,
     "metadata": {},
     "output_type": "execute_result"
    }
   ],
   "source": [
    "#Visualising columns correlation with the price target column\n",
    "df.corr()['price']"
   ]
  },
  {
   "cell_type": "code",
   "execution_count": 179,
   "id": "c77bcd8f",
   "metadata": {},
   "outputs": [],
   "source": [
    "#Deleting another two columns with 0.21 correlation\n",
    "df.drop(['distance below 30k km', 'new and less used'], axis=1, inplace=True)"
   ]
  },
  {
   "cell_type": "code",
   "execution_count": 180,
   "id": "c6c0ec14",
   "metadata": {
    "scrolled": false
   },
   "outputs": [
    {
     "data": {
      "text/html": [
       "<div>\n",
       "<style scoped>\n",
       "    .dataframe tbody tr th:only-of-type {\n",
       "        vertical-align: middle;\n",
       "    }\n",
       "\n",
       "    .dataframe tbody tr th {\n",
       "        vertical-align: top;\n",
       "    }\n",
       "\n",
       "    .dataframe thead th {\n",
       "        text-align: right;\n",
       "    }\n",
       "</style>\n",
       "<table border=\"1\" class=\"dataframe\">\n",
       "  <thead>\n",
       "    <tr style=\"text-align: right;\">\n",
       "      <th></th>\n",
       "      <th>year</th>\n",
       "      <th>brand</th>\n",
       "      <th>full_model_name</th>\n",
       "      <th>model_name</th>\n",
       "      <th>price</th>\n",
       "      <th>fuel_type</th>\n",
       "      <th>city</th>\n",
       "      <th>car_age</th>\n",
       "      <th>inv_car_price</th>\n",
       "      <th>inv_car_age</th>\n",
       "      <th>std_invprice</th>\n",
       "    </tr>\n",
       "  </thead>\n",
       "  <tbody>\n",
       "    <tr>\n",
       "      <th>0</th>\n",
       "      <td>2016</td>\n",
       "      <td>Honda</td>\n",
       "      <td>Honda Brio S MT</td>\n",
       "      <td>Brio</td>\n",
       "      <td>425000.0</td>\n",
       "      <td>Petrol</td>\n",
       "      <td>Mumbai</td>\n",
       "      <td>5.0</td>\n",
       "      <td>2.352941e-06</td>\n",
       "      <td>0.200000</td>\n",
       "      <td>0.143417</td>\n",
       "    </tr>\n",
       "    <tr>\n",
       "      <th>1</th>\n",
       "      <td>2012</td>\n",
       "      <td>Nissan</td>\n",
       "      <td>Nissan Sunny XV Diesel</td>\n",
       "      <td>Sunny</td>\n",
       "      <td>325000.0</td>\n",
       "      <td>Diesel</td>\n",
       "      <td>Mumbai</td>\n",
       "      <td>9.0</td>\n",
       "      <td>3.076923e-06</td>\n",
       "      <td>0.111111</td>\n",
       "      <td>0.188859</td>\n",
       "    </tr>\n",
       "    <tr>\n",
       "      <th>2</th>\n",
       "      <td>2017</td>\n",
       "      <td>Toyota</td>\n",
       "      <td>Toyota Fortuner 2.8 4x2 MT [2016-2020]</td>\n",
       "      <td>Fortuner</td>\n",
       "      <td>2650000.0</td>\n",
       "      <td>Diesel</td>\n",
       "      <td>Thane</td>\n",
       "      <td>4.0</td>\n",
       "      <td>3.773585e-07</td>\n",
       "      <td>0.250000</td>\n",
       "      <td>0.019416</td>\n",
       "    </tr>\n",
       "    <tr>\n",
       "      <th>3</th>\n",
       "      <td>2017</td>\n",
       "      <td>Mercedes-Benz</td>\n",
       "      <td>Mercedes-Benz E-Class E 220d Expression [2019-...</td>\n",
       "      <td>E-Class</td>\n",
       "      <td>4195000.0</td>\n",
       "      <td>Diesel</td>\n",
       "      <td>Mumbai</td>\n",
       "      <td>4.0</td>\n",
       "      <td>2.383790e-07</td>\n",
       "      <td>0.250000</td>\n",
       "      <td>0.010692</td>\n",
       "    </tr>\n",
       "    <tr>\n",
       "      <th>4</th>\n",
       "      <td>2012</td>\n",
       "      <td>Hyundai</td>\n",
       "      <td>Hyundai Verna Fluidic 1.6 CRDi SX</td>\n",
       "      <td>Verna</td>\n",
       "      <td>475000.0</td>\n",
       "      <td>Diesel</td>\n",
       "      <td>Mumbai</td>\n",
       "      <td>9.0</td>\n",
       "      <td>2.105263e-06</td>\n",
       "      <td>0.111111</td>\n",
       "      <td>0.127871</td>\n",
       "    </tr>\n",
       "  </tbody>\n",
       "</table>\n",
       "</div>"
      ],
      "text/plain": [
       "   year          brand                                    full_model_name  \\\n",
       "0  2016          Honda                                    Honda Brio S MT   \n",
       "1  2012         Nissan                             Nissan Sunny XV Diesel   \n",
       "2  2017         Toyota             Toyota Fortuner 2.8 4x2 MT [2016-2020]   \n",
       "3  2017  Mercedes-Benz  Mercedes-Benz E-Class E 220d Expression [2019-...   \n",
       "4  2012        Hyundai                  Hyundai Verna Fluidic 1.6 CRDi SX   \n",
       "\n",
       "  model_name      price fuel_type    city  car_age  inv_car_price  \\\n",
       "0       Brio   425000.0    Petrol  Mumbai      5.0   2.352941e-06   \n",
       "1      Sunny   325000.0    Diesel  Mumbai      9.0   3.076923e-06   \n",
       "2   Fortuner  2650000.0    Diesel   Thane      4.0   3.773585e-07   \n",
       "3    E-Class  4195000.0    Diesel  Mumbai      4.0   2.383790e-07   \n",
       "4      Verna   475000.0    Diesel  Mumbai      9.0   2.105263e-06   \n",
       "\n",
       "   inv_car_age  std_invprice  \n",
       "0     0.200000      0.143417  \n",
       "1     0.111111      0.188859  \n",
       "2     0.250000      0.019416  \n",
       "3     0.250000      0.010692  \n",
       "4     0.111111      0.127871  "
      ]
     },
     "execution_count": 180,
     "metadata": {},
     "output_type": "execute_result"
    }
   ],
   "source": [
    "df.head()"
   ]
  },
  {
   "cell_type": "code",
   "execution_count": 181,
   "id": "5074ad87",
   "metadata": {
    "scrolled": true
   },
   "outputs": [
    {
     "data": {
      "text/plain": [
       "Diesel        922\n",
       "Petrol        788\n",
       "CNG + 1         8\n",
       "Petrol + 1      6\n",
       "Hybrid          1\n",
       "Name: fuel_type, dtype: int64"
      ]
     },
     "execution_count": 181,
     "metadata": {},
     "output_type": "execute_result"
    }
   ],
   "source": [
    "#The fuel_type column has the least number of different values\n",
    "df['fuel_type'].value_counts()"
   ]
  },
  {
   "cell_type": "code",
   "execution_count": null,
   "id": "efe6b49f",
   "metadata": {},
   "outputs": [],
   "source": []
  },
  {
   "cell_type": "code",
   "execution_count": 182,
   "id": "2e4e1f5f",
   "metadata": {},
   "outputs": [],
   "source": [
    "#Getting dummies for fuel_type column\n",
    "df = pd.get_dummies(df, columns=['fuel_type'], drop_first = False )"
   ]
  },
  {
   "cell_type": "code",
   "execution_count": 183,
   "id": "aaa40f3e",
   "metadata": {
    "scrolled": true
   },
   "outputs": [
    {
     "data": {
      "text/plain": [
       "year                    0.288483\n",
       "price                   1.000000\n",
       "car_age                -0.288483\n",
       "inv_car_price          -0.517723\n",
       "inv_car_age             0.267973\n",
       "std_invprice           -0.517723\n",
       "fuel_type_CNG + 1      -0.043825\n",
       "fuel_type_Diesel        0.269330\n",
       "fuel_type_Hybrid        0.008721\n",
       "fuel_type_Petrol       -0.260109\n",
       "fuel_type_Petrol + 1   -0.034109\n",
       "Name: price, dtype: float64"
      ]
     },
     "execution_count": 183,
     "metadata": {},
     "output_type": "execute_result"
    }
   ],
   "source": [
    "#Visualising columns correlation with the price target column\n",
    "df.corr()['price']"
   ]
  },
  {
   "cell_type": "code",
   "execution_count": 184,
   "id": "ca7f9caa",
   "metadata": {},
   "outputs": [],
   "source": [
    "#Deleting 3 dummies columns because they have the least correlation with target column\n",
    "df.drop(['fuel_type_Petrol + 1', 'fuel_type_Hybrid', 'fuel_type_CNG + 1'], axis=1, inplace=True)"
   ]
  },
  {
   "cell_type": "code",
   "execution_count": 185,
   "id": "2255a197",
   "metadata": {
    "scrolled": true
   },
   "outputs": [
    {
     "data": {
      "text/plain": [
       "year                0.288483\n",
       "price               1.000000\n",
       "car_age            -0.288483\n",
       "inv_car_price      -0.517723\n",
       "inv_car_age         0.267973\n",
       "std_invprice       -0.517723\n",
       "fuel_type_Diesel    0.269330\n",
       "fuel_type_Petrol   -0.260109\n",
       "Name: price, dtype: float64"
      ]
     },
     "execution_count": 185,
     "metadata": {},
     "output_type": "execute_result"
    }
   ],
   "source": [
    "#Visualising columns correlation with the price target column\n",
    "df.corr()['price']"
   ]
  },
  {
   "cell_type": "code",
   "execution_count": 186,
   "id": "efc10713",
   "metadata": {},
   "outputs": [],
   "source": [
    "#Deleting columns with text that wont help us\n",
    "df.drop(['brand', 'full_model_name', 'model_name', 'city'], axis=1, inplace=True)"
   ]
  },
  {
   "cell_type": "code",
   "execution_count": 187,
   "id": "fb692fe9",
   "metadata": {
    "scrolled": true
   },
   "outputs": [
    {
     "data": {
      "text/plain": [
       "Index(['year', 'price', 'car_age', 'inv_car_price', 'inv_car_age',\n",
       "       'std_invprice', 'fuel_type_Diesel', 'fuel_type_Petrol'],\n",
       "      dtype='object')"
      ]
     },
     "execution_count": 187,
     "metadata": {},
     "output_type": "execute_result"
    }
   ],
   "source": [
    "#Visualising all of our columns\n",
    "df.columns"
   ]
  },
  {
   "cell_type": "code",
   "execution_count": 188,
   "id": "8357bdcb",
   "metadata": {
    "scrolled": true
   },
   "outputs": [
    {
     "data": {
      "text/plain": [
       "0"
      ]
     },
     "execution_count": 188,
     "metadata": {},
     "output_type": "execute_result"
    }
   ],
   "source": [
    "#We dont have any NaN values\n",
    "df.isnull().values.sum()"
   ]
  },
  {
   "cell_type": "markdown",
   "id": "0a4192de",
   "metadata": {},
   "source": [
    "## Linear Regression with the year column"
   ]
  },
  {
   "cell_type": "code",
   "execution_count": 189,
   "id": "ad925003",
   "metadata": {},
   "outputs": [],
   "source": [
    "X = df['year']\n",
    "y = df['price']"
   ]
  },
  {
   "cell_type": "code",
   "execution_count": 190,
   "id": "e575df0b",
   "metadata": {},
   "outputs": [],
   "source": [
    "#Storing the values in a numpy array and reshaping it so that we can work with it\n",
    "X = np.array(X)\n",
    "X = X.reshape(-1, 1)"
   ]
  },
  {
   "cell_type": "code",
   "execution_count": 191,
   "id": "6d985cb0",
   "metadata": {},
   "outputs": [],
   "source": [
    "#Splitting the data in train and test with train_test_split\n",
    "X_train, X_test, y_train, y_test = train_test_split(X, y, test_size = 0.3, random_state = 42)"
   ]
  },
  {
   "cell_type": "code",
   "execution_count": 192,
   "id": "9517a3af",
   "metadata": {},
   "outputs": [],
   "source": [
    "#Create an instance of the Linear Regression class from sklearn.\n",
    "model = LinearRegression()"
   ]
  },
  {
   "cell_type": "code",
   "execution_count": 193,
   "id": "5f8042d7",
   "metadata": {},
   "outputs": [
    {
     "data": {
      "text/plain": [
       "LinearRegression()"
      ]
     },
     "execution_count": 193,
     "metadata": {},
     "output_type": "execute_result"
    }
   ],
   "source": [
    "#Call the fit function , which applies the Linear Regression model\n",
    "model.fit( X_train, y_train)"
   ]
  },
  {
   "cell_type": "code",
   "execution_count": 194,
   "id": "b314ae13",
   "metadata": {},
   "outputs": [
    {
     "data": {
      "text/plain": [
       "(2430277649702.0493, 1034106.735078442)"
      ]
     },
     "execution_count": 194,
     "metadata": {},
     "output_type": "execute_result"
    }
   ],
   "source": [
    "#Define a variable that stores the predictions of our model .\n",
    "y_pred = model.predict(X_test)\n",
    "#Print the mean squared error and mean absolute error to get an idea of how well the model has done .\n",
    "mean_squared_error(y_pred, y_test), mean_absolute_error(y_pred, y_test)"
   ]
  },
  {
   "cell_type": "markdown",
   "id": "cbc25bad",
   "metadata": {},
   "source": [
    "## Linear Regression with inv_car_price - the column with 0.51 correlation"
   ]
  },
  {
   "cell_type": "code",
   "execution_count": 195,
   "id": "bf7aaf1e",
   "metadata": {},
   "outputs": [],
   "source": [
    "X = df['inv_car_price']\n",
    "y = df['price']"
   ]
  },
  {
   "cell_type": "code",
   "execution_count": 196,
   "id": "ef0113cb",
   "metadata": {},
   "outputs": [],
   "source": [
    "#Storing the values in a numpy array and reshaping it so that we can work with it\n",
    "X = np.array(X)\n",
    "X = X.reshape(-1, 1)"
   ]
  },
  {
   "cell_type": "code",
   "execution_count": 197,
   "id": "65d3b139",
   "metadata": {},
   "outputs": [],
   "source": [
    "#Splitting the data in train and test with train_test_split\n",
    "X_train, X_test, y_train, y_test = train_test_split(X, y, test_size = 0.3, random_state = 42)"
   ]
  },
  {
   "cell_type": "code",
   "execution_count": 198,
   "id": "803830bb",
   "metadata": {},
   "outputs": [],
   "source": [
    "#Deleting the previous model\n",
    "del model"
   ]
  },
  {
   "cell_type": "code",
   "execution_count": 199,
   "id": "c974ab52",
   "metadata": {},
   "outputs": [],
   "source": [
    "#Create an instance of the Linear Regression class from sklearn.\n",
    "model = LinearRegression()"
   ]
  },
  {
   "cell_type": "code",
   "execution_count": 200,
   "id": "e4d9d4c8",
   "metadata": {},
   "outputs": [
    {
     "data": {
      "text/plain": [
       "LinearRegression()"
      ]
     },
     "execution_count": 200,
     "metadata": {},
     "output_type": "execute_result"
    }
   ],
   "source": [
    "#Call the fit function , which applies the Linear Regression model\n",
    "model.fit( X_train, y_train)"
   ]
  },
  {
   "cell_type": "code",
   "execution_count": 201,
   "id": "c1ace9d6",
   "metadata": {},
   "outputs": [
    {
     "data": {
      "text/plain": [
       "(1995087811509.7795, 844323.1253167955)"
      ]
     },
     "execution_count": 201,
     "metadata": {},
     "output_type": "execute_result"
    }
   ],
   "source": [
    "#Define a variable that stores the predictions of our model .\n",
    "y_pred = model.predict(X_test)\n",
    "#Print the mean squared error and mean absolute error to get an idea of how well the model has done .\n",
    "mean_squared_error(y_pred, y_test), mean_absolute_error(y_pred, y_test)"
   ]
  },
  {
   "cell_type": "code",
   "execution_count": 202,
   "id": "d64a1d5a",
   "metadata": {},
   "outputs": [
    {
     "data": {
      "text/plain": [
       "844323.1253167955"
      ]
     },
     "execution_count": 202,
     "metadata": {},
     "output_type": "execute_result"
    }
   ],
   "source": [
    "#This is the best feature untill now\n",
    "mean_absolute_error(y_pred, y_test)"
   ]
  },
  {
   "cell_type": "markdown",
   "id": "bac118ed",
   "metadata": {},
   "source": [
    "## Linear Regression with inv_car_price - the column with 0.51 correlation"
   ]
  },
  {
   "cell_type": "code",
   "execution_count": 203,
   "id": "31d92a34",
   "metadata": {},
   "outputs": [],
   "source": [
    "X = df['std_invprice']\n",
    "y = df['price']"
   ]
  },
  {
   "cell_type": "code",
   "execution_count": 204,
   "id": "49cd1943",
   "metadata": {},
   "outputs": [],
   "source": [
    "#Storing the values in a numpy array and reshaping it so that we can work with it\n",
    "X = np.array(X)\n",
    "X = X.reshape(-1, 1)"
   ]
  },
  {
   "cell_type": "code",
   "execution_count": 205,
   "id": "dff93eb5",
   "metadata": {},
   "outputs": [],
   "source": [
    "#Splitting the data in train and test with train_test_split\n",
    "X_train, X_test, y_train, y_test = train_test_split(X, y, test_size = 0.3, random_state = 42)"
   ]
  },
  {
   "cell_type": "code",
   "execution_count": 206,
   "id": "01361bc3",
   "metadata": {},
   "outputs": [],
   "source": [
    "#Deleting the previous model\n",
    "del model"
   ]
  },
  {
   "cell_type": "code",
   "execution_count": 207,
   "id": "fa807730",
   "metadata": {},
   "outputs": [],
   "source": [
    "#Create an instance of the Linear Regression class from sklearn.\n",
    "model = LinearRegression()"
   ]
  },
  {
   "cell_type": "code",
   "execution_count": 208,
   "id": "40415a33",
   "metadata": {},
   "outputs": [
    {
     "data": {
      "text/plain": [
       "LinearRegression()"
      ]
     },
     "execution_count": 208,
     "metadata": {},
     "output_type": "execute_result"
    }
   ],
   "source": [
    "#Call the fit function , which applies the Linear Regression model\n",
    "model.fit( X_train, y_train)"
   ]
  },
  {
   "cell_type": "code",
   "execution_count": 209,
   "id": "bed1afbc",
   "metadata": {},
   "outputs": [
    {
     "data": {
      "text/plain": [
       "(1995087811509.7795, 844323.1253167957)"
      ]
     },
     "execution_count": 209,
     "metadata": {},
     "output_type": "execute_result"
    }
   ],
   "source": [
    "#Define a variable that stores the predictions of our model .\n",
    "y_pred = model.predict(X_test)\n",
    "#Print the mean squared error and mean absolute error to get an idea of how well the model has done .\n",
    "mean_squared_error(y_pred, y_test), mean_absolute_error(y_pred, y_test)"
   ]
  },
  {
   "cell_type": "code",
   "execution_count": null,
   "id": "cd48b335",
   "metadata": {},
   "outputs": [],
   "source": []
  },
  {
   "cell_type": "markdown",
   "id": "ffe0c682",
   "metadata": {},
   "source": [
    "## Linear Regression with more features - year, car_age, ..."
   ]
  },
  {
   "cell_type": "code",
   "execution_count": 210,
   "id": "54065c43",
   "metadata": {},
   "outputs": [],
   "source": [
    "X = df[['year', 'car_age',\n",
    "        'fuel_type_Diesel', 'fuel_type_Petrol']]\n",
    "\n",
    "y = df['price']"
   ]
  },
  {
   "cell_type": "code",
   "execution_count": 211,
   "id": "a52c1e8b",
   "metadata": {},
   "outputs": [],
   "source": [
    "#Splitting the data in train and test with train_test_split\n",
    "X_train, X_test, y_train, y_test = train_test_split(X, y, test_size = 0.3, random_state = 42)"
   ]
  },
  {
   "cell_type": "code",
   "execution_count": 212,
   "id": "6af51dfc",
   "metadata": {},
   "outputs": [],
   "source": [
    "#Deleting the previous model\n",
    "del model"
   ]
  },
  {
   "cell_type": "code",
   "execution_count": 213,
   "id": "ad577742",
   "metadata": {},
   "outputs": [],
   "source": [
    "#Create an instance of the Linear Regression class from sklearn.\n",
    "model = LinearRegression()"
   ]
  },
  {
   "cell_type": "code",
   "execution_count": 214,
   "id": "e6aac9d5",
   "metadata": {},
   "outputs": [
    {
     "data": {
      "text/plain": [
       "LinearRegression()"
      ]
     },
     "execution_count": 214,
     "metadata": {},
     "output_type": "execute_result"
    }
   ],
   "source": [
    "#Call the fit function , which applies the Linear Regression model\n",
    "model.fit( X_train, y_train)"
   ]
  },
  {
   "cell_type": "code",
   "execution_count": 215,
   "id": "edac605b",
   "metadata": {},
   "outputs": [
    {
     "data": {
      "text/plain": [
       "(2295920243217.421, 929833.1891891892)"
      ]
     },
     "execution_count": 215,
     "metadata": {},
     "output_type": "execute_result"
    }
   ],
   "source": [
    "#Define a variable that stores the predictions of our model .\n",
    "y_pred = model.predict(X_test)\n",
    "#Print the mean squared error and mean absolute error to get an idea of how well the model has done .\n",
    "mean_squared_error(y_pred, y_test), mean_absolute_error(y_pred, y_test)"
   ]
  },
  {
   "cell_type": "markdown",
   "id": "a8279e77",
   "metadata": {},
   "source": [
    "## Linear Regression with more features - year, car_age, ...\n",
    "#### This time including std_invprice and inv_car_price "
   ]
  },
  {
   "cell_type": "code",
   "execution_count": 221,
   "id": "7927746b",
   "metadata": {},
   "outputs": [],
   "source": [
    "df = df.fillna(0)"
   ]
  },
  {
   "cell_type": "code",
   "execution_count": 256,
   "id": "d87d55ad",
   "metadata": {},
   "outputs": [],
   "source": [
    "X = df[['year', 'car_age',\n",
    "        'fuel_type_Diesel', 'fuel_type_Petrol','inv_car_price', 'std_invprice', 'inv_car_age']].values\n",
    "\n",
    "y = df['price'].values"
   ]
  },
  {
   "cell_type": "code",
   "execution_count": 257,
   "id": "3ff62cc3",
   "metadata": {},
   "outputs": [],
   "source": [
    "X[np.where(np.isinf(X))] = 0"
   ]
  },
  {
   "cell_type": "code",
   "execution_count": 258,
   "id": "da7e0551",
   "metadata": {},
   "outputs": [],
   "source": [
    "#Splitting the data in train and test with train_test_split\n",
    "X_train, X_test, y_train, y_test = train_test_split(X, y, test_size = 0.3, random_state = 42)"
   ]
  },
  {
   "cell_type": "code",
   "execution_count": 259,
   "id": "801265da",
   "metadata": {},
   "outputs": [],
   "source": [
    "#Deleting the previous model\n",
    "del model"
   ]
  },
  {
   "cell_type": "code",
   "execution_count": 260,
   "id": "1be9589b",
   "metadata": {},
   "outputs": [],
   "source": [
    "#Create an instance of the Linear Regression class from sklearn.\n",
    "model = LinearRegression()"
   ]
  },
  {
   "cell_type": "code",
   "execution_count": 261,
   "id": "fdb75df3",
   "metadata": {},
   "outputs": [
    {
     "data": {
      "text/plain": [
       "LinearRegression()"
      ]
     },
     "execution_count": 261,
     "metadata": {},
     "output_type": "execute_result"
    }
   ],
   "source": [
    "#Call the fit function , which applies the Linear Regression model\n",
    "model.fit( X_train, y_train)"
   ]
  },
  {
   "cell_type": "code",
   "execution_count": 262,
   "id": "f16522cb",
   "metadata": {},
   "outputs": [
    {
     "data": {
      "text/plain": [
       "(1934306055653.9304, 829775.3359073359)"
      ]
     },
     "execution_count": 262,
     "metadata": {},
     "output_type": "execute_result"
    }
   ],
   "source": [
    "#Define a variable that stores the predictions of our model .\n",
    "y_pred = model.predict(X_test)\n",
    "#Print the mean squared error and mean absolute error to get an idea of how well the model has done .\n",
    "mean_squared_error(y_pred, y_test), mean_absolute_error(y_pred, y_test)"
   ]
  },
  {
   "cell_type": "code",
   "execution_count": null,
   "id": "3c0cf524",
   "metadata": {},
   "outputs": [],
   "source": []
  }
 ],
 "metadata": {
  "kernelspec": {
   "display_name": "Python 3 (ipykernel)",
   "language": "python",
   "name": "python3"
  },
  "language_info": {
   "codemirror_mode": {
    "name": "ipython",
    "version": 3
   },
   "file_extension": ".py",
   "mimetype": "text/x-python",
   "name": "python",
   "nbconvert_exporter": "python",
   "pygments_lexer": "ipython3",
   "version": "3.7.7"
  }
 },
 "nbformat": 4,
 "nbformat_minor": 5
}
