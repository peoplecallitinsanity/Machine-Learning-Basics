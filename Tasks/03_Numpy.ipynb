{
 "cells": [
  {
   "cell_type": "code",
   "execution_count": 1,
   "id": "e2edae79",
   "metadata": {},
   "outputs": [],
   "source": [
    "#importing the numpy library\n",
    "import numpy as np\n",
    "from numpy import linalg as LA"
   ]
  },
  {
   "cell_type": "code",
   "execution_count": 2,
   "id": "0e69d46d",
   "metadata": {},
   "outputs": [],
   "source": [
    "def RBF(x1, x2, sigma):\n",
    "    '''\n",
    "        This function computes the kernel of 2 arrays and with a specific sigma value\n",
    "    :x1: int\n",
    "        This is a NumPy 1-d array\n",
    "    :x2: int\n",
    "        This is a NumPy 1-d array\n",
    "    :sigma: float\n",
    "        Standard deviation\n",
    "    :return: \n",
    "        Returns the kernel\n",
    "    \n",
    "    '''\n",
    "    K = np.exp(( - LA.norm( np.subtract(x1, x2), 2)) / (2 * (sigma ** 2)))\n",
    "    return K"
   ]
  },
  {
   "cell_type": "code",
   "execution_count": 3,
   "id": "578791a9",
   "metadata": {},
   "outputs": [],
   "source": [
    "x1 = np.array([1, 2, 3])\n",
    "x2 = np.array([4, 0, 6])\n",
    "sigma = 0.9"
   ]
  },
  {
   "cell_type": "code",
   "execution_count": 4,
   "id": "cd338c4c",
   "metadata": {},
   "outputs": [
    {
     "data": {
      "text/plain": [
       "0.05528142233186492"
      ]
     },
     "execution_count": 4,
     "metadata": {},
     "output_type": "execute_result"
    }
   ],
   "source": [
    "RBF(x1, x2, sigma)"
   ]
  },
  {
   "cell_type": "code",
   "execution_count": 5,
   "id": "d589bca7",
   "metadata": {},
   "outputs": [],
   "source": [
    "def formula_no_1(W, X, y1, y2, alpha):\n",
    "    '''\n",
    "        This function updates the values of the weights vector W at each iteration\n",
    "    :W: int\n",
    "        This is a NumPy 1-d array\n",
    "    :X: int\n",
    "        This is a NumPy 2-d array\n",
    "    :y1, y2: int\n",
    "        These are two NumPy 1-d arrays\n",
    "    :alpha: floar\n",
    "        This is the learning rate\n",
    "    :return: \n",
    "        Returns the newly updated W array\n",
    "    \n",
    "    '''\n",
    "    n = X.shape[0]\n",
    "    for j in range(len(W)):\n",
    "        for i in range(len(y1)):\n",
    "            W[j] = W[j] - (alpha/n) * (y1[i] - y2[i]) * X[i][j]\n",
    "    return W\n",
    "    "
   ]
  },
  {
   "cell_type": "code",
   "execution_count": 13,
   "id": "6ec1d558",
   "metadata": {},
   "outputs": [
    {
     "data": {
      "text/plain": [
       "2"
      ]
     },
     "execution_count": 13,
     "metadata": {},
     "output_type": "execute_result"
    }
   ],
   "source": [
    "X = np.array([[1, 2, -3, 4], [5, -6, 7, 8]] )\n",
    "X.shape[0]"
   ]
  },
  {
   "cell_type": "code",
   "execution_count": 14,
   "id": "461b6c3c",
   "metadata": {},
   "outputs": [],
   "source": [
    "W = np.array([33, 24, 55, 66])\n",
    "y1 = np.array([1, 2])\n",
    "y2 = np.array([18, 12])\n",
    "alpha = 0.0005"
   ]
  },
  {
   "cell_type": "code",
   "execution_count": 15,
   "id": "f96f21e0",
   "metadata": {
    "scrolled": true
   },
   "outputs": [
    {
     "data": {
      "text/plain": [
       "array([33, 23, 54, 66])"
      ]
     },
     "execution_count": 15,
     "metadata": {},
     "output_type": "execute_result"
    }
   ],
   "source": [
    "formula_no_1(W, X, y1, y2, alpha)"
   ]
  }
 ],
 "metadata": {
  "kernelspec": {
   "display_name": "Python 3 (ipykernel)",
   "language": "python",
   "name": "python3"
  },
  "language_info": {
   "codemirror_mode": {
    "name": "ipython",
    "version": 3
   },
   "file_extension": ".py",
   "mimetype": "text/x-python",
   "name": "python",
   "nbconvert_exporter": "python",
   "pygments_lexer": "ipython3",
   "version": "3.7.7"
  }
 },
 "nbformat": 4,
 "nbformat_minor": 5
}
