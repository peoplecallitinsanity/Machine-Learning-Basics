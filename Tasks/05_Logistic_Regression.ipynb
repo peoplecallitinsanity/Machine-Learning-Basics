{
 "cells": [
  {
   "cell_type": "code",
   "execution_count": 1,
   "id": "203f55a8",
   "metadata": {},
   "outputs": [],
   "source": [
    "#Importing needed libraries\n",
    "import numpy as np\n",
    "import pandas as pd\n",
    "from sklearn.linear_model import LogisticRegression \n",
    "from sklearn.model_selection import train_test_split\n",
    "from sklearn.metrics import accuracy_score\n",
    "from sklearn.metrics import confusion_matrix"
   ]
  },
  {
   "cell_type": "code",
   "execution_count": 2,
   "id": "693c8b87",
   "metadata": {},
   "outputs": [],
   "source": [
    "#Reading our csv files as a pandas dataframes\n",
    "X_test = pd.read_csv('X_test.csv')\n",
    "X_train = pd.read_csv('X_train.csv')"
   ]
  },
  {
   "cell_type": "code",
   "execution_count": 3,
   "id": "9e573894",
   "metadata": {},
   "outputs": [],
   "source": [
    "#Concatenating the x_test and x_train into a single dataframe\n",
    "df = pd.concat([X_train, X_test])"
   ]
  },
  {
   "cell_type": "code",
   "execution_count": 4,
   "id": "129f6247",
   "metadata": {},
   "outputs": [
    {
     "data": {
      "text/html": [
       "<div>\n",
       "<style scoped>\n",
       "    .dataframe tbody tr th:only-of-type {\n",
       "        vertical-align: middle;\n",
       "    }\n",
       "\n",
       "    .dataframe tbody tr th {\n",
       "        vertical-align: top;\n",
       "    }\n",
       "\n",
       "    .dataframe thead th {\n",
       "        text-align: right;\n",
       "    }\n",
       "</style>\n",
       "<table border=\"1\" class=\"dataframe\">\n",
       "  <thead>\n",
       "    <tr style=\"text-align: right;\">\n",
       "      <th></th>\n",
       "      <th>CustomerId</th>\n",
       "      <th>Surname</th>\n",
       "      <th>CreditScore</th>\n",
       "      <th>Geography</th>\n",
       "      <th>Gender</th>\n",
       "      <th>Age</th>\n",
       "      <th>Tenure</th>\n",
       "      <th>Balance</th>\n",
       "      <th>NumOfProducts</th>\n",
       "      <th>HasCrCard</th>\n",
       "      <th>IsActiveMember</th>\n",
       "      <th>EstimatedSalary</th>\n",
       "      <th>Exited</th>\n",
       "    </tr>\n",
       "  </thead>\n",
       "  <tbody>\n",
       "    <tr>\n",
       "      <th>0</th>\n",
       "      <td>15799217</td>\n",
       "      <td>Zetticci</td>\n",
       "      <td>791</td>\n",
       "      <td>Germany</td>\n",
       "      <td>Female</td>\n",
       "      <td>35</td>\n",
       "      <td>7</td>\n",
       "      <td>52436.20</td>\n",
       "      <td>1</td>\n",
       "      <td>1</td>\n",
       "      <td>0</td>\n",
       "      <td>161051.75</td>\n",
       "      <td>0</td>\n",
       "    </tr>\n",
       "    <tr>\n",
       "      <th>1</th>\n",
       "      <td>15748986</td>\n",
       "      <td>Bischof</td>\n",
       "      <td>705</td>\n",
       "      <td>Germany</td>\n",
       "      <td>Male</td>\n",
       "      <td>42</td>\n",
       "      <td>8</td>\n",
       "      <td>166685.92</td>\n",
       "      <td>2</td>\n",
       "      <td>1</td>\n",
       "      <td>1</td>\n",
       "      <td>55313.51</td>\n",
       "      <td>0</td>\n",
       "    </tr>\n",
       "    <tr>\n",
       "      <th>2</th>\n",
       "      <td>15722004</td>\n",
       "      <td>Hsiung</td>\n",
       "      <td>543</td>\n",
       "      <td>France</td>\n",
       "      <td>Female</td>\n",
       "      <td>31</td>\n",
       "      <td>4</td>\n",
       "      <td>138317.94</td>\n",
       "      <td>1</td>\n",
       "      <td>0</td>\n",
       "      <td>0</td>\n",
       "      <td>61843.73</td>\n",
       "      <td>0</td>\n",
       "    </tr>\n",
       "    <tr>\n",
       "      <th>3</th>\n",
       "      <td>15780966</td>\n",
       "      <td>Pritchard</td>\n",
       "      <td>709</td>\n",
       "      <td>France</td>\n",
       "      <td>Female</td>\n",
       "      <td>32</td>\n",
       "      <td>2</td>\n",
       "      <td>0.00</td>\n",
       "      <td>2</td>\n",
       "      <td>0</td>\n",
       "      <td>0</td>\n",
       "      <td>109681.29</td>\n",
       "      <td>0</td>\n",
       "    </tr>\n",
       "    <tr>\n",
       "      <th>4</th>\n",
       "      <td>15636731</td>\n",
       "      <td>Ts'ai</td>\n",
       "      <td>714</td>\n",
       "      <td>Germany</td>\n",
       "      <td>Female</td>\n",
       "      <td>36</td>\n",
       "      <td>1</td>\n",
       "      <td>101609.01</td>\n",
       "      <td>2</td>\n",
       "      <td>1</td>\n",
       "      <td>1</td>\n",
       "      <td>447.73</td>\n",
       "      <td>0</td>\n",
       "    </tr>\n",
       "    <tr>\n",
       "      <th>...</th>\n",
       "      <td>...</td>\n",
       "      <td>...</td>\n",
       "      <td>...</td>\n",
       "      <td>...</td>\n",
       "      <td>...</td>\n",
       "      <td>...</td>\n",
       "      <td>...</td>\n",
       "      <td>...</td>\n",
       "      <td>...</td>\n",
       "      <td>...</td>\n",
       "      <td>...</td>\n",
       "      <td>...</td>\n",
       "      <td>...</td>\n",
       "    </tr>\n",
       "    <tr>\n",
       "      <th>3496</th>\n",
       "      <td>15733966</td>\n",
       "      <td>Johnstone</td>\n",
       "      <td>496</td>\n",
       "      <td>Germany</td>\n",
       "      <td>Female</td>\n",
       "      <td>55</td>\n",
       "      <td>4</td>\n",
       "      <td>125292.53</td>\n",
       "      <td>1</td>\n",
       "      <td>1</td>\n",
       "      <td>1</td>\n",
       "      <td>31532.96</td>\n",
       "      <td>1</td>\n",
       "    </tr>\n",
       "    <tr>\n",
       "      <th>3497</th>\n",
       "      <td>15669994</td>\n",
       "      <td>Greece</td>\n",
       "      <td>556</td>\n",
       "      <td>Germany</td>\n",
       "      <td>Female</td>\n",
       "      <td>31</td>\n",
       "      <td>1</td>\n",
       "      <td>128663.81</td>\n",
       "      <td>2</td>\n",
       "      <td>1</td>\n",
       "      <td>0</td>\n",
       "      <td>125083.29</td>\n",
       "      <td>0</td>\n",
       "    </tr>\n",
       "    <tr>\n",
       "      <th>3498</th>\n",
       "      <td>15712403</td>\n",
       "      <td>McMillan</td>\n",
       "      <td>589</td>\n",
       "      <td>France</td>\n",
       "      <td>Female</td>\n",
       "      <td>61</td>\n",
       "      <td>1</td>\n",
       "      <td>0.00</td>\n",
       "      <td>1</td>\n",
       "      <td>1</td>\n",
       "      <td>0</td>\n",
       "      <td>61108.56</td>\n",
       "      <td>1</td>\n",
       "    </tr>\n",
       "    <tr>\n",
       "      <th>3499</th>\n",
       "      <td>15643819</td>\n",
       "      <td>Dawson</td>\n",
       "      <td>714</td>\n",
       "      <td>France</td>\n",
       "      <td>Female</td>\n",
       "      <td>25</td>\n",
       "      <td>4</td>\n",
       "      <td>0.00</td>\n",
       "      <td>2</td>\n",
       "      <td>0</td>\n",
       "      <td>0</td>\n",
       "      <td>82500.84</td>\n",
       "      <td>0</td>\n",
       "    </tr>\n",
       "    <tr>\n",
       "      <th>3500</th>\n",
       "      <td>15644962</td>\n",
       "      <td>Connolly</td>\n",
       "      <td>745</td>\n",
       "      <td>France</td>\n",
       "      <td>Male</td>\n",
       "      <td>21</td>\n",
       "      <td>4</td>\n",
       "      <td>137910.45</td>\n",
       "      <td>1</td>\n",
       "      <td>1</td>\n",
       "      <td>1</td>\n",
       "      <td>177235.23</td>\n",
       "      <td>0</td>\n",
       "    </tr>\n",
       "  </tbody>\n",
       "</table>\n",
       "<p>10000 rows × 13 columns</p>\n",
       "</div>"
      ],
      "text/plain": [
       "      CustomerId    Surname  CreditScore Geography  Gender  Age  Tenure  \\\n",
       "0       15799217   Zetticci          791   Germany  Female   35       7   \n",
       "1       15748986    Bischof          705   Germany    Male   42       8   \n",
       "2       15722004     Hsiung          543    France  Female   31       4   \n",
       "3       15780966  Pritchard          709    France  Female   32       2   \n",
       "4       15636731      Ts'ai          714   Germany  Female   36       1   \n",
       "...          ...        ...          ...       ...     ...  ...     ...   \n",
       "3496    15733966  Johnstone          496   Germany  Female   55       4   \n",
       "3497    15669994     Greece          556   Germany  Female   31       1   \n",
       "3498    15712403   McMillan          589    France  Female   61       1   \n",
       "3499    15643819     Dawson          714    France  Female   25       4   \n",
       "3500    15644962   Connolly          745    France    Male   21       4   \n",
       "\n",
       "        Balance  NumOfProducts  HasCrCard  IsActiveMember  EstimatedSalary  \\\n",
       "0      52436.20              1          1               0        161051.75   \n",
       "1     166685.92              2          1               1         55313.51   \n",
       "2     138317.94              1          0               0         61843.73   \n",
       "3          0.00              2          0               0        109681.29   \n",
       "4     101609.01              2          1               1           447.73   \n",
       "...         ...            ...        ...             ...              ...   \n",
       "3496  125292.53              1          1               1         31532.96   \n",
       "3497  128663.81              2          1               0        125083.29   \n",
       "3498       0.00              1          1               0         61108.56   \n",
       "3499       0.00              2          0               0         82500.84   \n",
       "3500  137910.45              1          1               1        177235.23   \n",
       "\n",
       "      Exited  \n",
       "0          0  \n",
       "1          0  \n",
       "2          0  \n",
       "3          0  \n",
       "4          0  \n",
       "...      ...  \n",
       "3496       1  \n",
       "3497       0  \n",
       "3498       1  \n",
       "3499       0  \n",
       "3500       0  \n",
       "\n",
       "[10000 rows x 13 columns]"
      ]
     },
     "execution_count": 4,
     "metadata": {},
     "output_type": "execute_result"
    }
   ],
   "source": [
    "df"
   ]
  },
  {
   "cell_type": "code",
   "execution_count": 5,
   "id": "c6f7755d",
   "metadata": {
    "scrolled": false
   },
   "outputs": [
    {
     "data": {
      "text/plain": [
       "CustomerId        -0.006248\n",
       "CreditScore       -0.027094\n",
       "Age                0.285323\n",
       "Tenure            -0.014001\n",
       "Balance            0.118533\n",
       "NumOfProducts     -0.047820\n",
       "HasCrCard         -0.007138\n",
       "IsActiveMember    -0.156128\n",
       "EstimatedSalary    0.012097\n",
       "Exited             1.000000\n",
       "Name: Exited, dtype: float64"
      ]
     },
     "execution_count": 5,
     "metadata": {},
     "output_type": "execute_result"
    }
   ],
   "source": [
    "#Visualising correlation with the Exited Column\n",
    "df.corr()['Exited']"
   ]
  },
  {
   "cell_type": "code",
   "execution_count": 6,
   "id": "cdec279a",
   "metadata": {
    "scrolled": false
   },
   "outputs": [
    {
     "data": {
      "text/plain": [
       "France     5014\n",
       "Germany    2509\n",
       "Spain      2477\n",
       "Name: Geography, dtype: int64"
      ]
     },
     "execution_count": 6,
     "metadata": {},
     "output_type": "execute_result"
    }
   ],
   "source": [
    "#Value_counts method on Geography column to examine how many unique values there are\n",
    "df['Geography'].value_counts()"
   ]
  },
  {
   "cell_type": "code",
   "execution_count": 7,
   "id": "ba81d92b",
   "metadata": {
    "scrolled": false
   },
   "outputs": [
    {
     "data": {
      "text/plain": [
       "Male      5324\n",
       "Female    4423\n",
       " male      133\n",
       "female     120\n",
       "Name: Gender, dtype: int64"
      ]
     },
     "execution_count": 7,
     "metadata": {},
     "output_type": "execute_result"
    }
   ],
   "source": [
    "#Value_counts method on Gender column to examine how many unique values there are\n",
    "df['Gender'].value_counts()"
   ]
  },
  {
   "cell_type": "markdown",
   "id": "669fc490",
   "metadata": {},
   "source": [
    "### Customer churn refers to when a customer (player, subscriber, user, etc.) ceases his or her relationship with a company."
   ]
  },
  {
   "cell_type": "markdown",
   "id": "6b2913f0",
   "metadata": {},
   "source": [
    "### Age\n"
   ]
  },
  {
   "cell_type": "markdown",
   "id": "06bdc410",
   "metadata": {},
   "source": [
    "##### Customer's Age has a major influence in their relationship with a company. If the company's target group are young people (16 - 35 y.o) (for example a gaming company ), there is a very big possibility that a 35 y.o man will cease his relationship with the company because he has other priorities like family etc. Also, teenagers are also prone to that because maybe they cannot afford paying for it"
   ]
  },
  {
   "cell_type": "markdown",
   "id": "8cbb0ccf",
   "metadata": {},
   "source": [
    "### Balance"
   ]
  },
  {
   "cell_type": "markdown",
   "id": "809db873",
   "metadata": {},
   "source": [
    "##### Balance in customers account is also a factor, there are people with low income for example that cannot afford a long subscription and will look for more affordable options. On the other side, if the quality of services arent good enough, people with high income will also cease their subscribtion. If we would be talking of a gaming company,low balance would be the teenagers ( with exceptions) and people with very high balance would maybe consider they have other priorities ( not if making money on gaming)"
   ]
  },
  {
   "cell_type": "markdown",
   "id": "187ab317",
   "metadata": {},
   "source": [
    "### Gender"
   ]
  },
  {
   "cell_type": "markdown",
   "id": "e1afff33",
   "metadata": {},
   "source": [
    "##### It is known that boys and girls usually have diffrent hobbies, interests and needs.If talking of a gaming company - the company would have normally more males customers , and probably females would be the ones with a highest rate of churn per number of customers."
   ]
  },
  {
   "cell_type": "markdown",
   "id": "33a37294",
   "metadata": {},
   "source": [
    "### Active Member"
   ]
  },
  {
   "cell_type": "markdown",
   "id": "a26ba117",
   "metadata": {},
   "source": [
    "##### The active member features would be one of the best methods to predict churn, its obviously that a customer active a long period and also with consistency, would have a lower chance of becoming a churn. While a short period being very active could determine the customer to go after a that period ."
   ]
  },
  {
   "cell_type": "markdown",
   "id": "377bc19e",
   "metadata": {},
   "source": [
    "#### Geography"
   ]
  },
  {
   "cell_type": "markdown",
   "id": "b4ba879e",
   "metadata": {},
   "source": [
    "##### People from different countries can have diffrent oppinions and also needs, also it can influence where the company was founded and its history in that country. A company that was founded long ago in X country would have more customers from that country because of people trust."
   ]
  },
  {
   "cell_type": "markdown",
   "id": "8384c574",
   "metadata": {},
   "source": [
    "## Data cleaning"
   ]
  },
  {
   "cell_type": "code",
   "execution_count": 8,
   "id": "cc8e3b42",
   "metadata": {},
   "outputs": [],
   "source": [
    "#Getting dummies for fuel_type column\n",
    "df = pd.get_dummies(df, columns=['Geography'], drop_first = False )"
   ]
  },
  {
   "cell_type": "code",
   "execution_count": 9,
   "id": "844391eb",
   "metadata": {},
   "outputs": [],
   "source": [
    "#Mapping through Gender column to clear our data\n",
    "df['Gender'] = df['Gender'].map({'Male' : 0,'Female': 1, ' male': 0, 'female': 1})"
   ]
  },
  {
   "cell_type": "code",
   "execution_count": 10,
   "id": "8f0093c9",
   "metadata": {},
   "outputs": [],
   "source": [
    "#Getting rid of columns with less than 0.10 correlation\n",
    "df.drop(['CustomerId','Surname', 'CreditScore', 'Tenure', 'NumOfProducts', 'HasCrCard', 'EstimatedSalary'\n",
    "           ], axis=1, inplace=True)"
   ]
  },
  {
   "cell_type": "code",
   "execution_count": 11,
   "id": "3b1a0e35",
   "metadata": {
    "scrolled": true
   },
   "outputs": [
    {
     "data": {
      "text/plain": [
       "Gender               0.106512\n",
       "Age                  0.285323\n",
       "Balance              0.118533\n",
       "IsActiveMember      -0.156128\n",
       "Exited               1.000000\n",
       "Geography_France    -0.104955\n",
       "Geography_Germany    0.173488\n",
       "Geography_Spain     -0.052667\n",
       "Name: Exited, dtype: float64"
      ]
     },
     "execution_count": 11,
     "metadata": {},
     "output_type": "execute_result"
    }
   ],
   "source": [
    "#Visualising correlation with the Exited Column\n",
    "df.corr()['Exited']"
   ]
  },
  {
   "cell_type": "markdown",
   "id": "92df71fd",
   "metadata": {},
   "source": [
    "## The Logistic Regression model"
   ]
  },
  {
   "cell_type": "code",
   "execution_count": 12,
   "id": "d23c79b5",
   "metadata": {},
   "outputs": [],
   "source": [
    "#Defining the features columns - X, and target values - y\n",
    "X = df[['Gender', 'Age', 'Balance', 'IsActiveMember',\n",
    "       'Geography_France', 'Geography_Germany']]\n",
    "\n",
    "y = df['Exited']"
   ]
  },
  {
   "cell_type": "code",
   "execution_count": 13,
   "id": "53b7c4fc",
   "metadata": {},
   "outputs": [],
   "source": [
    "#Splitting the data in train and test with train_test_split\n",
    "X_train, X_test, y_train, y_test = train_test_split(X, y, test_size = 0.3, random_state = 42)"
   ]
  },
  {
   "cell_type": "code",
   "execution_count": 14,
   "id": "12948615",
   "metadata": {},
   "outputs": [],
   "source": [
    "#Create an instance of the Logistic Regression class from sklearn.\n",
    "model = LogisticRegression()"
   ]
  },
  {
   "cell_type": "code",
   "execution_count": 15,
   "id": "350ab7e2",
   "metadata": {},
   "outputs": [
    {
     "data": {
      "text/plain": [
       "LogisticRegression()"
      ]
     },
     "execution_count": 15,
     "metadata": {},
     "output_type": "execute_result"
    }
   ],
   "source": [
    "#Fitting the model\n",
    "model.fit(X_train, y_train)"
   ]
  },
  {
   "cell_type": "code",
   "execution_count": 16,
   "id": "c5cdf1bb",
   "metadata": {},
   "outputs": [],
   "source": [
    "#Making predictions\n",
    "y_pred = model.predict(X_test)"
   ]
  },
  {
   "cell_type": "code",
   "execution_count": 17,
   "id": "b3ac184f",
   "metadata": {},
   "outputs": [
    {
     "data": {
      "text/plain": [
       "0.7943333333333333"
      ]
     },
     "execution_count": 17,
     "metadata": {},
     "output_type": "execute_result"
    }
   ],
   "source": [
    "#Visualising accuracy score\n",
    "accuracy_score(y_test, y_pred)"
   ]
  },
  {
   "cell_type": "code",
   "execution_count": 18,
   "id": "1f54af36",
   "metadata": {
    "scrolled": true
   },
   "outputs": [
    {
     "data": {
      "text/plain": [
       "array([[2383,    0],\n",
       "       [ 617,    0]], dtype=int64)"
      ]
     },
     "execution_count": 18,
     "metadata": {},
     "output_type": "execute_result"
    }
   ],
   "source": [
    "#Visualizing the confusion matrix\n",
    "confusion_matrix(y_test, y_pred)"
   ]
  },
  {
   "cell_type": "code",
   "execution_count": 19,
   "id": "5c69562e",
   "metadata": {
    "scrolled": false
   },
   "outputs": [
    {
     "data": {
      "text/plain": [
       "array([0], dtype=int64)"
      ]
     },
     "execution_count": 19,
     "metadata": {},
     "output_type": "execute_result"
    }
   ],
   "source": [
    "#How many unique values predicted \n",
    "np.unique(y_pred)"
   ]
  },
  {
   "cell_type": "code",
   "execution_count": 20,
   "id": "49f7e835",
   "metadata": {
    "scrolled": true
   },
   "outputs": [
    {
     "data": {
      "text/plain": [
       "array([0, 1], dtype=int64)"
      ]
     },
     "execution_count": 20,
     "metadata": {},
     "output_type": "execute_result"
    }
   ],
   "source": [
    "#How many unique values were actually in dataset - 0(False) and 1(True)\n",
    "np.unique(y_test)"
   ]
  },
  {
   "cell_type": "markdown",
   "id": "2fd318df",
   "metadata": {},
   "source": [
    "#### The model predicted only 0s - didnot predict any people that exited"
   ]
  },
  {
   "cell_type": "code",
   "execution_count": 21,
   "id": "73873705",
   "metadata": {
    "scrolled": true
   },
   "outputs": [
    {
     "data": {
      "text/plain": [
       "0    2383\n",
       "1     617\n",
       "Name: Exited, dtype: int64"
      ]
     },
     "execution_count": 21,
     "metadata": {},
     "output_type": "execute_result"
    }
   ],
   "source": [
    "y_test.value_counts()"
   ]
  },
  {
   "cell_type": "markdown",
   "id": "3d600932",
   "metadata": {},
   "source": [
    "## Implimentation of Logistic Regression model"
   ]
  },
  {
   "cell_type": "code",
   "execution_count": 22,
   "id": "ae136739",
   "metadata": {},
   "outputs": [],
   "source": [
    "class LogisticRegression2():\n",
    "    #Define a Linear Regression class to store our relevant functions in\n",
    "    def __init__(self, learning_rate: float = 0.05, max_iter: int = 100000) -> None:\n",
    "        '''\n",
    "        The constructor of the Logistic Regression model.\n",
    "            :param learning_rate: float, default = 0.05\n",
    "                The learning rate of the model.\n",
    "            :param max_iter: int, default = 1000000\n",
    "                The number of iteration to go through.\n",
    "        '''\n",
    "        #Setting up the hyperparameters.\n",
    "        self.__learning_rate = learning_rate\n",
    "        self.__max_iter = max_iter\n",
    "    def sigmoid( self, y: 'np.array') -> 'np.array':\n",
    "        '''\n",
    "        The sigmoid function.\n",
    "        :param y: numpy.ndarray\n",
    "            The predictions of the linear function .\n",
    "        '''\n",
    "        return 1 / (1 + np.exp(-y))\n",
    "    def fit( self, X: 'np.array', y: 'np.array') -> 'LogisticRegression2':\n",
    "        '''\n",
    "        The fit function of the model.\n",
    "        : param X : 2-D numpy.ndarray\n",
    "            The X matrix with the features.\n",
    "        : param y : 1-D numpy.ndarray\n",
    "            The target vector.\n",
    "        '''\n",
    "        #Creating the weights vector\n",
    "        self.coef_ = np.zeros( len(X[0]) + 1)\n",
    "        #Adding the intercept column.\n",
    "        X = np.hstack((X, np.ones((len(X), 1))))\n",
    "        #The weights updating process.\n",
    "        for i in range(self.__max_iter):\n",
    "            #Prediction.\n",
    "            pred = self.sigmoid(np.dot(X, self.coef_))\n",
    "            \n",
    "            #Computing the gradient.\n",
    "            gradient = np.dot(X.T, (pred - y)) / y.size\n",
    "            \n",
    "            #Updating the weights.\n",
    "            self.coef_ -= gradient * self.__learning_rate\n",
    "        return self\n",
    "    def predict_proba( self, X: 'np.array') -> 'np.array':\n",
    "        '''\n",
    "        This function returns the class probabilities.\n",
    "        : param X : 2-D numpy.ndarray\n",
    "            The X matrix with the features.\n",
    "        : return : 2-D numpy.ndarray\n",
    "            The array with the probabilities for every class and sample.\n",
    "        '''\n",
    "        \n",
    "        #Adding the intercept column.\n",
    "        X = np.hstack((X, np.ones((len(X), 1))))\n",
    "        \n",
    "        #Computing the probabilities.\n",
    "        prob = self.sigmoid(np.dot(X, self.coef_))\n",
    "        \n",
    "        #Returning the probabilities.\n",
    "        return np.hstack(((1 - prob).reshape(-1, 1), prob.reshape(-1, 1)))\n",
    "\n",
    "    def predict( self, X: 'np.array') -> 'np.array':\n",
    "        '''\n",
    "        This functions returns the predictions.\n",
    "        : param X : 2-D numpy.ndarray\n",
    "            The X matrix with the features.\n",
    "        : return : 2-D numpy.ndarray\n",
    "            The array with the predictions\n",
    "        '''\n",
    "        \n",
    "        #Adding the intercept column.\n",
    "        X = np.hstack((X, np.ones((len(X), 1))))\n",
    "        \n",
    "        return ( self.sigmoid(np.dot(X, self.coef_)) > 0.7 ) * 1\n",
    "\n",
    "\n",
    "\n"
   ]
  },
  {
   "cell_type": "code",
   "execution_count": 23,
   "id": "9c065ca1",
   "metadata": {},
   "outputs": [],
   "source": [
    "#Implimentation of our model \n",
    "gr = LogisticRegression2()"
   ]
  },
  {
   "cell_type": "code",
   "execution_count": 24,
   "id": "47fa550a",
   "metadata": {
    "scrolled": false
   },
   "outputs": [
    {
     "data": {
      "text/plain": [
       "2570    0.500000\n",
       "2603    0.500000\n",
       "1239    0.500000\n",
       "1579    0.500000\n",
       "5058    0.500000\n",
       "          ...   \n",
       "5734    0.500000\n",
       "5191    0.731059\n",
       "5390    0.500000\n",
       "860     0.500000\n",
       "771     0.731059\n",
       "Name: Exited, Length: 7000, dtype: float64"
      ]
     },
     "execution_count": 24,
     "metadata": {},
     "output_type": "execute_result"
    }
   ],
   "source": [
    "#The sigmoid function from our model\n",
    "gr.sigmoid(y_train)"
   ]
  },
  {
   "cell_type": "code",
   "execution_count": 25,
   "id": "996ec5f7",
   "metadata": {},
   "outputs": [],
   "source": [
    "#Converting dataframe to numpy array\n",
    "X_train = X_train.to_numpy()"
   ]
  },
  {
   "cell_type": "code",
   "execution_count": 26,
   "id": "57eccea9",
   "metadata": {
    "scrolled": false
   },
   "outputs": [
    {
     "name": "stderr",
     "output_type": "stream",
     "text": [
      "c:\\users\\pulbe\\appdata\\local\\programs\\python\\python37\\lib\\site-packages\\ipykernel_launcher.py:20: RuntimeWarning: overflow encountered in exp\n"
     ]
    },
    {
     "data": {
      "text/plain": [
       "<__main__.LogisticRegression2 at 0x1d3091f76c8>"
      ]
     },
     "execution_count": 26,
     "metadata": {},
     "output_type": "execute_result"
    }
   ],
   "source": [
    "#The fit function from our model\n",
    "gr.fit(X_train, y_train)"
   ]
  },
  {
   "cell_type": "code",
   "execution_count": 27,
   "id": "d810b5c9",
   "metadata": {},
   "outputs": [
    {
     "name": "stderr",
     "output_type": "stream",
     "text": [
      "c:\\users\\pulbe\\appdata\\local\\programs\\python\\python37\\lib\\site-packages\\ipykernel_launcher.py:20: RuntimeWarning: overflow encountered in exp\n"
     ]
    },
    {
     "data": {
      "text/plain": [
       "array([[1.00000000e+00, 0.00000000e+00],\n",
       "       [1.00000000e+00, 0.00000000e+00],\n",
       "       [1.00000000e+00, 0.00000000e+00],\n",
       "       ...,\n",
       "       [1.00000000e+00, 0.00000000e+00],\n",
       "       [1.00000000e+00, 0.00000000e+00],\n",
       "       [1.00000000e+00, 4.67920848e-61]])"
      ]
     },
     "execution_count": 27,
     "metadata": {},
     "output_type": "execute_result"
    }
   ],
   "source": [
    "#The predict_proba from our model, returning the probabilities\n",
    "gr.predict_proba(X_test)"
   ]
  },
  {
   "cell_type": "code",
   "execution_count": 28,
   "id": "4640e904",
   "metadata": {},
   "outputs": [
    {
     "name": "stderr",
     "output_type": "stream",
     "text": [
      "c:\\users\\pulbe\\appdata\\local\\programs\\python\\python37\\lib\\site-packages\\ipykernel_launcher.py:20: RuntimeWarning: overflow encountered in exp\n"
     ]
    }
   ],
   "source": [
    "#The predict function that returns the predictions\n",
    "y_pred = gr.predict(X_test)"
   ]
  },
  {
   "cell_type": "code",
   "execution_count": 29,
   "id": "1ea27d1e",
   "metadata": {},
   "outputs": [
    {
     "data": {
      "text/plain": [
       "array([[2345,   38],\n",
       "       [ 587,   30]], dtype=int64)"
      ]
     },
     "execution_count": 29,
     "metadata": {},
     "output_type": "execute_result"
    }
   ],
   "source": [
    "#Visualizing the confusion matrix\n",
    "confusion_matrix(y_test, y_pred)"
   ]
  },
  {
   "cell_type": "code",
   "execution_count": 30,
   "id": "3c66ff65",
   "metadata": {},
   "outputs": [
    {
     "data": {
      "text/plain": [
       "0.7916666666666666"
      ]
     },
     "execution_count": 30,
     "metadata": {},
     "output_type": "execute_result"
    }
   ],
   "source": [
    "#Accuracy score of our model\n",
    "accuracy_score(y_test, y_pred)"
   ]
  },
  {
   "cell_type": "markdown",
   "id": "785642cf",
   "metadata": {},
   "source": [
    "##### The accuracy score obtained by our implimentation of Logistic Regression is better because we have churns predicted correct ( 30 ), while in Logistic Regression from sklearn there aren`t"
   ]
  }
 ],
 "metadata": {
  "kernelspec": {
   "display_name": "Python 3 (ipykernel)",
   "language": "python",
   "name": "python3"
  },
  "language_info": {
   "codemirror_mode": {
    "name": "ipython",
    "version": 3
   },
   "file_extension": ".py",
   "mimetype": "text/x-python",
   "name": "python",
   "nbconvert_exporter": "python",
   "pygments_lexer": "ipython3",
   "version": "3.7.7"
  }
 },
 "nbformat": 4,
 "nbformat_minor": 5
}
