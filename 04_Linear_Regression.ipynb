{
 "cells": [
  {
   "cell_type": "code",
   "execution_count": 42,
   "id": "d3be28e7",
   "metadata": {},
   "outputs": [],
   "source": [
    "import numpy as np\n",
    "import math"
   ]
  },
  {
   "cell_type": "code",
   "execution_count": 43,
   "id": "646424e7",
   "metadata": {},
   "outputs": [],
   "source": [
    "class LinearRegression2():\n",
    "    #Define a Linear Regression class to store our relevant functions in\n",
    "    def init(self):\n",
    "        '''\n",
    "        Initialize the model.\n",
    "        Store the self.params variable, which will be the weights that the model returns.\n",
    "        '''\n",
    "        self.params = None\n",
    "    def gradientDescent( self, X, y, learning_rate = 0.00001, iterations = 500, batch_size = 16):\n",
    "        '''\n",
    "        This function applies the Gradient Descent model on the dataset\n",
    "        : param X : numpy.ndarray\n",
    "            The X matrix containing the independent variable columns .\n",
    "        : param y : numpy.ndarray\n",
    "            The target vectory .\n",
    "        '''\n",
    "        #Add a column of ones for the constant term\n",
    "        X = np.concatenate([ X, np.ones_like(y)], axis = 1)\n",
    "        rows , cols = X.shape\n",
    "        #Combine the X and y columns to more easily shuffle it later\n",
    "        X = np.append(X, y , axis = 1)\n",
    "        #Make the initial random guess for w\n",
    "        w = np.random.random(( cols, 1))\n",
    "        #Go through all the iterations\n",
    "        for i in range(iterations):\n",
    "            #Shuffle the rows of the data\n",
    "            np.random.shuffle(X)\n",
    "            #Define X and y again\n",
    "            y_it = X[:, -1].reshape((rows, 1))\n",
    "            x_it = X[:, :-1]\n",
    "            #Iterate through the batches\n",
    "            for batch in range (math.ceil(rows / batch_size)):\n",
    "                batch_start = batch * batch_size\n",
    "                #Cut a batch from the dataset\n",
    "                x_batch = x_it[batch_start: min(batch_start + batch_size, X.shape[0])]\n",
    "                y_batch = y_it[batch_start: min(batch_start + batch_size, X.shape[0])]\n",
    "                #Subtract the gradient from our previous estimation\n",
    "                w -= learning_rate * np.matmul(x_batch.transpose(),(np.matmul(x_batch, w) - y_batch))\n",
    "\n",
    "        self.params = w\n",
    "        return self\n",
    "    def predict( self, X):\n",
    "        X = np.concatenate([X, np.ones( X.shape[0]).reshape((X.shape[0], 1))], axis = 1)\n",
    "        return np.matmul(X, self.params)\n"
   ]
  },
  {
   "cell_type": "code",
   "execution_count": 44,
   "id": "3994bba3",
   "metadata": {},
   "outputs": [],
   "source": [
    "gr = LinearRegression2()"
   ]
  },
  {
   "cell_type": "code",
   "execution_count": 45,
   "id": "02e0718c",
   "metadata": {},
   "outputs": [
    {
     "data": {
      "text/plain": [
       "<__main__.LinearRegression2 at 0x251035e8c88>"
      ]
     },
     "execution_count": 45,
     "metadata": {},
     "output_type": "execute_result"
    }
   ],
   "source": [
    "gr.gradientDescent(X, y, learning_rate = 0.00001, iterations = 500, batch_size = 16)"
   ]
  },
  {
   "cell_type": "code",
   "execution_count": 53,
   "id": "742eec8b",
   "metadata": {},
   "outputs": [
    {
     "data": {
      "text/plain": [
       "array([299.89385246])"
      ]
     },
     "execution_count": 53,
     "metadata": {},
     "output_type": "execute_result"
    }
   ],
   "source": [
    "gr.predict(X)[99]"
   ]
  },
  {
   "cell_type": "code",
   "execution_count": 52,
   "id": "dd7c84fa",
   "metadata": {},
   "outputs": [
    {
     "data": {
      "text/plain": [
       "array([100.])"
      ]
     },
     "execution_count": 52,
     "metadata": {},
     "output_type": "execute_result"
    }
   ],
   "source": [
    "X[99]"
   ]
  },
  {
   "cell_type": "code",
   "execution_count": 29,
   "id": "3dab1cff",
   "metadata": {},
   "outputs": [],
   "source": [
    "#Same model but from Sklearn library\n",
    "from sklearn.model_selection import train_test_split\n",
    "from sklearn.metrics import mean_squared_error, mean_absolute_error\n",
    "from sklearn.linear_model import LinearRegression #!!"
   ]
  },
  {
   "cell_type": "code",
   "execution_count": 8,
   "id": "953e119e",
   "metadata": {},
   "outputs": [],
   "source": [
    "#Define some mock−up data.\n",
    "#Create a 10x2 matrix with random integers in the range 0−100.\n",
    "X = np.linspace(0, 100, 100).reshape( 100, 1)\n",
    "#Define a random noise vector to add onto the vectory.\n",
    "e = np.random.uniform(-5, 5, (100, 1))\n",
    "#Define the vector y = 3∗x + e.\n",
    "y = 3*X + e"
   ]
  },
  {
   "cell_type": "code",
   "execution_count": 22,
   "id": "8c0952bd",
   "metadata": {},
   "outputs": [],
   "source": [
    "#Split the data in train and test.\n",
    "X_train, X_test, y_train, y_test = train_test_split(X, y, test_size = 0.3, random_state = 42)"
   ]
  },
  {
   "cell_type": "code",
   "execution_count": 30,
   "id": "0c3f37ca",
   "metadata": {},
   "outputs": [
    {
     "data": {
      "text/plain": [
       "LinearRegression()"
      ]
     },
     "execution_count": 30,
     "metadata": {},
     "output_type": "execute_result"
    }
   ],
   "source": [
    "#Create an instance of the Linear Regression class from sklearn.\n",
    "lr = LinearRegression()\n",
    "#Call the fit function , which applies the Linear Regression model\n",
    "lr.fit( X_train, y_train)"
   ]
  },
  {
   "cell_type": "code",
   "execution_count": 31,
   "id": "adb5fedc",
   "metadata": {},
   "outputs": [
    {
     "data": {
      "text/plain": [
       "(7.839801252768398, 2.3977675746920863)"
      ]
     },
     "execution_count": 31,
     "metadata": {},
     "output_type": "execute_result"
    }
   ],
   "source": [
    "# De f ine a v a r i a b l e t h a t s t o r e s t h e p r e d i c t i o n s o f our model .\n",
    "y_pred = lr.predict(X_test)\n",
    "#Print the mean squared error and mean absolute error to get an idea of how well the model has done .\n",
    "mean_squared_error(y_pred, y_test), mean_absolute_error(y_pred, y_test)"
   ]
  },
  {
   "cell_type": "code",
   "execution_count": null,
   "id": "8726c82b",
   "metadata": {},
   "outputs": [],
   "source": []
  }
 ],
 "metadata": {
  "kernelspec": {
   "display_name": "Python 3 (ipykernel)",
   "language": "python",
   "name": "python3"
  },
  "language_info": {
   "codemirror_mode": {
    "name": "ipython",
    "version": 3
   },
   "file_extension": ".py",
   "mimetype": "text/x-python",
   "name": "python",
   "nbconvert_exporter": "python",
   "pygments_lexer": "ipython3",
   "version": "3.7.7"
  }
 },
 "nbformat": 4,
 "nbformat_minor": 5
}
