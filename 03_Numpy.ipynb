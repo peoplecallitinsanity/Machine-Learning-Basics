{
 "cells": [
  {
   "cell_type": "code",
   "execution_count": 1,
   "id": "f62e61c1",
   "metadata": {},
   "outputs": [],
   "source": [
    "#importing the numpy library\n",
    "import numpy as np"
   ]
  },
  {
   "cell_type": "code",
   "execution_count": 2,
   "id": "fd8ce039",
   "metadata": {},
   "outputs": [],
   "source": [
    "#setting up the seed\n",
    "np.random.seed(42)"
   ]
  },
  {
   "cell_type": "code",
   "execution_count": 3,
   "id": "f5d78e58",
   "metadata": {},
   "outputs": [],
   "source": [
    "#generating a random vector, matrix and tensor\n",
    "vector = np.random.randint( 10, size = 6)\n",
    "matrix = np.random.randint ( 10, size = ( 3, 4))\n",
    "tensor = np.random.randint ( 10 , size = ( 3, 4, 5 ))"
   ]
  },
  {
   "cell_type": "code",
   "execution_count": 4,
   "id": "8e19818c",
   "metadata": {},
   "outputs": [
    {
     "data": {
      "text/plain": [
       "array([6, 3, 7, 4, 6, 9])"
      ]
     },
     "execution_count": 4,
     "metadata": {},
     "output_type": "execute_result"
    }
   ],
   "source": [
    "vector"
   ]
  },
  {
   "cell_type": "code",
   "execution_count": 5,
   "id": "f4dba8f4",
   "metadata": {},
   "outputs": [
    {
     "data": {
      "text/plain": [
       "array([[2, 6, 7, 4],\n",
       "       [3, 7, 7, 2],\n",
       "       [5, 4, 1, 7]])"
      ]
     },
     "execution_count": 5,
     "metadata": {},
     "output_type": "execute_result"
    }
   ],
   "source": [
    "matrix"
   ]
  },
  {
   "cell_type": "code",
   "execution_count": 6,
   "id": "8e557a7f",
   "metadata": {},
   "outputs": [
    {
     "data": {
      "text/plain": [
       "array([[[5, 1, 4, 0, 9],\n",
       "        [5, 8, 0, 9, 2],\n",
       "        [6, 3, 8, 2, 4],\n",
       "        [2, 6, 4, 8, 6]],\n",
       "\n",
       "       [[1, 3, 8, 1, 9],\n",
       "        [8, 9, 4, 1, 3],\n",
       "        [6, 7, 2, 0, 3],\n",
       "        [1, 7, 3, 1, 5]],\n",
       "\n",
       "       [[5, 9, 3, 5, 1],\n",
       "        [9, 1, 9, 3, 7],\n",
       "        [6, 8, 7, 4, 1],\n",
       "        [4, 7, 9, 8, 8]]])"
      ]
     },
     "execution_count": 6,
     "metadata": {},
     "output_type": "execute_result"
    }
   ],
   "source": [
    "tensor"
   ]
  },
  {
   "cell_type": "code",
   "execution_count": 8,
   "id": "1f2ba6b5",
   "metadata": {},
   "outputs": [
    {
     "name": "stdout",
     "output_type": "stream",
     "text": [
      " vector − 1\n",
      " matrix − 2\n",
      " tensor − 3\n"
     ]
    }
   ],
   "source": [
    "#visualizing their dimensions\n",
    "print( f' vector − {vector.ndim}')\n",
    "print( f' matrix − {matrix.ndim}')\n",
    "print( f' tensor − {tensor.ndim}')"
   ]
  },
  {
   "cell_type": "code",
   "execution_count": 9,
   "id": "4fa59450",
   "metadata": {},
   "outputs": [
    {
     "name": "stdout",
     "output_type": "stream",
     "text": [
      " vector − (6,)\n",
      " matrix − (3, 4)\n",
      " tensor − (3, 4, 5)\n"
     ]
    }
   ],
   "source": [
    "#visualizing their shapes\n",
    "print( f' vector − {vector.shape}')\n",
    "print( f' matrix − {matrix.shape}')\n",
    "print( f' tensor − {tensor.shape}')"
   ]
  },
  {
   "cell_type": "code",
   "execution_count": 10,
   "id": "9093a0fa",
   "metadata": {},
   "outputs": [
    {
     "name": "stdout",
     "output_type": "stream",
     "text": [
      " vector − 6\n",
      " matrix − 12\n",
      " tensor − 60\n"
     ]
    }
   ],
   "source": [
    "#visualizing their sizes\n",
    "print( f' vector − {vector.size}')\n",
    "print( f' matrix − {matrix.size}')\n",
    "print( f' tensor − {tensor.size}')"
   ]
  },
  {
   "cell_type": "code",
   "execution_count": 11,
   "id": "0d12c01d",
   "metadata": {},
   "outputs": [
    {
     "data": {
      "text/plain": [
       "dtype('int32')"
      ]
     },
     "execution_count": 11,
     "metadata": {},
     "output_type": "execute_result"
    }
   ],
   "source": [
    "#data type of the vector\n",
    "vector.dtype"
   ]
  },
  {
   "cell_type": "code",
   "execution_count": 12,
   "id": "08c7a70d",
   "metadata": {},
   "outputs": [
    {
     "data": {
      "text/plain": [
       "6"
      ]
     },
     "execution_count": 12,
     "metadata": {},
     "output_type": "execute_result"
    }
   ],
   "source": [
    "#using indexes on arrays\n",
    "vector[0]"
   ]
  },
  {
   "cell_type": "code",
   "execution_count": 13,
   "id": "0c59f031",
   "metadata": {},
   "outputs": [
    {
     "data": {
      "text/plain": [
       "array([2, 6, 7, 4])"
      ]
     },
     "execution_count": 13,
     "metadata": {},
     "output_type": "execute_result"
    }
   ],
   "source": [
    "matrix[0]"
   ]
  },
  {
   "cell_type": "code",
   "execution_count": 14,
   "id": "f6cb4b22",
   "metadata": {},
   "outputs": [
    {
     "data": {
      "text/plain": [
       "array([[5, 1, 4, 0, 9],\n",
       "       [5, 8, 0, 9, 2],\n",
       "       [6, 3, 8, 2, 4],\n",
       "       [2, 6, 4, 8, 6]])"
      ]
     },
     "execution_count": 14,
     "metadata": {},
     "output_type": "execute_result"
    }
   ],
   "source": [
    "tensor[0]"
   ]
  },
  {
   "cell_type": "code",
   "execution_count": 16,
   "id": "af053cfc",
   "metadata": {},
   "outputs": [
    {
     "data": {
      "text/plain": [
       "6"
      ]
     },
     "execution_count": 16,
     "metadata": {},
     "output_type": "execute_result"
    }
   ],
   "source": [
    "matrix[0][1]"
   ]
  },
  {
   "cell_type": "code",
   "execution_count": 19,
   "id": "de6b202d",
   "metadata": {},
   "outputs": [
    {
     "data": {
      "text/plain": [
       "2"
      ]
     },
     "execution_count": 19,
     "metadata": {},
     "output_type": "execute_result"
    }
   ],
   "source": [
    "tensor[0][1][4]"
   ]
  },
  {
   "cell_type": "code",
   "execution_count": 20,
   "id": "34b4e942",
   "metadata": {},
   "outputs": [
    {
     "data": {
      "text/plain": [
       "array([6, 3, 7])"
      ]
     },
     "execution_count": 20,
     "metadata": {},
     "output_type": "execute_result"
    }
   ],
   "source": [
    "#first 3 elements of the array\n",
    "vector[:3]"
   ]
  },
  {
   "cell_type": "code",
   "execution_count": 21,
   "id": "da9a6ecf",
   "metadata": {},
   "outputs": [
    {
     "data": {
      "text/plain": [
       "array([6, 7, 6])"
      ]
     },
     "execution_count": 21,
     "metadata": {},
     "output_type": "execute_result"
    }
   ],
   "source": [
    "#all every 2 elements\n",
    "vector[::2]"
   ]
  },
  {
   "cell_type": "code",
   "execution_count": 23,
   "id": "a4383636",
   "metadata": {},
   "outputs": [
    {
     "data": {
      "text/plain": [
       "array([[2, 7],\n",
       "       [3, 7],\n",
       "       [5, 1]])"
      ]
     },
     "execution_count": 23,
     "metadata": {},
     "output_type": "execute_result"
    }
   ],
   "source": [
    "#only even columns\n",
    "matrix[:, ::2]"
   ]
  },
  {
   "cell_type": "code",
   "execution_count": 24,
   "id": "8a67dd55",
   "metadata": {},
   "outputs": [
    {
     "data": {
      "text/plain": [
       "array([[2, 6, 7],\n",
       "       [3, 7, 7],\n",
       "       [5, 4, 1]])"
      ]
     },
     "execution_count": 24,
     "metadata": {},
     "output_type": "execute_result"
    }
   ],
   "source": [
    "#only the first half of columns\n",
    "matrix[:, :3]"
   ]
  },
  {
   "cell_type": "code",
   "execution_count": 25,
   "id": "fdfe406e",
   "metadata": {},
   "outputs": [
    {
     "data": {
      "text/plain": [
       "array([ 6, 99,  7,  4,  6,  9])"
      ]
     },
     "execution_count": 25,
     "metadata": {},
     "output_type": "execute_result"
    }
   ],
   "source": [
    "#changing a value \n",
    "vector[1] = 99\n",
    "vector"
   ]
  },
  {
   "cell_type": "code",
   "execution_count": 26,
   "id": "75041c72",
   "metadata": {},
   "outputs": [],
   "source": [
    "#changing more values\n",
    "matrix [:, 0] = np.zeros(3)"
   ]
  },
  {
   "cell_type": "code",
   "execution_count": 27,
   "id": "579f879c",
   "metadata": {},
   "outputs": [
    {
     "data": {
      "text/plain": [
       "array([[0, 6, 7, 4],\n",
       "       [0, 7, 7, 2],\n",
       "       [0, 4, 1, 7]])"
      ]
     },
     "execution_count": 27,
     "metadata": {},
     "output_type": "execute_result"
    }
   ],
   "source": [
    "matrix"
   ]
  },
  {
   "cell_type": "code",
   "execution_count": 28,
   "id": "ba353a58",
   "metadata": {},
   "outputs": [
    {
     "data": {
      "text/plain": [
       "array([0., 0., 0.])"
      ]
     },
     "execution_count": 28,
     "metadata": {},
     "output_type": "execute_result"
    }
   ],
   "source": [
    "#zero filled vector\n",
    "np.zeros(3)"
   ]
  },
  {
   "cell_type": "code",
   "execution_count": 29,
   "id": "bcfd8f33",
   "metadata": {},
   "outputs": [
    {
     "data": {
      "text/plain": [
       "array([[0., 0., 0., 0.],\n",
       "       [0., 0., 0., 0.],\n",
       "       [0., 0., 0., 0.]])"
      ]
     },
     "execution_count": 29,
     "metadata": {},
     "output_type": "execute_result"
    }
   ],
   "source": [
    "#zero filled matrix\n",
    "np.zeros((3,4))"
   ]
  },
  {
   "cell_type": "code",
   "execution_count": 30,
   "id": "ffee477a",
   "metadata": {},
   "outputs": [
    {
     "data": {
      "text/plain": [
       "array([1., 1., 1.])"
      ]
     },
     "execution_count": 30,
     "metadata": {},
     "output_type": "execute_result"
    }
   ],
   "source": [
    "#ones filled vector\n",
    "np.ones(3)"
   ]
  },
  {
   "cell_type": "code",
   "execution_count": 31,
   "id": "24ff3d66",
   "metadata": {},
   "outputs": [
    {
     "data": {
      "text/plain": [
       "array([[1., 1., 1., 1.],\n",
       "       [1., 1., 1., 1.],\n",
       "       [1., 1., 1., 1.]])"
      ]
     },
     "execution_count": 31,
     "metadata": {},
     "output_type": "execute_result"
    }
   ],
   "source": [
    "#ones filled matrix\n",
    "np.ones((3,4))"
   ]
  },
  {
   "cell_type": "code",
   "execution_count": 32,
   "id": "d9389080",
   "metadata": {},
   "outputs": [],
   "source": [
    "#this is a fake copy of an array\n",
    "fake_copy = vector"
   ]
  },
  {
   "cell_type": "code",
   "execution_count": 34,
   "id": "01c6275b",
   "metadata": {},
   "outputs": [
    {
     "name": "stdout",
     "output_type": "stream",
     "text": [
      "2531772746848\n",
      "2531772746848\n"
     ]
    }
   ],
   "source": [
    "print(id(fake_copy))\n",
    "print(id(vector))"
   ]
  },
  {
   "cell_type": "code",
   "execution_count": 35,
   "id": "a60677f8",
   "metadata": {},
   "outputs": [],
   "source": [
    "#this is a real copy of an array\n",
    "real_copy = vector.copy()"
   ]
  },
  {
   "cell_type": "code",
   "execution_count": 36,
   "id": "6f9a41ee",
   "metadata": {
    "scrolled": true
   },
   "outputs": [
    {
     "name": "stdout",
     "output_type": "stream",
     "text": [
      "2531773643072\n",
      "2531772746848\n"
     ]
    }
   ],
   "source": [
    "print(id(real_copy))\n",
    "print(id(vector))"
   ]
  },
  {
   "cell_type": "code",
   "execution_count": 38,
   "id": "ca3ee6de",
   "metadata": {},
   "outputs": [],
   "source": [
    "vector[0] = 99"
   ]
  },
  {
   "cell_type": "code",
   "execution_count": 39,
   "id": "2aa7e2f5",
   "metadata": {},
   "outputs": [
    {
     "name": "stdout",
     "output_type": "stream",
     "text": [
      "[99 99  7  4  6  9]\n",
      "[ 6 99  7  4  6  9]\n",
      "[99 99  7  4  6  9]\n"
     ]
    }
   ],
   "source": [
    "#by creating a fake copy you are sticking another sticker to the box\n",
    "print(vector)\n",
    "print(real_copy)\n",
    "print(fake_copy)"
   ]
  },
  {
   "cell_type": "code",
   "execution_count": 40,
   "id": "4e47f00b",
   "metadata": {},
   "outputs": [
    {
     "data": {
      "text/plain": [
       "array([1, 2, 3, 4, 5, 6])"
      ]
     },
     "execution_count": 40,
     "metadata": {},
     "output_type": "execute_result"
    }
   ],
   "source": [
    "#concatenation of a vector\n",
    "x1 = np.array([1, 2, 3])\n",
    "x2 = np.array([4, 5, 6])\n",
    "np.concatenate([x1, x2])"
   ]
  },
  {
   "cell_type": "code",
   "execution_count": 41,
   "id": "2f4f5ebd",
   "metadata": {},
   "outputs": [
    {
     "data": {
      "text/plain": [
       "array([[1, 2, 3],\n",
       "       [4, 5, 6],\n",
       "       [1, 2, 3],\n",
       "       [4, 5, 6]])"
      ]
     },
     "execution_count": 41,
     "metadata": {},
     "output_type": "execute_result"
    }
   ],
   "source": [
    "#concatenation of a matrix\n",
    "matrix = np.array([[1, 2, 3],[4, 5, 6]])\n",
    "np.concatenate([matrix, matrix])"
   ]
  },
  {
   "cell_type": "code",
   "execution_count": 42,
   "id": "eb3ec8ab",
   "metadata": {},
   "outputs": [
    {
     "data": {
      "text/plain": [
       "array([[1, 2, 3],\n",
       "       [4, 5, 6],\n",
       "       [7, 8, 9]])"
      ]
     },
     "execution_count": 42,
     "metadata": {},
     "output_type": "execute_result"
    }
   ],
   "source": [
    "#stack vertically arrays\n",
    "x = np.array([1, 2, 3])\n",
    "grid = np.array([[4, 5, 6],[7, 8, 9]])\n",
    "np.vstack([x, grid])"
   ]
  },
  {
   "cell_type": "code",
   "execution_count": 43,
   "id": "31f92c28",
   "metadata": {},
   "outputs": [
    {
     "data": {
      "text/plain": [
       "array([[99,  4,  5,  6],\n",
       "       [99,  7,  8,  9]])"
      ]
     },
     "execution_count": 43,
     "metadata": {},
     "output_type": "execute_result"
    }
   ],
   "source": [
    "#stack horizontally arrays\n",
    "x = np.array([[ 99 ], [ 99 ]])\n",
    "np.hstack([x, grid])"
   ]
  },
  {
   "cell_type": "code",
   "execution_count": 44,
   "id": "3d6cae06",
   "metadata": {},
   "outputs": [
    {
     "data": {
      "text/plain": [
       "array([1, 2, 3, 4, 5])"
      ]
     },
     "execution_count": 44,
     "metadata": {},
     "output_type": "execute_result"
    }
   ],
   "source": [
    "#splitting an array\n",
    "x = np.array([ 1, 2, 3, 4, 5, 6, 7, 8, 9, 10])\n",
    "first, second = np.split(x, [5])\n",
    "first"
   ]
  },
  {
   "cell_type": "code",
   "execution_count": 45,
   "id": "68af88e4",
   "metadata": {},
   "outputs": [
    {
     "data": {
      "text/plain": [
       "array([ 6,  7,  8,  9, 10])"
      ]
     },
     "execution_count": 45,
     "metadata": {},
     "output_type": "execute_result"
    }
   ],
   "source": [
    "second"
   ]
  },
  {
   "cell_type": "code",
   "execution_count": 46,
   "id": "36e21904",
   "metadata": {},
   "outputs": [
    {
     "data": {
      "text/plain": [
       "array([[ 0,  1,  2,  3],\n",
       "       [ 4,  5,  6,  7],\n",
       "       [ 8,  9, 10, 11],\n",
       "       [12, 13, 14, 15]])"
      ]
     },
     "execution_count": 46,
     "metadata": {},
     "output_type": "execute_result"
    }
   ],
   "source": [
    "#creating a matrix\n",
    "matrix = np.arange(16).reshape((4, 4))\n",
    "matrix"
   ]
  },
  {
   "cell_type": "code",
   "execution_count": 47,
   "id": "c895123e",
   "metadata": {},
   "outputs": [],
   "source": [
    "#splitting on a vertical axis\n",
    "upper, lower = np.vsplit(matrix, [2])"
   ]
  },
  {
   "cell_type": "code",
   "execution_count": 48,
   "id": "ff62da66",
   "metadata": {},
   "outputs": [
    {
     "data": {
      "text/plain": [
       "array([[0, 1, 2, 3],\n",
       "       [4, 5, 6, 7]])"
      ]
     },
     "execution_count": 48,
     "metadata": {},
     "output_type": "execute_result"
    }
   ],
   "source": [
    "upper"
   ]
  },
  {
   "cell_type": "code",
   "execution_count": 49,
   "id": "96b1b938",
   "metadata": {},
   "outputs": [
    {
     "data": {
      "text/plain": [
       "array([[ 8,  9, 10, 11],\n",
       "       [12, 13, 14, 15]])"
      ]
     },
     "execution_count": 49,
     "metadata": {},
     "output_type": "execute_result"
    }
   ],
   "source": [
    "lower"
   ]
  },
  {
   "cell_type": "code",
   "execution_count": 50,
   "id": "fecf56ad",
   "metadata": {},
   "outputs": [],
   "source": [
    "#splitting on a horizontal axis\n",
    "left, right = np.hsplit(matrix, [2])"
   ]
  },
  {
   "cell_type": "code",
   "execution_count": 51,
   "id": "37c26105",
   "metadata": {},
   "outputs": [
    {
     "data": {
      "text/plain": [
       "array([[ 0,  1],\n",
       "       [ 4,  5],\n",
       "       [ 8,  9],\n",
       "       [12, 13]])"
      ]
     },
     "execution_count": 51,
     "metadata": {},
     "output_type": "execute_result"
    }
   ],
   "source": [
    "left"
   ]
  },
  {
   "cell_type": "code",
   "execution_count": 52,
   "id": "b4e3dd53",
   "metadata": {},
   "outputs": [
    {
     "data": {
      "text/plain": [
       "array([[ 2,  3],\n",
       "       [ 6,  7],\n",
       "       [10, 11],\n",
       "       [14, 15]])"
      ]
     },
     "execution_count": 52,
     "metadata": {},
     "output_type": "execute_result"
    }
   ],
   "source": [
    "right"
   ]
  },
  {
   "cell_type": "code",
   "execution_count": 55,
   "id": "26c1f30d",
   "metadata": {},
   "outputs": [],
   "source": [
    "def compute_inverse(values):\n",
    "    #np.empty generates an empty array that can be filled after \n",
    "    out = np.empty(len(values))\n",
    "    for i in range(len(values)):\n",
    "        #computin the inverse\n",
    "        out[i] = 1.0 / values[i]\n",
    "    return out"
   ]
  },
  {
   "cell_type": "code",
   "execution_count": 56,
   "id": "c0a3c403",
   "metadata": {},
   "outputs": [
    {
     "data": {
      "text/plain": [
       "array([1.        , 0.125     , 0.125     , 0.33333333, 1.        ])"
      ]
     },
     "execution_count": 56,
     "metadata": {},
     "output_type": "execute_result"
    }
   ],
   "source": [
    "values = np.random.randint( 1, 10, size = 5)\n",
    "computeinverse(values)"
   ]
  },
  {
   "cell_type": "code",
   "execution_count": 57,
   "id": "82943368",
   "metadata": {},
   "outputs": [],
   "source": [
    "big_array = np.random.randint(1, 100, size = 1000000)"
   ]
  },
  {
   "cell_type": "code",
   "execution_count": 60,
   "id": "142762b5",
   "metadata": {},
   "outputs": [
    {
     "name": "stdout",
     "output_type": "stream",
     "text": [
      "4.16 s ± 0 ns per loop (mean ± std. dev. of 1 run, 1 loop each)\n"
     ]
    }
   ],
   "source": [
    "#measuring how long it takes for the cell to run\n",
    "%%timeit -n 1 -r 1\n",
    "compute_inverse(big_array)"
   ]
  },
  {
   "cell_type": "code",
   "execution_count": 61,
   "id": "3dde568f",
   "metadata": {},
   "outputs": [
    {
     "name": "stdout",
     "output_type": "stream",
     "text": [
      "[0.125      0.02857143 0.02857143 ... 0.02       0.09090909 0.01041667]\n",
      "6.45 ms ± 0 ns per loop (mean ± std. dev. of 1 run, 1 loop each)\n"
     ]
    }
   ],
   "source": [
    "#how long it takes numpy to do it\n",
    "%%timeit -n 1 -r 1\n",
    "print(1.0 / big_array)"
   ]
  },
  {
   "cell_type": "code",
   "execution_count": 62,
   "id": "c630d6b0",
   "metadata": {},
   "outputs": [],
   "source": [
    "#creating an ordered array\n",
    "x = np.arange(10)"
   ]
  },
  {
   "cell_type": "code",
   "execution_count": 63,
   "id": "d6be6271",
   "metadata": {},
   "outputs": [
    {
     "data": {
      "text/plain": [
       "array([0, 1, 2, 3, 4, 5, 6, 7, 8, 9])"
      ]
     },
     "execution_count": 63,
     "metadata": {},
     "output_type": "execute_result"
    }
   ],
   "source": [
    "x"
   ]
  },
  {
   "cell_type": "code",
   "execution_count": 64,
   "id": "ccd9f48d",
   "metadata": {},
   "outputs": [
    {
     "data": {
      "text/plain": [
       "array([ 2,  3,  4,  5,  6,  7,  8,  9, 10, 11])"
      ]
     },
     "execution_count": 64,
     "metadata": {},
     "output_type": "execute_result"
    }
   ],
   "source": [
    "#addition\n",
    "x + 2"
   ]
  },
  {
   "cell_type": "code",
   "execution_count": 68,
   "id": "4f14540f",
   "metadata": {},
   "outputs": [
    {
     "data": {
      "text/plain": [
       "array([-2, -1,  0,  1,  2,  3,  4,  5,  6,  7])"
      ]
     },
     "execution_count": 68,
     "metadata": {},
     "output_type": "execute_result"
    }
   ],
   "source": [
    "#substraction\n",
    "x - 2"
   ]
  },
  {
   "cell_type": "code",
   "execution_count": 67,
   "id": "edf6ac7f",
   "metadata": {},
   "outputs": [
    {
     "data": {
      "text/plain": [
       "array([ 0,  3,  6,  9, 12, 15, 18, 21, 24, 27])"
      ]
     },
     "execution_count": 67,
     "metadata": {},
     "output_type": "execute_result"
    }
   ],
   "source": [
    "#multiplication\n",
    "x * 3"
   ]
  },
  {
   "cell_type": "code",
   "execution_count": 69,
   "id": "4715a457",
   "metadata": {},
   "outputs": [
    {
     "data": {
      "text/plain": [
       "array([0.  , 0.25, 0.5 , 0.75, 1.  , 1.25, 1.5 , 1.75, 2.  , 2.25])"
      ]
     },
     "execution_count": 69,
     "metadata": {},
     "output_type": "execute_result"
    }
   ],
   "source": [
    "#division\n",
    "x / 4"
   ]
  },
  {
   "cell_type": "code",
   "execution_count": 70,
   "id": "44f6fd9e",
   "metadata": {},
   "outputs": [
    {
     "data": {
      "text/plain": [
       "array([0, 0, 0, 0, 1, 1, 1, 1, 2, 2], dtype=int32)"
      ]
     },
     "execution_count": 70,
     "metadata": {},
     "output_type": "execute_result"
    }
   ],
   "source": [
    "# floor division\n",
    "x // 4"
   ]
  },
  {
   "cell_type": "code",
   "execution_count": 71,
   "id": "d0e65b1e",
   "metadata": {},
   "outputs": [
    {
     "data": {
      "text/plain": [
       "array([ 0,  1,  4,  9, 16, 25, 36, 49, 64, 81], dtype=int32)"
      ]
     },
     "execution_count": 71,
     "metadata": {},
     "output_type": "execute_result"
    }
   ],
   "source": [
    "x ** 2"
   ]
  },
  {
   "cell_type": "code",
   "execution_count": 72,
   "id": "04766133",
   "metadata": {},
   "outputs": [
    {
     "data": {
      "text/plain": [
       "array([0, 1, 2, 0, 1, 2, 0, 1, 2, 0], dtype=int32)"
      ]
     },
     "execution_count": 72,
     "metadata": {},
     "output_type": "execute_result"
    }
   ],
   "source": [
    "x % 3"
   ]
  },
  {
   "cell_type": "code",
   "execution_count": 73,
   "id": "895f8ff7",
   "metadata": {},
   "outputs": [
    {
     "data": {
      "text/plain": [
       "array([ 2,  3,  4,  5,  6,  7,  8,  9, 10, 11])"
      ]
     },
     "execution_count": 73,
     "metadata": {},
     "output_type": "execute_result"
    }
   ],
   "source": [
    "#numpy\n",
    "#addition\n",
    "np.add(x, 2)"
   ]
  },
  {
   "cell_type": "code",
   "execution_count": 76,
   "id": "60e5503b",
   "metadata": {},
   "outputs": [
    {
     "data": {
      "text/plain": [
       "array([-2, -1,  0,  1,  2,  3,  4,  5,  6,  7])"
      ]
     },
     "execution_count": 76,
     "metadata": {},
     "output_type": "execute_result"
    }
   ],
   "source": [
    "#substraction\n",
    "np.subtract(x, 2)"
   ]
  },
  {
   "cell_type": "code",
   "execution_count": 77,
   "id": "30b214e2",
   "metadata": {},
   "outputs": [
    {
     "data": {
      "text/plain": [
       "array([ 0,  3,  6,  9, 12, 15, 18, 21, 24, 27])"
      ]
     },
     "execution_count": 77,
     "metadata": {},
     "output_type": "execute_result"
    }
   ],
   "source": [
    "#multiplication\n",
    "np.multiply(x, 3)"
   ]
  },
  {
   "cell_type": "code",
   "execution_count": 78,
   "id": "2ee03b6c",
   "metadata": {},
   "outputs": [
    {
     "data": {
      "text/plain": [
       "array([0.  , 0.25, 0.5 , 0.75, 1.  , 1.25, 1.5 , 1.75, 2.  , 2.25])"
      ]
     },
     "execution_count": 78,
     "metadata": {},
     "output_type": "execute_result"
    }
   ],
   "source": [
    "#division\n",
    "np.divide(x, 4)"
   ]
  },
  {
   "cell_type": "code",
   "execution_count": 80,
   "id": "71454e8f",
   "metadata": {},
   "outputs": [
    {
     "data": {
      "text/plain": [
       "array([0, 0, 0, 0, 1, 1, 1, 1, 2, 2], dtype=int32)"
      ]
     },
     "execution_count": 80,
     "metadata": {},
     "output_type": "execute_result"
    }
   ],
   "source": [
    "#floor division\n",
    "np.floor_divide(x, 4)"
   ]
  },
  {
   "cell_type": "code",
   "execution_count": 81,
   "id": "a0c60625",
   "metadata": {},
   "outputs": [
    {
     "data": {
      "text/plain": [
       "array([ 0,  1,  4,  9, 16, 25, 36, 49, 64, 81], dtype=int32)"
      ]
     },
     "execution_count": 81,
     "metadata": {},
     "output_type": "execute_result"
    }
   ],
   "source": [
    "#power\n",
    "np.power(x, 2)"
   ]
  },
  {
   "cell_type": "code",
   "execution_count": 82,
   "id": "78c8bc47",
   "metadata": {},
   "outputs": [
    {
     "data": {
      "text/plain": [
       "array([0, 1, 2, 0, 1, 2, 0, 1, 2, 0], dtype=int32)"
      ]
     },
     "execution_count": 82,
     "metadata": {},
     "output_type": "execute_result"
    }
   ],
   "source": [
    "#mod\n",
    "np.mod(x, 3)"
   ]
  },
  {
   "cell_type": "code",
   "execution_count": 87,
   "id": "603f9496",
   "metadata": {},
   "outputs": [
    {
     "data": {
      "text/plain": [
       "array([0, 1, 2, 3, 4, 5, 6, 7, 8, 9])"
      ]
     },
     "execution_count": 87,
     "metadata": {},
     "output_type": "execute_result"
    }
   ],
   "source": [
    "#absolute value\n",
    "x = np.array([0, -1, 2, -3, -4, -5, 6, 7, 8, 9])\n",
    "abs(x)\n"
   ]
  },
  {
   "cell_type": "code",
   "execution_count": 88,
   "id": "094cef1f",
   "metadata": {},
   "outputs": [
    {
     "data": {
      "text/plain": [
       "array([0, 1, 2, 3, 4, 5, 6, 7, 8, 9])"
      ]
     },
     "execution_count": 88,
     "metadata": {},
     "output_type": "execute_result"
    }
   ],
   "source": [
    "np.absolute(x)"
   ]
  },
  {
   "cell_type": "code",
   "execution_count": 89,
   "id": "4bb486aa",
   "metadata": {},
   "outputs": [
    {
     "data": {
      "text/plain": [
       "array([0, 1, 2, 3, 4, 5, 6, 7, 8, 9])"
      ]
     },
     "execution_count": 89,
     "metadata": {},
     "output_type": "execute_result"
    }
   ],
   "source": [
    "np.abs(x)"
   ]
  },
  {
   "cell_type": "code",
   "execution_count": 90,
   "id": "36ff621a",
   "metadata": {},
   "outputs": [],
   "source": [
    "x = np.random.random(100)"
   ]
  },
  {
   "cell_type": "code",
   "execution_count": 91,
   "id": "9ed54cf4",
   "metadata": {},
   "outputs": [
    {
     "data": {
      "text/plain": [
       "array([0.94246305, 0.90809787, 0.30829823, 0.07541285, 0.45684936,\n",
       "       0.45911108, 0.98387226, 0.788516  , 0.82948323, 0.05866519,\n",
       "       0.73779015, 0.41425653, 0.1390659 , 0.63274185, 0.8397513 ,\n",
       "       0.50112975, 0.82243518, 0.95960739, 0.69508526, 0.16384447,\n",
       "       0.39285934, 0.97803683, 0.11432019, 0.14439511, 0.99243693,\n",
       "       0.83730484, 0.90310265, 0.3032827 , 0.46461951, 0.69317212,\n",
       "       0.16809046, 0.1293037 , 0.92975433, 0.87575531, 0.15431614,\n",
       "       0.73694536, 0.58762029, 0.26854487, 0.31496562, 0.27925196,\n",
       "       0.86750038, 0.1265844 , 0.27301479, 0.28748263, 0.86923281,\n",
       "       0.43991381, 0.57170028, 0.48866832, 0.32302852, 0.27059472,\n",
       "       0.89762553, 0.72866725, 0.67302116, 0.49219424, 0.92828503,\n",
       "       0.38617134, 0.25550028, 0.73857229, 0.99215422, 0.44516222,\n",
       "       0.69041818, 0.21033487, 0.80472719, 0.47356404, 0.97418272,\n",
       "       0.85375244, 0.14600414, 0.410685  , 0.6906934 , 0.11353877,\n",
       "       0.51628763, 0.58091506, 0.89581771, 0.87993057, 0.24566322,\n",
       "       0.74764971, 0.14486956, 0.95008296, 0.60903986, 0.33257064,\n",
       "       0.91169721, 0.22921423, 0.47582206, 0.13313429, 0.86725157,\n",
       "       0.30331628, 0.09469936, 0.09941514, 0.30344518, 0.63035193,\n",
       "       0.87701552, 0.72824975, 0.85329206, 0.86034985, 0.43573415,\n",
       "       0.034084  , 0.04056478, 0.25874511, 0.64603018, 0.52319422])"
      ]
     },
     "execution_count": 91,
     "metadata": {},
     "output_type": "execute_result"
    }
   ],
   "source": [
    "x"
   ]
  },
  {
   "cell_type": "code",
   "execution_count": 92,
   "id": "ce60ac57",
   "metadata": {},
   "outputs": [
    {
     "data": {
      "text/plain": [
       "53.61596393222919"
      ]
     },
     "execution_count": 92,
     "metadata": {},
     "output_type": "execute_result"
    }
   ],
   "source": [
    "#sum of elements\n",
    "np.sum(x)"
   ]
  },
  {
   "cell_type": "code",
   "execution_count": 93,
   "id": "fc38331a",
   "metadata": {},
   "outputs": [
    {
     "data": {
      "text/plain": [
       "0.03408400044630544"
      ]
     },
     "execution_count": 93,
     "metadata": {},
     "output_type": "execute_result"
    }
   ],
   "source": [
    "#minimal value\n",
    "np.min(x)"
   ]
  },
  {
   "cell_type": "code",
   "execution_count": 95,
   "id": "4eab0f49",
   "metadata": {},
   "outputs": [
    {
     "data": {
      "text/plain": [
       "0.9924369280116836"
      ]
     },
     "execution_count": 95,
     "metadata": {},
     "output_type": "execute_result"
    }
   ],
   "source": [
    "#maximum value\n",
    "np.max(x)"
   ]
  },
  {
   "cell_type": "code",
   "execution_count": 96,
   "id": "46b9ecd1",
   "metadata": {},
   "outputs": [
    {
     "data": {
      "text/plain": [
       "0.5361596393222919"
      ]
     },
     "execution_count": 96,
     "metadata": {},
     "output_type": "execute_result"
    }
   ],
   "source": [
    "#mean value\n",
    "np.mean(x)"
   ]
  },
  {
   "cell_type": "code",
   "execution_count": 97,
   "id": "978d6cf6",
   "metadata": {},
   "outputs": [
    {
     "data": {
      "text/plain": [
       "0.5087086870180744"
      ]
     },
     "execution_count": 97,
     "metadata": {},
     "output_type": "execute_result"
    }
   ],
   "source": [
    "#median value\n",
    "np.median(x)"
   ]
  },
  {
   "cell_type": "code",
   "execution_count": 98,
   "id": "2914f737",
   "metadata": {},
   "outputs": [],
   "source": [
    "#creating a random array with 2 columns and 5 rows\n",
    "x2 = np.random.random((5, 2))"
   ]
  },
  {
   "cell_type": "code",
   "execution_count": 99,
   "id": "4e473c82",
   "metadata": {},
   "outputs": [
    {
     "data": {
      "text/plain": [
       "array([[0.12583801, 0.88380128],\n",
       "       [0.1624099 , 0.63861793],\n",
       "       [0.85031049, 0.13421567],\n",
       "       [0.80839459, 0.39809619],\n",
       "       [0.18267203, 0.61944264]])"
      ]
     },
     "execution_count": 99,
     "metadata": {},
     "output_type": "execute_result"
    }
   ],
   "source": [
    "x2"
   ]
  },
  {
   "cell_type": "code",
   "execution_count": 100,
   "id": "d5dca896",
   "metadata": {},
   "outputs": [
    {
     "data": {
      "text/plain": [
       "array([0.12583801, 0.1624099 , 0.13421567, 0.39809619, 0.18267203])"
      ]
     },
     "execution_count": 100,
     "metadata": {},
     "output_type": "execute_result"
    }
   ],
   "source": [
    "#the minimum value of every row\n",
    "x2.min(axis = 1)"
   ]
  },
  {
   "cell_type": "code",
   "execution_count": 101,
   "id": "cae12c16",
   "metadata": {},
   "outputs": [
    {
     "data": {
      "text/plain": [
       "array([0.12583801, 0.13421567])"
      ]
     },
     "execution_count": 101,
     "metadata": {},
     "output_type": "execute_result"
    }
   ],
   "source": [
    "#the minimum value of every column\n",
    "x2.min(axis = 0)"
   ]
  },
  {
   "cell_type": "code",
   "execution_count": 102,
   "id": "63c2326e",
   "metadata": {},
   "outputs": [
    {
     "data": {
      "text/plain": [
       "32"
      ]
     },
     "execution_count": 102,
     "metadata": {},
     "output_type": "execute_result"
    }
   ],
   "source": [
    "a = np.array([1, 2, 3])\n",
    "b = np.array([4, 5, 6])\n",
    "np.dot(a, b)"
   ]
  },
  {
   "cell_type": "code",
   "execution_count": 103,
   "id": "18c46866",
   "metadata": {},
   "outputs": [],
   "source": [
    "matrix = np.array([[1, 2, 3], [4, 5, 6]])"
   ]
  },
  {
   "cell_type": "code",
   "execution_count": 105,
   "id": "b3f713e5",
   "metadata": {},
   "outputs": [
    {
     "data": {
      "text/plain": [
       "array([14, 32])"
      ]
     },
     "execution_count": 105,
     "metadata": {},
     "output_type": "execute_result"
    }
   ],
   "source": [
    "np.dot(matrix, a)"
   ]
  },
  {
   "cell_type": "code",
   "execution_count": null,
   "id": "e91b5bbd",
   "metadata": {},
   "outputs": [],
   "source": []
  }
 ],
 "metadata": {
  "kernelspec": {
   "display_name": "Python 3 (ipykernel)",
   "language": "python",
   "name": "python3"
  },
  "language_info": {
   "codemirror_mode": {
    "name": "ipython",
    "version": 3
   },
   "file_extension": ".py",
   "mimetype": "text/x-python",
   "name": "python",
   "nbconvert_exporter": "python",
   "pygments_lexer": "ipython3",
   "version": "3.7.7"
  }
 },
 "nbformat": 4,
 "nbformat_minor": 5
}
